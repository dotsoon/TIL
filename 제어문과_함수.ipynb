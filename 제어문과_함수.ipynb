{
  "nbformat": 4,
  "nbformat_minor": 0,
  "metadata": {
    "colab": {
      "name": "제어문과 함수.ipynb",
      "provenance": [],
      "collapsed_sections": [],
      "toc_visible": true,
      "include_colab_link": true
    },
    "kernelspec": {
      "name": "python3",
      "display_name": "Python 3"
    },
    "language_info": {
      "name": "python"
    }
  },
  "cells": [
    {
      "cell_type": "markdown",
      "metadata": {
        "id": "view-in-github",
        "colab_type": "text"
      },
      "source": [
        "<a href=\"https://colab.research.google.com/github/dotsoon/TIL/blob/master/%EC%A0%9C%EC%96%B4%EB%AC%B8%EA%B3%BC_%ED%95%A8%EC%88%98.ipynb\" target=\"_parent\"><img src=\"https://colab.research.google.com/assets/colab-badge.svg\" alt=\"Open In Colab\"/></a>"
      ]
    },
    {
      "cell_type": "markdown",
      "metadata": {
        "id": "ipQgeM7j82Wd"
      },
      "source": [
        "# 제어문\n",
        "- 거의 대부분의 언어가 비슷합니다. \n",
        "  - 2가지의 제어문을 가지고 전체 코드의 실행 흐름을 제어\n",
        "  - 분기문, 반복문\n",
        "- 2가지 밖에 없기 때문에, 쉬워보일 수도 있지만\n",
        "  - 반대로 생각하면, 2가지만 가지고 모든 흐름을 전부 제어\n",
        "  - 그래서, 생각보다는 어렵습니다. \n",
        "  - 진짜 연습을 많이 해야되는 부분이기도 하고, 제일 중요한 부분\n",
        "    - 알고리즘이란, 제어문을 다루는 방법 이라고 봐도 될 것 같습니다.\n",
        "    - 코린이 여러분들이 가장 많이 포기하는 구간(특히 반복문)"
      ]
    },
    {
      "cell_type": "markdown",
      "metadata": {
        "id": "_R0ojVlj_jvr"
      },
      "source": [
        "## 분기문(조건문)\n",
        "- 파이썬은 `if` 하나만 제공을 합니다. \n",
        "  - 또다른 방법은 없습니다\n",
        "  - 다른 언어와 같은 경우는 `switch-case`와 같은 동일한 작업을 하는 다른 문법이 있습니다. \n",
        "  - 사실 `if`와 `switch-case`가 같이 있을 필요는 없습니다 \n",
        "    - 두 문법은 표현만 다르고, 동작은 똑같습니다.\n",
        "    - 표현의 다양성 정도로 해석을 할 수 있을 것 같은데\n",
        "    - 코린이 입장에서는 오히려 더 헷갈릴 수 있습니다. \n",
        "    - 파이썬에서는 같은 일을 하는 여러 문법이 존재할 필요가 없다고 생각\n",
        "\n",
        "- 기본적인 형태는 다음과 같습니다. \n",
        "\n",
        "```\n",
        "if 명제:\n",
        "[들여쓰기] 명령어들 ... \n",
        "```"
      ]
    },
    {
      "cell_type": "markdown",
      "metadata": {
        "id": "sWF2kEcjBSPG"
      },
      "source": [
        "### 들여쓰기\n",
        "- 파이썬 에서는 반드시 모든 명령어들이 잘 정렬되어 있어야 합니다. \n",
        "- 파이썬이 `교육용` 목적으로 만들어진 언어 입니다. \n",
        "  - `들여쓰기` 교육을 하기 위해서 일부러 강제 하는 겁니다. \n",
        "  - 코드를 작성할 때, 들여쓰기는 매우 중요합니다.(가독성)"
      ]
    },
    {
      "cell_type": "code",
      "metadata": {
        "colab": {
          "base_uri": "https://localhost:8080/",
          "height": 131
        },
        "id": "_oNDTJjYB-No",
        "outputId": "479b7966-69d5-420d-b2ec-d216932bd5a2"
      },
      "source": [
        "# 파이썬은 반드시 모든 명령어를 정렬해줘야 합니다. \n",
        "print('hello')\n",
        "  print('python')"
      ],
      "execution_count": null,
      "outputs": [
        {
          "output_type": "error",
          "ename": "IndentationError",
          "evalue": "ignored",
          "traceback": [
            "\u001b[0;36m  File \u001b[0;32m\"<ipython-input-6-45d69fab1847>\"\u001b[0;36m, line \u001b[0;32m3\u001b[0m\n\u001b[0;31m    print('python')\u001b[0m\n\u001b[0m    ^\u001b[0m\n\u001b[0;31mIndentationError\u001b[0m\u001b[0;31m:\u001b[0m unexpected indent\n"
          ]
        }
      ]
    },
    {
      "cell_type": "code",
      "metadata": {
        "colab": {
          "base_uri": "https://localhost:8080/"
        },
        "id": "QfOy576yD_p2",
        "outputId": "9c2f5eed-9619-4d89-b864-c62b37331abf"
      },
      "source": [
        "# if 블록에는 명제가 참인 경우에 실행하고자 하는 명령어들이 들어가면 됩니다. \n",
        "# 같은 블록은 같은 들여쓰기를 사용하게 됩니다. \n",
        "# 즉, 명령어들의 들여쓰기가 같으면, 같은 블록인 인식\n",
        "# 명령어들의 들여쓰기가 다르면, 다른 블록으로 인식이 됩니다. \n",
        "\n",
        "mem = [1, 2, 3, 4]\n",
        "if 10 in mem:\n",
        "  # if 블록\n",
        "  # 들여쓰기를 하는 것에 주의\n",
        "  # 명제가 참이라면, 블록내의 코드가 실행\n",
        "  print('명제가 참이라면 실행')\n",
        "print('같은 블록인가?')"
      ],
      "execution_count": null,
      "outputs": [
        {
          "output_type": "stream",
          "name": "stdout",
          "text": [
            "같은 블록인가?\n"
          ]
        }
      ]
    },
    {
      "cell_type": "markdown",
      "metadata": {
        "id": "4zKBQhxLFcUl"
      },
      "source": [
        "**파이썬은 블록을 표현할 때, 들여쓰기를 이용해서 표현**\n",
        "- 같은 들여쓰기를 해야 같은 블록으로 인식\n",
        "  - 들여쓰기를 할 때, 탭과 공백을 구분 합니다. \n",
        "  - 반드시 같은 문자로, 같은 크기만큼 들여쓰기를 해야 합니다(무조건)\n",
        "  - 대부분의 에디터들은 탭을 공백으로 변환해주는 기능이 있습니다. \n",
        "    - 그렇기 때문에 탭과 공백을 구분하지 않는것처럼 보이지만, 구분합니다\n",
        "- 실제로 호불호가 많은 문법이긴 합니다. \n",
        "  - 파이썬 코린이들에게 들여쓰기를 습관화 하기 위해서 이러한 문법을 사용\n",
        "  - 가독성 때문에 그렇습니다. \n",
        "\n",
        "- 가독성을 최대로 무시하면 다음과 같은 코드의 작성도 가능합니다. \n",
        "  - [예술적인 C코드](https://okky.kr/article/30346)\n",
        "  - 모든 언어가 효율성과 가독성을 추구할 필요는 없다 \n",
        "    - 비효율성과 비가독성을 주제한 한 대회\n",
        "    - 만약에 여기서 버그가 발생한다면? 절대 못 찾아요!"
      ]
    },
    {
      "cell_type": "markdown",
      "metadata": {
        "id": "Ee6DCwVlH4Tf"
      },
      "source": [
        "### 다양한 형태의 if문들"
      ]
    },
    {
      "cell_type": "code",
      "metadata": {
        "colab": {
          "base_uri": "https://localhost:8080/",
          "height": 131
        },
        "id": "a422cU4KH9Tg",
        "outputId": "b17538e3-63c2-4f71-bd50-be5b6ec6110f"
      },
      "source": [
        "# 파이썬은 빈 블록을 허용하지 않습니다. \n",
        "# 블록 내에 반드시 1개 이상의 명령어를 포함\n",
        "if 1 in mem:"
      ],
      "execution_count": null,
      "outputs": [
        {
          "output_type": "error",
          "ename": "SyntaxError",
          "evalue": "ignored",
          "traceback": [
            "\u001b[0;36m  File \u001b[0;32m\"<ipython-input-15-50368f684e76>\"\u001b[0;36m, line \u001b[0;32m2\u001b[0m\n\u001b[0;31m    if 1 in mem:\u001b[0m\n\u001b[0m                ^\u001b[0m\n\u001b[0;31mSyntaxError\u001b[0m\u001b[0;31m:\u001b[0m unexpected EOF while parsing\n"
          ]
        }
      ]
    },
    {
      "cell_type": "code",
      "metadata": {
        "id": "xK5YksT7IHjv"
      },
      "source": [
        "# 빈 블록을 작성하고 싶다면, pass를 이용하면 됩니다. \n",
        "# pass를 적어주면, 예외가 발생하는 것을 막을 수 있습니다. \n",
        "if 1 in mem: \n",
        "  pass"
      ],
      "execution_count": null,
      "outputs": []
    },
    {
      "cell_type": "markdown",
      "metadata": {
        "id": "B8TG4AkRIZ_K"
      },
      "source": [
        "개발자들이 주로 사용하는 트릭\n",
        "- 반드시 참, 거짓으로 반환되지 않아도 됩니다. \n",
        "- 0과 빈객체(빈 문자열, 빈 리스트, ... )을 제외한 나머지는 참으로 인식\n",
        "  - if 다음에 오는 명령어들은 전부 bool()에 의해서 변환 됩니다. \n",
        "- 명제가 아니어도 if는 형변환을 통해서 무조건 True, False를 판단\n",
        "  - 그렇기 때문에 대부분의 명령어들은 명제로 사용될 수 있다. \n",
        "  - 0과 빈 객체(빈 문자열, 빈 리스트, .. )를 제외한 나머지는 전부 참"
      ]
    },
    {
      "cell_type": "code",
      "metadata": {
        "colab": {
          "base_uri": "https://localhost:8080/"
        },
        "id": "s-y3BP8oIM6z",
        "outputId": "8ae3c4bd-10b8-41fe-b5ef-2c856d48b2f6"
      },
      "source": [
        "# 이런 경우 참, 거짓을 구분할 수 없기 때문에 명제로 사용될 수 없는데\n",
        "# 명제처럼 사용이 가능합니다. \n",
        "1 + 1"
      ],
      "execution_count": null,
      "outputs": [
        {
          "output_type": "execute_result",
          "data": {
            "text/plain": [
              "2"
            ]
          },
          "metadata": {},
          "execution_count": 20
        }
      ]
    },
    {
      "cell_type": "code",
      "metadata": {
        "colab": {
          "base_uri": "https://localhost:8080/"
        },
        "id": "zUldpfsAJFko",
        "outputId": "e3f4d0ed-96fb-47eb-9e39-888ea381d5ac"
      },
      "source": [
        "bool(1 + 1)"
      ],
      "execution_count": null,
      "outputs": [
        {
          "output_type": "execute_result",
          "data": {
            "text/plain": [
              "True"
            ]
          },
          "metadata": {},
          "execution_count": 22
        }
      ]
    },
    {
      "cell_type": "code",
      "metadata": {
        "colab": {
          "base_uri": "https://localhost:8080/"
        },
        "id": "Nkr6IMpRI9RI",
        "outputId": "bfcb3cb0-a094-4872-8a91-3235e08f7d1c"
      },
      "source": [
        "if 1 + 1:\n",
        "  print('연산의 결과가 0이 아니므로, 참이 됩니다')"
      ],
      "execution_count": null,
      "outputs": [
        {
          "output_type": "stream",
          "name": "stdout",
          "text": [
            "연산의 결과가 0이 아니므로, 참이 됩니다\n"
          ]
        }
      ]
    },
    {
      "cell_type": "code",
      "metadata": {
        "id": "QLKRt9k8JPsA"
      },
      "source": [
        "if 1 - 1:\n",
        "  print('연산의 결과가 0이 되므로, 거짓으로 인식합니다')"
      ],
      "execution_count": null,
      "outputs": []
    },
    {
      "cell_type": "markdown",
      "metadata": {
        "id": "GEtteWMRa2k7"
      },
      "source": [
        "기본 형태에서 조금 더 확장해보겠습니다."
      ]
    },
    {
      "cell_type": "code",
      "metadata": {
        "colab": {
          "base_uri": "https://localhost:8080/"
        },
        "id": "VjK1pIETa6tj",
        "outputId": "32ff3cf7-da30-4bff-9ded-5082033169fb"
      },
      "source": [
        "# 거짓인 경우에 실행할 수 있는 블록을 추가\n",
        "# 둘 중에 하나는 반드시 분기된다.\n",
        "\n",
        "if 10 in mem:\n",
        "  # if블록\n",
        "  print('명제가 참인 경우에 실행')\n",
        "else:\n",
        "  # else 블록\n",
        "  print('명제가 거짓인 경우에 실행')"
      ],
      "execution_count": null,
      "outputs": [
        {
          "output_type": "stream",
          "name": "stdout",
          "text": [
            "명제가 거짓인 경우에 실행\n"
          ]
        }
      ]
    },
    {
      "cell_type": "markdown",
      "metadata": {
        "id": "wp_kn-lwbR0m"
      },
      "source": [
        "if 블록과 else블록 중에 한곳으로는 반드시 분기 됩니다. \n",
        "  - 두 블록 모두 실행이 되거나, 두 블록이 모두 실행이 되지 않는 경우는 발생할 수 없습니다. \n",
        "  - 무조건 어느 한 블록으로는 분기가 됩니다. \n",
        "\n",
        "만약에, 그렇지 않다는 것은?\n",
        "- 두 블록이 모두 실행이 되는 경우\n",
        "  - 참, 거짓이 동시에 존재\n",
        "  - 어떤 명제가 참인 동시에 거짓인 경우는 없습니다. \n",
        "\n",
        "- 두 블록이 모두 실행이 안되는 경우\n",
        "  - 어떤 명제가 참도 아니고, 거짓도 아닌 경우는 존재할 수 없습니다. "
      ]
    },
    {
      "cell_type": "code",
      "metadata": {
        "colab": {
          "base_uri": "https://localhost:8080/",
          "height": 131
        },
        "id": "DkTCh1d3cF0D",
        "outputId": "feb91fd0-656c-4618-fc01-ef1dd46d2222"
      },
      "source": [
        "# 그렇기 때문에, 다음과 같은 코드는 논리적으로도 맞지 않지만, 문법적으로도 허용하지 않습니다\n",
        "if 10 in mem:\n",
        "  print('참이면 실행')\n",
        "else:\n",
        "  print('거짓이면 실행')\n",
        "else: # 이런 문법은 있을 수 없어요!\n",
        "  print('이건 해석 불가능')"
      ],
      "execution_count": null,
      "outputs": [
        {
          "output_type": "error",
          "ename": "SyntaxError",
          "evalue": "ignored",
          "traceback": [
            "\u001b[0;36m  File \u001b[0;32m\"<ipython-input-28-bc1f1f7c4fbe>\"\u001b[0;36m, line \u001b[0;32m6\u001b[0m\n\u001b[0;31m    else: # 이런 문법은 있을 수 없어요!\u001b[0m\n\u001b[0m       ^\u001b[0m\n\u001b[0;31mSyntaxError\u001b[0m\u001b[0;31m:\u001b[0m invalid syntax\n"
          ]
        }
      ]
    },
    {
      "cell_type": "markdown",
      "metadata": {
        "id": "q7E1Ajx6c-os"
      },
      "source": [
        "다중조건을 사용하기 위해서 If형태를 조금 더 확장해보겠습니다. \n",
        "- 전체 3개의 조건에서 4개의 프린트 명령어중에 하나가 실행되었음을 알 수 있습니다. \n",
        "- 출력된 '참' 은 어느 분기에서 실행된 명령어 일까요? "
      ]
    },
    {
      "cell_type": "code",
      "metadata": {
        "colab": {
          "base_uri": "https://localhost:8080/"
        },
        "id": "VdP_57l3dF9b",
        "outputId": "dd26bd45-ad89-45c9-e96a-4fa66cbceba8"
      },
      "source": [
        "# 다중조건에서는 첫번째 조건부터 차례대로 전부 비교하면서 실행\n",
        "# 이때, 첫 번째로 참이 되는 블록의 명령어를 수행\n",
        "# 나머지 조건은 검사하지 않습니다. \n",
        "# 한개라도 참이되는 조건이 없다면, 마지막 else 블록이 실행이 됩니다. \n",
        "\n",
        "# 다중조건인 경우에는 여러개의 분기중의 하나의 블록으로만 분기가 됩니다. \n",
        "if 1 in mem:\n",
        "  print('참')\n",
        "elif 2 in mem:\n",
        "  print('참')\n",
        "elif 3 in mem:\n",
        "  print('참')\n",
        "else:\n",
        "  print('거짓')"
      ],
      "execution_count": null,
      "outputs": [
        {
          "output_type": "stream",
          "name": "stdout",
          "text": [
            "참\n"
          ]
        }
      ]
    },
    {
      "cell_type": "markdown",
      "metadata": {
        "id": "L-4x7_God4NT"
      },
      "source": [
        "이런 경우는 잘 구분해야 합니다. "
      ]
    },
    {
      "cell_type": "code",
      "metadata": {
        "colab": {
          "base_uri": "https://localhost:8080/"
        },
        "id": "A5G1vavud3C1",
        "outputId": "1e602cb7-41b2-49de-df76-ba6685fe9c3a"
      },
      "source": [
        "# 다중조건이 아닙니다.\n",
        "if 1 in mem:\n",
        "  print('참')\n",
        "\n",
        "if 2 in mem:\n",
        "  print('참')\n",
        "\n",
        "if 3 in mem:\n",
        "  print('참')\n",
        "else:\n",
        "  print('거짓')"
      ],
      "execution_count": null,
      "outputs": [
        {
          "output_type": "stream",
          "name": "stdout",
          "text": [
            "참\n",
            "참\n",
            "참\n"
          ]
        }
      ]
    },
    {
      "cell_type": "markdown",
      "metadata": {
        "id": "66uesJ7lessT"
      },
      "source": [
        "비슷한 표현을 논리연산과 함께 사용할 수 있습니다. \n",
        "- 다중조건과 비슷하게 구현할 수 있는데 \n",
        "- 논리연산만으로 다중조건을 완벽하게 표현할 수는 없습니다. "
      ]
    },
    {
      "cell_type": "code",
      "metadata": {
        "colab": {
          "base_uri": "https://localhost:8080/"
        },
        "id": "SY86ZqEze4fY",
        "outputId": "73b7cd89-1a43-458f-8e41-ded9e54ae0b5"
      },
      "source": [
        "if (1 in mem) or (2 in mem) or (3 in mem):\n",
        "  print('참')\n",
        "else:\n",
        "  print('거짓')"
      ],
      "execution_count": null,
      "outputs": [
        {
          "output_type": "stream",
          "name": "stdout",
          "text": [
            "참\n"
          ]
        }
      ]
    },
    {
      "cell_type": "markdown",
      "metadata": {
        "id": "tU_xQZabfdZM"
      },
      "source": [
        "> 여기까지가 파이썬에서 나올 수 있는 if의 모든 형태\n",
        "  - 이러한 기본적인 형태에서 여러가지 응용된 형태들이 나오게 됩니다.\n",
        "  - 예를 들면 중첩된 if가 그렇습니다. \n",
        "\n",
        "```\n",
        "if 명제1:\n",
        "  # 명제1이 참인 경우에 해야 될 일이 있을 수 있고\n",
        "  if 명제2:\n",
        "    # 명제 2까지 참인 경우에 해야 될 일을 구분\n",
        "```\n",
        "\n",
        "- 같은 표현 이기는 합니다\n",
        "  - 하지만, 중첩된 문장을 항상 논리연산으로 전부 해결할 수 있다고는 할 수 없습니다 \n",
        "\n",
        "```\n",
        "if 명제1 and 명제2:\n",
        "  # 두 명제가 모두 참인 경우에만 해야 될 일을 구분\n",
        "```"
      ]
    },
    {
      "cell_type": "markdown",
      "metadata": {
        "id": "eM56wjji_nuf"
      },
      "source": [
        "## 반복문\n",
        "- 구조가 직관적이지가 않아서 어렵습니다.\n",
        "- 파이썬에서는 2가지 형태의 반복문이 있습니다. \n",
        "  - while과 for의 두 가지 문법이 있습니다"
      ]
    },
    {
      "cell_type": "markdown",
      "metadata": {
        "id": "19Vx0GDj_o-_"
      },
      "source": [
        "### while\n",
        "- 기본적인 형태는 if와 크게 다르지 않습니다. \n",
        "- if가 명제를 한번만 검사를 하고 분기를 한다면\n",
        "- while은 명제를 여러번 검사합니다(틀릴때까지/거짓)\n",
        "  - 반복적으로 분기를 하게 됩니다. \n",
        "  - 그래서 반복문! \n",
        "\n",
        "```\n",
        "while 명제:\n",
        "  while 블록\n",
        "```"
      ]
    },
    {
      "cell_type": "code",
      "metadata": {
        "colab": {
          "base_uri": "https://localhost:8080/"
        },
        "id": "MT1GuMXkhfpC",
        "outputId": "4c86c35d-156f-4354-b297-2aa946d2c84b"
      },
      "source": [
        "cnt = 0\n",
        "if cnt < 10:\n",
        "  print('이 Print 명령은 몇번이나 실행이 될까요?')\n",
        "print('if라면 한 번만 분기되고 바로 이 명령어로 넘어오게 됩니다. ')"
      ],
      "execution_count": null,
      "outputs": [
        {
          "output_type": "stream",
          "name": "stdout",
          "text": [
            "이 Print 명령은 몇번이나 실행이 될까요?\n",
            "if라면 한 번만 분기되고 바로 이 명령어로 넘어오게 됩니다. \n"
          ]
        }
      ]
    },
    {
      "cell_type": "code",
      "metadata": {
        "id": "xdhIpZsziJbC"
      },
      "source": [
        "cnt = 0\n",
        "\n",
        "# 무한루프\n",
        "while cnt < 10:\n",
        "  print('이 Print 명령은 몇번이나 실행이 될까요?')\n",
        "print('if라면 한 번만 분기되고 바로 이 명령어로 넘어오게 됩니다. ')"
      ],
      "execution_count": null,
      "outputs": []
    },
    {
      "cell_type": "code",
      "metadata": {
        "colab": {
          "base_uri": "https://localhost:8080/"
        },
        "id": "LVpRuUFPijsW",
        "outputId": "bb542cb6-6fc5-40e7-bbaa-7656fda52ec1"
      },
      "source": [
        "cnt = 0\n",
        "\n",
        "# 제대로 종료가 되려면? 언젠가는 명제가 거짓이 되도록 만들어줘야 합니다.\n",
        "while cnt < 10:\n",
        "  print('이 Print 명령은 몇번이나 실행이 될까요?')\n",
        "  cnt += 1 # 언젠가는 거짓이 될 수 있도록 ... \n",
        "\n",
        "print('if라면 한 번만 분기되고 바로 이 명령어로 넘어오게 됩니다. ')"
      ],
      "execution_count": null,
      "outputs": [
        {
          "output_type": "stream",
          "name": "stdout",
          "text": [
            "이 Print 명령은 몇번이나 실행이 될까요?\n",
            "이 Print 명령은 몇번이나 실행이 될까요?\n",
            "이 Print 명령은 몇번이나 실행이 될까요?\n",
            "이 Print 명령은 몇번이나 실행이 될까요?\n",
            "이 Print 명령은 몇번이나 실행이 될까요?\n",
            "이 Print 명령은 몇번이나 실행이 될까요?\n",
            "이 Print 명령은 몇번이나 실행이 될까요?\n",
            "이 Print 명령은 몇번이나 실행이 될까요?\n",
            "이 Print 명령은 몇번이나 실행이 될까요?\n",
            "이 Print 명령은 몇번이나 실행이 될까요?\n",
            "if라면 한 번만 분기되고 바로 이 명령어로 넘어오게 됩니다. \n"
          ]
        }
      ]
    },
    {
      "cell_type": "code",
      "metadata": {
        "colab": {
          "base_uri": "https://localhost:8080/"
        },
        "id": "rXpf4rpujZ0V",
        "outputId": "e6aff684-9df3-4a2b-d8a4-9338f65b604b"
      },
      "source": [
        "cnt = 0\n",
        "\n",
        "# 의도적으로 무한루프를 생성\n",
        "# 명제가 거짓이 될 수 없습니다. \n",
        "while True:\n",
        "  print('이 Print 명령은 몇번이나 실행이 될까요?')\n",
        "  # cnt += 1 # 언젠가는 거짓이 될 수 있도록 ... \n",
        "  \n",
        "  # 반복문 내부에서 탈출할 수 있도록\n",
        "  # break\n",
        "  if cnt > 10:  # 참이 되는 경우에 탈출할 수 있도록 ... \n",
        "    # 반복문 안에서만 사용이 가능\n",
        "    # break 명령이 실행되면 반복을 멈추게 됩니다. \n",
        "    break \n",
        "    \n",
        "  cnt += 1 # 언젠가는 거짓이 될 수 있도록 ... \n",
        "\n",
        "print('if라면 한 번만 분기되고 바로 이 명령어로 넘어오게 됩니다. ')"
      ],
      "execution_count": null,
      "outputs": [
        {
          "output_type": "stream",
          "name": "stdout",
          "text": [
            "이 Print 명령은 몇번이나 실행이 될까요?\n",
            "이 Print 명령은 몇번이나 실행이 될까요?\n",
            "이 Print 명령은 몇번이나 실행이 될까요?\n",
            "이 Print 명령은 몇번이나 실행이 될까요?\n",
            "이 Print 명령은 몇번이나 실행이 될까요?\n",
            "이 Print 명령은 몇번이나 실행이 될까요?\n",
            "이 Print 명령은 몇번이나 실행이 될까요?\n",
            "이 Print 명령은 몇번이나 실행이 될까요?\n",
            "이 Print 명령은 몇번이나 실행이 될까요?\n",
            "이 Print 명령은 몇번이나 실행이 될까요?\n",
            "이 Print 명령은 몇번이나 실행이 될까요?\n",
            "이 Print 명령은 몇번이나 실행이 될까요?\n",
            "if라면 한 번만 분기되고 바로 이 명령어로 넘어오게 됩니다. \n"
          ]
        }
      ]
    },
    {
      "cell_type": "code",
      "metadata": {
        "colab": {
          "base_uri": "https://localhost:8080/"
        },
        "id": "9KncjXfsFRYE",
        "outputId": "3eba9731-9ffc-47ed-84f9-47ed5aac1482"
      },
      "source": [
        "cnt = 0\n",
        "\n",
        "while True:\n",
        "  print('이 Print 명령은 몇번이나 실행이 될까요?')\n",
        "\n",
        "  if cnt % 2: \n",
        "    # 해당 회차를 종료하고 다음 회차로 넘어가게 됩니다. \n",
        "    # coninue 명령이 실행되면, continue 명령 이후의 명령어들은 실행이 안됩니다.\n",
        "    cnt += 1\n",
        "    continue\n",
        " \n",
        "  if cnt > 10:\n",
        "    break \n",
        "    \n",
        "  cnt += 1\n",
        "\n",
        "print('if라면 한 번만 분기되고 바로 이 명령어로 넘어오게 됩니다. ')"
      ],
      "execution_count": null,
      "outputs": [
        {
          "output_type": "stream",
          "name": "stdout",
          "text": [
            "이 Print 명령은 몇번이나 실행이 될까요?\n",
            "이 Print 명령은 몇번이나 실행이 될까요?\n",
            "이 Print 명령은 몇번이나 실행이 될까요?\n",
            "이 Print 명령은 몇번이나 실행이 될까요?\n",
            "이 Print 명령은 몇번이나 실행이 될까요?\n",
            "이 Print 명령은 몇번이나 실행이 될까요?\n",
            "이 Print 명령은 몇번이나 실행이 될까요?\n",
            "이 Print 명령은 몇번이나 실행이 될까요?\n",
            "이 Print 명령은 몇번이나 실행이 될까요?\n",
            "이 Print 명령은 몇번이나 실행이 될까요?\n",
            "이 Print 명령은 몇번이나 실행이 될까요?\n",
            "이 Print 명령은 몇번이나 실행이 될까요?\n",
            "이 Print 명령은 몇번이나 실행이 될까요?\n",
            "if라면 한 번만 분기되고 바로 이 명령어로 넘어오게 됩니다. \n"
          ]
        }
      ]
    },
    {
      "cell_type": "markdown",
      "metadata": {
        "id": "gUsGZiD_o062"
      },
      "source": [
        "### for\n",
        "- 정말 많이 사용하는 문법입니다. \n",
        "  - 특히, 이터레이블 타입에 특화 되어 있습니다. \n",
        "\n",
        "\n",
        "- 이터레이블이란? \n",
        "  - 반복 가능한 모든 객체를 의미합니다. \n",
        "  - 첫 번째 원소부터 마지막 원소까지 순차적으로 접근이 가능하면 `이터레이블` 이라고 얘기합니다. \n",
        "  - 대표적으로 시퀀스 타입이 그렇습니다. \n",
        "    - 리스트, 튜플, 문자열, ... \n",
        "\n",
        "- for의 기본적인 형태는 다음과 같습니다. \n",
        "\n",
        "```\n",
        "for 변수 in 이터레이블:\n",
        "  # for 블록\n",
        "```\n",
        "\n",
        "- 이터레이블의 원소의 개수만큼 반복을 하게 됩니다.\n",
        "- 반복하면서 매 회차마다 이터레이블 내의 원소들을 첫 번째 원소부터 차례대로 마지막 원소까지 변수에 넣어주면서 동작"
      ]
    },
    {
      "cell_type": "code",
      "metadata": {
        "colab": {
          "base_uri": "https://localhost:8080/"
        },
        "id": "GpSroDpHo2ZR",
        "outputId": "9a601f12-aae5-46d1-c8f7-8a4c3750f918"
      },
      "source": [
        "mem = [10, 20, 30, 40]\n",
        "\n",
        "for x in mem:\n",
        "  print(x)"
      ],
      "execution_count": null,
      "outputs": [
        {
          "output_type": "stream",
          "name": "stdout",
          "text": [
            "10\n",
            "20\n",
            "30\n",
            "40\n"
          ]
        }
      ]
    },
    {
      "cell_type": "markdown",
      "metadata": {
        "id": "-5fsmtkVq2f9"
      },
      "source": [
        "#### for의 다양한 형태"
      ]
    },
    {
      "cell_type": "markdown",
      "metadata": {
        "id": "yot2_BMyq78d"
      },
      "source": [
        "range와 함께 사용되는 경우\n",
        "- range와 for가 그렇게 궁합이 잘 맞아요!\n",
        "- 둘이 그렇게 잘 붙어다녀요(단짝)"
      ]
    },
    {
      "cell_type": "code",
      "metadata": {
        "colab": {
          "base_uri": "https://localhost:8080/"
        },
        "id": "8xzC8jBqq4NZ",
        "outputId": "fa879f4b-1ae7-4b8d-c8f8-c8a744f67e20"
      },
      "source": [
        "for i in range(5):\n",
        "  print(i)"
      ],
      "execution_count": null,
      "outputs": [
        {
          "output_type": "stream",
          "name": "stdout",
          "text": [
            "0\n",
            "1\n",
            "2\n",
            "3\n",
            "4\n"
          ]
        }
      ]
    },
    {
      "cell_type": "code",
      "metadata": {
        "colab": {
          "base_uri": "https://localhost:8080/"
        },
        "id": "nqqJT1VerV_W",
        "outputId": "70ba81c7-288f-487e-eaf0-69fedc84f11e"
      },
      "source": [
        "# 시퀀스 타입에 대한 인덱싱을 하는 경우\n",
        "print(mem)\n",
        "\n",
        "# 인덱싱을 통해서 리스트 내의 원소를 하나씩 참조\n",
        "print(mem[0])\n",
        "print(mem[1])\n",
        "print(mem[2])\n",
        "print(mem[3])"
      ],
      "execution_count": null,
      "outputs": [
        {
          "output_type": "stream",
          "name": "stdout",
          "text": [
            "[10, 20, 30, 40]\n",
            "10\n",
            "20\n",
            "30\n",
            "40\n"
          ]
        }
      ]
    },
    {
      "cell_type": "code",
      "metadata": {
        "colab": {
          "base_uri": "https://localhost:8080/"
        },
        "id": "BJ0ocVb_rm2v",
        "outputId": "8dabdd21-07a9-4ae8-b356-283a4fd03330"
      },
      "source": [
        "# for와 range를 이용해서 반복적으로 처리\n",
        "# range를 이용해서 수열을 생성하고\n",
        "# 생성된 수열을 인덱스로 활용\n",
        "for i in range( len(mem) ):\n",
        "  print(mem[i])"
      ],
      "execution_count": null,
      "outputs": [
        {
          "output_type": "stream",
          "name": "stdout",
          "text": [
            "10\n",
            "20\n",
            "30\n",
            "40\n"
          ]
        }
      ]
    },
    {
      "cell_type": "markdown",
      "metadata": {
        "id": "g8d91fnztnAf"
      },
      "source": [
        "#### List Comprehension\n",
        "- 수학적으로 집합을 정의하는 경우\n",
        "  - A가 10의 자연수 집합\n",
        "  $$\n",
        "    A = \\left\\{x \\;|\\; x \\le 10 \\right\\}\n",
        "  $$\n",
        "  - 파이썬에서는 `|`를 제외하고 원소 x에 대해 for를 사용해서 정의"
      ]
    },
    {
      "cell_type": "code",
      "metadata": {
        "colab": {
          "base_uri": "https://localhost:8080/"
        },
        "id": "fmsupnDcttqO",
        "outputId": "cc415623-6452-4fa4-f58d-1b05603fb802"
      },
      "source": [
        "# 한줄로 집합을 정의\n",
        "[ x for x in range(1, 11) ]"
      ],
      "execution_count": null,
      "outputs": [
        {
          "output_type": "execute_result",
          "data": {
            "text/plain": [
              "[1, 2, 3, 4, 5, 6, 7, 8, 9, 10]"
            ]
          },
          "metadata": {},
          "execution_count": 52
        }
      ]
    },
    {
      "cell_type": "code",
      "metadata": {
        "colab": {
          "base_uri": "https://localhost:8080/"
        },
        "id": "jh7bgvNwup1q",
        "outputId": "b05ca514-d155-4f54-8db0-d0cf544463e9"
      },
      "source": [
        "[ x * 2 for x in range(1, 11) ]"
      ],
      "execution_count": null,
      "outputs": [
        {
          "output_type": "execute_result",
          "data": {
            "text/plain": [
              "[2, 4, 6, 8, 10, 12, 14, 16, 18, 20]"
            ]
          },
          "metadata": {},
          "execution_count": 55
        }
      ]
    },
    {
      "cell_type": "markdown",
      "metadata": {
        "id": "8LjSK5tQuLRa"
      },
      "source": [
        "혹은 초기화된 리스트가 필요한 경우"
      ]
    },
    {
      "cell_type": "code",
      "metadata": {
        "colab": {
          "base_uri": "https://localhost:8080/"
        },
        "id": "f-mYb-WruN3e",
        "outputId": "b9f1c2c4-5fb2-43e4-d939-8c84d0be8f43"
      },
      "source": [
        "# 변수가 의미가 없는 경우에는 변수를 사용하지 않는다는 의미로 암묵적인 표현법\n",
        "# 변수 이름 대신에 '_'를 사용해서 표현\n",
        "# range에 의해서 생성되는 수열은 의미가 없고, 단순히 반복하는 횟수 정도로만 사용\n",
        "[ 0 for _ in range(10) ]"
      ],
      "execution_count": null,
      "outputs": [
        {
          "output_type": "execute_result",
          "data": {
            "text/plain": [
              "[0, 0, 0, 0, 0, 0, 0, 0, 0, 0]"
            ]
          },
          "metadata": {},
          "execution_count": 54
        }
      ]
    },
    {
      "cell_type": "code",
      "metadata": {
        "colab": {
          "base_uri": "https://localhost:8080/"
        },
        "id": "5EXMU0_ou2sf",
        "outputId": "1ffcb4fd-48a4-4fe4-ddbc-16384519f818"
      },
      "source": [
        "[0] * 10"
      ],
      "execution_count": null,
      "outputs": [
        {
          "output_type": "execute_result",
          "data": {
            "text/plain": [
              "[0, 0, 0, 0, 0, 0, 0, 0, 0, 0]"
            ]
          },
          "metadata": {},
          "execution_count": 56
        }
      ]
    },
    {
      "cell_type": "markdown",
      "metadata": {
        "id": "zCngJt4FvlGt"
      },
      "source": [
        "> 여기까지가 파이썬에서 제공하는 반복문들의 기본적인 형태 \n",
        "  - 정말로 다양한 형태로 응용이 되어서 사용 됩니다.\n",
        "  - 중첩된 루프, ... "
      ]
    },
    {
      "cell_type": "markdown",
      "metadata": {
        "id": "6b0nmgDNsHke"
      },
      "source": [
        "# 네이밍 규칙\n",
        "- 단일문자를 사용하는 경우\n",
        "  - a, b, i, j, k, ... \n",
        "  - a, b => 매개변수를 정의하는 경우\n",
        "  - i, j, k => 순서나 인덱스를 의미하는 경우\n",
        "\n",
        "- 단일문자가 아닌 경우에는 메모리의 값이 나타내는 의미를 표현\n",
        "  - count => 개수를 세기 위한 용도\n",
        "\n",
        "- 여러개의 단어를 이용하는 경우에는\n",
        "  - 단어와 단어 사이를 대문자로 표현\n",
        "    - count of apple => countOfApple\n",
        "  - 단어와 단어 사이를 `_`를 이용해서 표현\n",
        "    - count of apple => count_of_apple"
      ]
    },
    {
      "cell_type": "markdown",
      "metadata": {
        "id": "4QJx4TlAtBp-"
      },
      "source": [
        "# 함수(function)\n",
        "- 여러분이 알고 있는 그 함수가 맞습니다. \n",
        "  - 엄밀하게 수학적 정의를 그대로 따르지는 않지만, \n",
        "  - 기본적으로 수학적 정의의 개념을 차용한 형태\n",
        "    - 수학적 의미의 함수란? 집합과 집합 사이의 관계를 표현\n",
        "  - 프로그래밍 언어에서는 프로그램을 이루는 기본 단위\n",
        "\n",
        "- 함수는? \n",
        "  - 여러 명령어들의 집합\n",
        "  - 중복되는 명령어들을 줄일 수 있고, 코드의 양이 줄어들기 때문에 효율적인 관리가 가능\n",
        "\n",
        "- 파이썬에서 함수에 대한 정의는 다음과 같습니다. \n",
        "\n",
        "```\n",
        "def 함수이름(파라미터, 파라미터, ... ):\n",
        "  # 함수 블록\n",
        "```"
      ]
    },
    {
      "cell_type": "code",
      "metadata": {
        "id": "DaOv1aLwv3zz"
      },
      "source": [
        "# 가장 기본적인 함수 하나를 정의\n",
        "# 파라미터도 없고, 반환도 없는 가장 기본적인 형태의 함수\n",
        "\n",
        "# 함수의 정의(선언)\n",
        "def function(): # Callee(피호출자)\n",
        "  # 함수가 실행되었음을 확인할 수 있는 용도\n",
        "  # print가 실행되지 않으면, 함수가 실행되지 않은겁니다. \n",
        "  print('함수가 실행되었습니다.')"
      ],
      "execution_count": null,
      "outputs": []
    },
    {
      "cell_type": "code",
      "metadata": {
        "colab": {
          "base_uri": "https://localhost:8080/"
        },
        "id": "FRutgReay2g2",
        "outputId": "b4a7b86c-693f-4edf-9472-d37acebf8d7d"
      },
      "source": [
        "# 함수의 실행\n",
        "# 기본적으로 호출(Call)하기 전까지는 실행이 되지 않습니다.\n",
        "\n",
        "# 함수의 호출\n",
        "function() # Caller(호출자)"
      ],
      "execution_count": null,
      "outputs": [
        {
          "output_type": "stream",
          "name": "stdout",
          "text": [
            "함수가 실행되었습니다.\n"
          ]
        }
      ]
    },
    {
      "cell_type": "code",
      "metadata": {
        "colab": {
          "base_uri": "https://localhost:8080/"
        },
        "id": "_Q7glbP-2kn3",
        "outputId": "0af3ece5-5ef1-4de8-afe8-054975f13cee"
      },
      "source": [
        "# 함수의 재사용성\n",
        "# 이렇게 한 번 정의된 함수는 몇번이고 반복해서 호출(실행)할 수 있습니다. \n",
        "function()\n",
        "function()\n",
        "function()\n",
        "function()\n",
        "function()"
      ],
      "execution_count": null,
      "outputs": [
        {
          "output_type": "stream",
          "name": "stdout",
          "text": [
            "함수가 실행되었습니다.\n",
            "함수가 실행되었습니다.\n",
            "함수가 실행되었습니다.\n",
            "함수가 실행되었습니다.\n",
            "함수가 실행되었습니다.\n"
          ]
        }
      ]
    },
    {
      "cell_type": "markdown",
      "metadata": {
        "id": "_9hLytUX3q3f"
      },
      "source": [
        "## 다양한 형태의 함수들\n",
        "- 하나씩 확장하면서 확인해보도록 합시다. "
      ]
    },
    {
      "cell_type": "markdown",
      "metadata": {
        "id": "IwAH7DGa3voF"
      },
      "source": [
        "### 입력이 있는 함수를 정의\n",
        "- Parameter(파라미터/매개변수), argument(아규먼트/인자)라고 부릅니다. \n",
        "- 함수를 실행하는데 필요한 입력이 있다면, 파라미터를 통해서 전달"
      ]
    },
    {
      "cell_type": "code",
      "metadata": {
        "id": "xRiqMhZO38hB"
      },
      "source": [
        "# 예를 들면 두 수의 합을 출력하는 함수를 정의\n",
        "# 해당 함수는 반드시 두 수가 필요하겠죠\n",
        "\n",
        "def add(a, b):\n",
        "  print( a + b )"
      ],
      "execution_count": null,
      "outputs": []
    },
    {
      "cell_type": "code",
      "metadata": {
        "colab": {
          "base_uri": "https://localhost:8080/"
        },
        "id": "QQ7ZVE6n4Qja",
        "outputId": "02adb235-1569-44e5-e00e-f274ff991ce8"
      },
      "source": [
        "# 입력값 전달\n",
        "# 함수의 정의에 따라서, 함수 실행에 필요한 값을 호출할 때, 반드시 전달 해야 합니다\n",
        "# 입력값을 전달 할 때는 함수에 정의된 파라미터의 개수와 순서를 맞춰서 값을 넣어주면 됩니다. \n",
        "# 전달은 인터프리터가 알아서 해줍니다. \n",
        "\n",
        "add(10, 20)"
      ],
      "execution_count": null,
      "outputs": [
        {
          "output_type": "stream",
          "name": "stdout",
          "text": [
            "30\n"
          ]
        }
      ]
    },
    {
      "cell_type": "markdown",
      "metadata": {
        "id": "XxKH_cbk67RB"
      },
      "source": [
        "반드시 함수에 정의된 형태를 맞춰주셔야 합니다. \n",
        "- 파라미터의 개수와 순서에 주의 해야 합니다. "
      ]
    },
    {
      "cell_type": "code",
      "metadata": {
        "colab": {
          "base_uri": "https://localhost:8080/",
          "height": 166
        },
        "id": "-wOrvvAA7AU7",
        "outputId": "ce4fd856-717b-43c8-ad67-7d6e2820a287"
      },
      "source": [
        "# b 메모리에 전달해야 하는 값을 인터프리터는 알 수 없습니다. \n",
        "add(10)"
      ],
      "execution_count": null,
      "outputs": [
        {
          "output_type": "error",
          "ename": "TypeError",
          "evalue": "ignored",
          "traceback": [
            "\u001b[0;31m---------------------------------------------------------------------------\u001b[0m",
            "\u001b[0;31mTypeError\u001b[0m                                 Traceback (most recent call last)",
            "\u001b[0;32m<ipython-input-66-fb866b66e1c7>\u001b[0m in \u001b[0;36m<module>\u001b[0;34m()\u001b[0m\n\u001b[0;32m----> 1\u001b[0;31m \u001b[0madd\u001b[0m\u001b[0;34m(\u001b[0m\u001b[0;36m10\u001b[0m\u001b[0;34m)\u001b[0m\u001b[0;34m\u001b[0m\u001b[0;34m\u001b[0m\u001b[0m\n\u001b[0m",
            "\u001b[0;31mTypeError\u001b[0m: add() missing 1 required positional argument: 'b'"
          ]
        }
      ]
    },
    {
      "cell_type": "code",
      "metadata": {
        "colab": {
          "base_uri": "https://localhost:8080/",
          "height": 183
        },
        "id": "tK-MFbSa7MOm",
        "outputId": "b7c3d3f4-c4d0-4eae-e690-03441bcc376a"
      },
      "source": [
        "# 30이라는 값을 어떤 메모리에 전달 해야 하는지 인터프리터는 알 수 없습니다. \n",
        "add(10, 20, 30)"
      ],
      "execution_count": null,
      "outputs": [
        {
          "output_type": "error",
          "ename": "TypeError",
          "evalue": "ignored",
          "traceback": [
            "\u001b[0;31m---------------------------------------------------------------------------\u001b[0m",
            "\u001b[0;31mTypeError\u001b[0m                                 Traceback (most recent call last)",
            "\u001b[0;32m<ipython-input-68-4a1b6909415d>\u001b[0m in \u001b[0;36m<module>\u001b[0;34m()\u001b[0m\n\u001b[1;32m      1\u001b[0m \u001b[0;31m# 30이라는 값을 어떤 메모리에 전달 해야 하는지 인터프리터는 알 수 없습니다.\u001b[0m\u001b[0;34m\u001b[0m\u001b[0;34m\u001b[0m\u001b[0;34m\u001b[0m\u001b[0m\n\u001b[0;32m----> 2\u001b[0;31m \u001b[0madd\u001b[0m\u001b[0;34m(\u001b[0m\u001b[0;36m10\u001b[0m\u001b[0;34m,\u001b[0m \u001b[0;36m20\u001b[0m\u001b[0;34m,\u001b[0m \u001b[0;36m30\u001b[0m\u001b[0;34m)\u001b[0m\u001b[0;34m\u001b[0m\u001b[0;34m\u001b[0m\u001b[0m\n\u001b[0m",
            "\u001b[0;31mTypeError\u001b[0m: add() takes 2 positional arguments but 3 were given"
          ]
        }
      ]
    },
    {
      "cell_type": "markdown",
      "metadata": {
        "id": "0cVM5Pcd7NWY"
      },
      "source": [
        "디폴트 파라미터\n",
        "- 전달되는 값이 없으면, 오류가 발생\n",
        "- 만약에 전달되는 값이 없다면 디폴트(기본)값이 메모리에 들어가게 됩니다. "
      ]
    },
    {
      "cell_type": "code",
      "metadata": {
        "id": "xBtqqjNs70Y7"
      },
      "source": [
        "# 함수를 정의할 때 디폴트(기본)값을 지정\n",
        "\n",
        "def add(a=0, b=0):\n",
        "  print( a + b )"
      ],
      "execution_count": null,
      "outputs": []
    },
    {
      "cell_type": "code",
      "metadata": {
        "colab": {
          "base_uri": "https://localhost:8080/"
        },
        "id": "EhdQmiIE78wI",
        "outputId": "5ebd2748-8f54-47d3-ee77-e26f29350e6c"
      },
      "source": [
        "add()"
      ],
      "execution_count": null,
      "outputs": [
        {
          "output_type": "stream",
          "name": "stdout",
          "text": [
            "0\n"
          ]
        }
      ]
    },
    {
      "cell_type": "code",
      "metadata": {
        "colab": {
          "base_uri": "https://localhost:8080/"
        },
        "id": "O1_D61un8Ax5",
        "outputId": "39755348-9eb3-4fc4-d92b-0d427a5b3d39"
      },
      "source": [
        "add(10)"
      ],
      "execution_count": null,
      "outputs": [
        {
          "output_type": "stream",
          "name": "stdout",
          "text": [
            "10\n"
          ]
        }
      ]
    },
    {
      "cell_type": "code",
      "metadata": {
        "colab": {
          "base_uri": "https://localhost:8080/",
          "height": 166
        },
        "id": "Rs0VmXSd8Dcy",
        "outputId": "09b3d4d3-4dd4-4a4a-bd87-74eaedc8d582"
      },
      "source": [
        "add(10, 20, 30)"
      ],
      "execution_count": null,
      "outputs": [
        {
          "output_type": "error",
          "ename": "TypeError",
          "evalue": "ignored",
          "traceback": [
            "\u001b[0;31m---------------------------------------------------------------------------\u001b[0m",
            "\u001b[0;31mTypeError\u001b[0m                                 Traceback (most recent call last)",
            "\u001b[0;32m<ipython-input-72-53ac62622ed3>\u001b[0m in \u001b[0;36m<module>\u001b[0;34m()\u001b[0m\n\u001b[0;32m----> 1\u001b[0;31m \u001b[0madd\u001b[0m\u001b[0;34m(\u001b[0m\u001b[0;36m10\u001b[0m\u001b[0;34m,\u001b[0m \u001b[0;36m20\u001b[0m\u001b[0;34m,\u001b[0m \u001b[0;36m30\u001b[0m\u001b[0;34m)\u001b[0m\u001b[0;34m\u001b[0m\u001b[0;34m\u001b[0m\u001b[0m\n\u001b[0m",
            "\u001b[0;31mTypeError\u001b[0m: add() takes from 0 to 2 positional arguments but 3 were given"
          ]
        }
      ]
    },
    {
      "cell_type": "markdown",
      "metadata": {
        "id": "mzqYzm9_9SBt"
      },
      "source": [
        "디폴트 파라미터를 지정할 때 주의사항!\n",
        "- 디폴트 파라미터와 그렇지 않은 파라미터를 같이 정의\n",
        "  - 이때, 디폴트 파라미터가 없는 파라미터가 반드시 먼저 정의 되어야 합니다. "
      ]
    },
    {
      "cell_type": "code",
      "metadata": {
        "colab": {
          "base_uri": "https://localhost:8080/",
          "height": 131
        },
        "id": "rJ6I_PyP9f26",
        "outputId": "10c46083-c4eb-4085-dcd8-8908661d4f96"
      },
      "source": [
        "# 디폴트 파라미터가 정의되지 않은 경우에는 \n",
        "# 해당 파라미터는 반드시 입력값을 전달하는 의미\n",
        "\n",
        "# 입력값 한개는 무조건 전달이 되어야 하는데\n",
        "# 모호한 상황이 발생합니다.\n",
        "# add(10) => 이때, 10은 a에 들어갈수도 있고, b에 들어갈수도 있습니다.\n",
        "def add(a=0, b):\n",
        "  print( a + b )"
      ],
      "execution_count": null,
      "outputs": [
        {
          "output_type": "error",
          "ename": "SyntaxError",
          "evalue": "ignored",
          "traceback": [
            "\u001b[0;36m  File \u001b[0;32m\"<ipython-input-76-ef92896fc1d2>\"\u001b[0;36m, line \u001b[0;32m3\u001b[0m\n\u001b[0;31m    def add(a=0, b):\u001b[0m\n\u001b[0m           ^\u001b[0m\n\u001b[0;31mSyntaxError\u001b[0m\u001b[0;31m:\u001b[0m non-default argument follows default argument\n"
          ]
        }
      ]
    },
    {
      "cell_type": "code",
      "metadata": {
        "colab": {
          "base_uri": "https://localhost:8080/",
          "height": 131
        },
        "id": "g-n0sAIB9soF",
        "outputId": "d5f2a27a-5422-4754-d12e-de48f24b806e"
      },
      "source": [
        "def add(a, b=0, c):\n",
        "  print( a + b )"
      ],
      "execution_count": null,
      "outputs": [
        {
          "output_type": "error",
          "ename": "SyntaxError",
          "evalue": "ignored",
          "traceback": [
            "\u001b[0;36m  File \u001b[0;32m\"<ipython-input-78-8e3510b01310>\"\u001b[0;36m, line \u001b[0;32m1\u001b[0m\n\u001b[0;31m    def add(a, b=0, c):\u001b[0m\n\u001b[0m           ^\u001b[0m\n\u001b[0;31mSyntaxError\u001b[0m\u001b[0;31m:\u001b[0m non-default argument follows default argument\n"
          ]
        }
      ]
    },
    {
      "cell_type": "code",
      "metadata": {
        "id": "NomLqH8F902o"
      },
      "source": [
        "# add(10) => a에 들어가면 됩니다.\n",
        "def add(a, b=0):\n",
        "  print(a+b)"
      ],
      "execution_count": null,
      "outputs": []
    },
    {
      "cell_type": "markdown",
      "metadata": {
        "id": "ufuhsqVo99Zw"
      },
      "source": [
        "타입에 따른 입력값 전달\n",
        "- 얕은 복사와 깊은 복사와 동일한 개념\n",
        "- 주소 전달, 값 전달\n",
        "- 기본 타입(int, float, bool)에 대한 전달은 값 전달 입니다. \n",
        "- 시퀀스 타입인 경우 주소 전달 입니다. \n",
        "  - 얕은 복사 생각하면 됩니다. "
      ]
    },
    {
      "cell_type": "code",
      "metadata": {
        "id": "OmHWVrwG_Okk"
      },
      "source": [
        "# 파라미터로 리스트 한개를 입력받아서 \n",
        "# 입력받은 리스트를 뒤집어서 출려하는 함수를 가정\n",
        "\n",
        "def function( a ):\n",
        "  a.reverse()\n",
        "  print(a)"
      ],
      "execution_count": null,
      "outputs": []
    },
    {
      "cell_type": "code",
      "metadata": {
        "colab": {
          "base_uri": "https://localhost:8080/"
        },
        "id": "gQ3z-BUM_Zzc",
        "outputId": "9359b0eb-22ea-47d8-97f4-576dc6b8e50f"
      },
      "source": [
        "arr = [1, 2, 3, 4]\n",
        "function(arr)"
      ],
      "execution_count": null,
      "outputs": [
        {
          "output_type": "stream",
          "name": "stdout",
          "text": [
            "[4, 3, 2, 1]\n"
          ]
        }
      ]
    },
    {
      "cell_type": "code",
      "metadata": {
        "colab": {
          "base_uri": "https://localhost:8080/"
        },
        "id": "0_1jqSfs_e4k",
        "outputId": "eb7084e4-8ad6-4924-8df8-a1c373a72308"
      },
      "source": [
        "# 이거 왜 이런지 이해 되시나요?\n",
        "arr"
      ],
      "execution_count": null,
      "outputs": [
        {
          "output_type": "execute_result",
          "data": {
            "text/plain": [
              "[4, 3, 2, 1]"
            ]
          },
          "metadata": {},
          "execution_count": 85
        }
      ]
    },
    {
      "cell_type": "markdown",
      "metadata": {
        "id": "flML75k_Fxl1"
      },
      "source": [
        "### 가변인자\n",
        "- 입력값의 개수가 정해져 있지 않은 경우\n",
        "  - 몇개의 값을 전달받을지, 몇개의 값을 전달할지 알 수 없는 경우"
      ]
    },
    {
      "cell_type": "code",
      "metadata": {
        "id": "8oS82a9JGHPe"
      },
      "source": [
        "# 파이썬에서는 가변인자 혹은 패킹(Packing) 이라고 합니다. \n",
        "\n",
        "def function( *args ):\n",
        "  print(args)"
      ],
      "execution_count": null,
      "outputs": []
    },
    {
      "cell_type": "code",
      "metadata": {
        "colab": {
          "base_uri": "https://localhost:8080/"
        },
        "id": "ETSDAOspGcM4",
        "outputId": "28842b20-d90e-4b91-a058-8a6edde9e88b"
      },
      "source": [
        "# 입력이 몇개가 되든 상관없이 전달할 수 있습니다. \n",
        "function(1, 2, 3, 4, 5, 6, 7, 8, 9, )"
      ],
      "execution_count": null,
      "outputs": [
        {
          "output_type": "stream",
          "name": "stdout",
          "text": [
            "(1, 2, 3, 4, 5, 6, 7, 8, 9)\n"
          ]
        }
      ]
    },
    {
      "cell_type": "markdown",
      "metadata": {
        "id": "yucewB4BGs0y"
      },
      "source": [
        "> 튜플로 묶어서(Packing) 전달 \n",
        "  - 출력 결과를 잘 보면, 튜플로 출력 되는 것을 확인할 수 있습니다. \n",
        "  - 여러개의 입력을 하나의 튜플로 묶어서 전달(Packing)"
      ]
    },
    {
      "cell_type": "markdown",
      "metadata": {
        "id": "3AHythpfHQQK"
      },
      "source": [
        "변수 이름과 함께 전달하는 것도 가능\n",
        "  - 변수 이름을 키로 하느 딕셔너리 형태로 묶어서 전달(Packing)"
      ]
    },
    {
      "cell_type": "code",
      "metadata": {
        "id": "nd49TvX6G8Ab"
      },
      "source": [
        "def function( **kwargs ):\n",
        "  print( kwargs ) "
      ],
      "execution_count": null,
      "outputs": []
    },
    {
      "cell_type": "code",
      "metadata": {
        "colab": {
          "base_uri": "https://localhost:8080/"
        },
        "id": "eXxAMkikHhr0",
        "outputId": "312d01a2-a24d-46bb-abf2-820f04ec67a2"
      },
      "source": [
        "function( a = 1, b = 2, c = 3, d = 4, )"
      ],
      "execution_count": null,
      "outputs": [
        {
          "output_type": "stream",
          "name": "stdout",
          "text": [
            "{'a': 1, 'b': 2, 'c': 3, 'd': 4}\n"
          ]
        }
      ]
    },
    {
      "cell_type": "markdown",
      "metadata": {
        "id": "ydJuJjqKHqQS"
      },
      "source": [
        "두 가지 방법을 함께 사용하는 것도 가능합니다. "
      ]
    },
    {
      "cell_type": "code",
      "metadata": {
        "id": "0NLSjHkTHsOG"
      },
      "source": [
        "def function( *args, **kwargs ):\n",
        "  print(args, kwargs)"
      ],
      "execution_count": null,
      "outputs": []
    },
    {
      "cell_type": "code",
      "metadata": {
        "colab": {
          "base_uri": "https://localhost:8080/"
        },
        "id": "v4RCt7DYHxd-",
        "outputId": "b6124e7a-cd7d-4070-d26e-165567f43d9a"
      },
      "source": [
        "function(1, 2, 3, 4, 5, 6, 7, a=1, b=2, c=3 )"
      ],
      "execution_count": null,
      "outputs": [
        {
          "output_type": "stream",
          "name": "stdout",
          "text": [
            "(1, 2, 3, 4, 5, 6, 7) {'a': 1, 'b': 2, 'c': 3}\n"
          ]
        }
      ]
    },
    {
      "cell_type": "markdown",
      "metadata": {
        "id": "9PSWgS7xIWQY"
      },
      "source": [
        "반대인 경우도 가능합니다. \n",
        "- unpacking 이라고 합니다. "
      ]
    },
    {
      "cell_type": "code",
      "metadata": {
        "id": "bRiHRLWiIbLM"
      },
      "source": [
        "def function( a, b, c ):\n",
        "  print(a, b, c)"
      ],
      "execution_count": null,
      "outputs": []
    },
    {
      "cell_type": "code",
      "metadata": {
        "colab": {
          "base_uri": "https://localhost:8080/"
        },
        "id": "yunTEsyBIeFE",
        "outputId": "d0300340-98b3-4607-9243-b399d06021e3"
      },
      "source": [
        "arr = [10, 20, 30]\n",
        "function( *arr )"
      ],
      "execution_count": null,
      "outputs": [
        {
          "output_type": "stream",
          "name": "stdout",
          "text": [
            "10 20 30\n"
          ]
        }
      ]
    },
    {
      "cell_type": "markdown",
      "metadata": {
        "id": "WA2beU-tIjo3"
      },
      "source": [
        "응용하면, 다음과 같은 경우들도 가능합니다. "
      ]
    },
    {
      "cell_type": "code",
      "metadata": {
        "colab": {
          "base_uri": "https://localhost:8080/"
        },
        "id": "_uY0YXn5IwVO",
        "outputId": "f4e06fe7-9f50-43bb-d4be-3dd5d798faf2"
      },
      "source": [
        "a, b, c = arr\n",
        "print(a, b, c)"
      ],
      "execution_count": null,
      "outputs": [
        {
          "output_type": "stream",
          "name": "stdout",
          "text": [
            "10 20 30\n"
          ]
        }
      ]
    },
    {
      "cell_type": "code",
      "metadata": {
        "colab": {
          "base_uri": "https://localhost:8080/"
        },
        "id": "1u0ToZ9BIzu_",
        "outputId": "8bb26137-1758-4b3f-8a3d-75e2f9446f15"
      },
      "source": [
        "# 일부는 변수로, 일부는 리스트 형태로 대응하는 것도 가능\n",
        "a, b, *c = [1, 2, 3, 4, 5, 6, 7, 8, 9]\n",
        "print(a, b, c)"
      ],
      "execution_count": null,
      "outputs": [
        {
          "output_type": "stream",
          "name": "stdout",
          "text": [
            "1 2 [3, 4, 5, 6, 7, 8, 9]\n"
          ]
        }
      ]
    },
    {
      "cell_type": "markdown",
      "metadata": {
        "id": "vunu_jWEI9Q7"
      },
      "source": [
        "### 반환이 있는 함수\n",
        "- 실행결과를 돌려주는 경우\n",
        "- return \n",
        "  - 누구한테 돌려주느냐? `Caller`한테 돌려주는 겁니다.\n",
        "  - 함수 내에서만 사용 가능\n",
        "  - return 명령이 실행되면, 함수는 바로 종료가 됩니다."
      ]
    },
    {
      "cell_type": "code",
      "metadata": {
        "id": "P2RUreUELC-u"
      },
      "source": [
        "def function():\n",
        "  # return을 만나면, 돌려주고, 함수는 바로 종료 됩니다.\n",
        "  return 1\n",
        "\n",
        "  # 사실 이런 코드는 오류가 발생하지는 않지만, 아무 의미 없는 코드 입니다. \n",
        "  # 아래의 두 명령어는 절대 실행될 일이 없습니다. \n",
        "  return 2\n",
        "  return 3"
      ],
      "execution_count": null,
      "outputs": []
    },
    {
      "cell_type": "code",
      "metadata": {
        "colab": {
          "base_uri": "https://localhost:8080/"
        },
        "id": "8E8X94OnLahp",
        "outputId": "a7319d3d-0c58-41bd-deca-84a8236e9cf8"
      },
      "source": [
        "function()"
      ],
      "execution_count": null,
      "outputs": [
        {
          "output_type": "execute_result",
          "data": {
            "text/plain": [
              "1"
            ]
          },
          "metadata": {},
          "execution_count": 97
        }
      ]
    },
    {
      "cell_type": "markdown",
      "metadata": {
        "id": "TwpE7WIsL2cj"
      },
      "source": [
        "아래와같은 경우는 구분을 잘 하셔야 합니다. \n",
        "- 실행 결과만 놓고보면 구분이 잘 되지 않습니다. \n",
        "- 돌려주는 경우와 돌려주지 않는 경우"
      ]
    },
    {
      "cell_type": "code",
      "metadata": {
        "id": "vCVOs2qWL9Nh"
      },
      "source": [
        "def no_return(a, b):\n",
        "  print( a + b )\n",
        "\n",
        "def yes_return(a, b):\n",
        "  return a + b"
      ],
      "execution_count": null,
      "outputs": []
    },
    {
      "cell_type": "code",
      "metadata": {
        "colab": {
          "base_uri": "https://localhost:8080/"
        },
        "id": "SwSKAdyLMHag",
        "outputId": "98abc1fe-5f2c-4b43-9f04-e9eaa0541c6b"
      },
      "source": [
        "no_return(10, 20)"
      ],
      "execution_count": null,
      "outputs": [
        {
          "output_type": "stream",
          "name": "stdout",
          "text": [
            "30\n"
          ]
        }
      ]
    },
    {
      "cell_type": "code",
      "metadata": {
        "colab": {
          "base_uri": "https://localhost:8080/"
        },
        "id": "ltrmrkW-MJrg",
        "outputId": "058c7fd2-afc0-450f-a60d-dbde4bbbc09f"
      },
      "source": [
        "yes_return(10, 20)"
      ],
      "execution_count": null,
      "outputs": [
        {
          "output_type": "execute_result",
          "data": {
            "text/plain": [
              "30"
            ]
          },
          "metadata": {},
          "execution_count": 101
        }
      ]
    },
    {
      "cell_type": "code",
      "metadata": {
        "colab": {
          "base_uri": "https://localhost:8080/"
        },
        "id": "R3YdLiaOMLff",
        "outputId": "e3047fb4-4679-4e31-be05-1492c27d2c1a"
      },
      "source": [
        "print( no_return(10, 20) )\n",
        "print( yes_return(10, 20) )"
      ],
      "execution_count": null,
      "outputs": [
        {
          "output_type": "stream",
          "name": "stdout",
          "text": [
            "30\n",
            "None\n",
            "30\n"
          ]
        }
      ]
    },
    {
      "cell_type": "markdown",
      "metadata": {
        "id": "Vpdj1EapUl1I"
      },
      "source": [
        "리턴이 없는 경우"
      ]
    },
    {
      "cell_type": "code",
      "metadata": {
        "id": "7tj-RWb4UoG1"
      },
      "source": [
        "def no_return(a, b):\n",
        "  a + b\n",
        "\n",
        "def yes_return(a, b):\n",
        "  return a + b"
      ],
      "execution_count": null,
      "outputs": []
    },
    {
      "cell_type": "code",
      "metadata": {
        "id": "Y3TkDFRMU2tu"
      },
      "source": [
        "# ret 메모리에 들어갈 값은?\n",
        "ret = no_return(10, 20)"
      ],
      "execution_count": null,
      "outputs": []
    },
    {
      "cell_type": "code",
      "metadata": {
        "id": "qFxqUU85U4Pk"
      },
      "source": [
        "# 아무것도 없어요 ... \n",
        "ret"
      ],
      "execution_count": null,
      "outputs": []
    },
    {
      "cell_type": "code",
      "metadata": {
        "colab": {
          "base_uri": "https://localhost:8080/"
        },
        "id": "OSCLIAOlVAEj",
        "outputId": "8ee1c8b8-369c-40a7-b3ab-052d26b36f03"
      },
      "source": [
        "print( no_return(10, 20) )\n",
        "print( yes_return(10, 20) )"
      ],
      "execution_count": null,
      "outputs": [
        {
          "output_type": "stream",
          "name": "stdout",
          "text": [
            "None\n",
            "30\n"
          ]
        }
      ]
    },
    {
      "cell_type": "markdown",
      "metadata": {
        "id": "krwbUcEWbwdX"
      },
      "source": [
        "## 함수의 호출 구조\n",
        "1. 함수가 언제 실행이 되는가?\n",
        "  - 함수는 호출과 함께 실행이 됩니다.\n",
        "  - 함수가 실행이 된다는 것은?\n",
        "    - **메모리에 함수를 위한 공간이 따로 만들어 진다는 것** 을 의미합니다. \n",
        "    - `콜스택(호출스택)` 이라고 합니다. \n",
        "    - 즉, 함수는 함수가 사용하는 고유의 메모리 공간은 따로 가지게 됩니다. \n",
        "\n",
        "2. 함수는 언제 종료가 되는가? \n",
        "  - 함수를 블록 내에서 더 이상 실행할 명령어가 없으면 종료\n",
        "  - 또는 `return` 명령어가 실해되면 종료\n",
        "  - 함수가 종료 된다는 것은? \n",
        "    - **함수가 사용했던 메모리는 더 이상 존재하지 않습니다**\n",
        "    - 함수는 종료 하면서 사용했던 메모리를 반납하게 됩니다.\n",
        "\n",
        "- continue, break, return, yield\n",
        "  - continue와 break는 반복문 안에서만 사용이 가능합니다. \n",
        "  - return과 yield는 함수 내에서만 사용할 수 있습니다. "
      ]
    },
    {
      "cell_type": "markdown",
      "metadata": {
        "id": "e2QGsBLoG1vO"
      },
      "source": [
        "### 지역변수(Local Variable)\n",
        "- 변수를 메모리의 주소 대신에 사용하는 이름 정도로 해석\n",
        "  - 값을 저장하기 위해서 사용하는 메모리의 위치가 두 군데\n",
        "  - 글로벌 메모리\n",
        "  - 로컬 메모리(함수가 사용하는 메모리)\n",
        "    - 함수 내에서 변수를 정의하면 로컬 메모리에 생성\n",
        "    - 그 변수를 `지역변수`라고 부릅니다. \n",
        "\n",
        "- 함수가 실행되는 동안에만 유지가 되는 변수\n",
        "  - 함수가 종료되면 참조는 불가능\n",
        "  - 파라미터도 지역변수 입니다. "
      ]
    },
    {
      "cell_type": "code",
      "metadata": {
        "colab": {
          "base_uri": "https://localhost:8080/"
        },
        "id": "c-DoKV69Jyso",
        "outputId": "1754b739-fde5-4948-8348-4b9226ff0fb8"
      },
      "source": [
        "# 변수를 정의하는 위치에 따라서, 종류가 결정\n",
        "a = '전역변수'\n",
        "\n",
        "def function():\n",
        "  # 지역변수와 전역변수의 이름이 같은 경우\n",
        "  # 지역변수가 우선합니다.\n",
        "  a = '지역변수'\n",
        "  print(a)\n",
        "\n",
        "# 함수 외부에서 지역변수를 참조할 수 있는 방법은 없습니다. \n",
        "print(a)\n",
        "function()"
      ],
      "execution_count": null,
      "outputs": [
        {
          "output_type": "stream",
          "name": "stdout",
          "text": [
            "전역변수\n",
            "지역변수\n"
          ]
        }
      ]
    },
    {
      "cell_type": "markdown",
      "metadata": {
        "id": "6Yll82FPLGJz"
      },
      "source": [
        "## 함수의 다양한 종류\n",
        "- 재귀함수\n",
        "- 익명함수\n",
        "- 함수형 문법"
      ]
    },
    {
      "cell_type": "markdown",
      "metadata": {
        "id": "kKsyIUpTOV1q"
      },
      "source": [
        "### 재귀함수\n",
        "- 자기 자신을 호출하는 함수를 `재귀함수` 혹은 `재귀호출` 이라고 합니다. \n",
        "\n",
        "- 재귀함수의 예시\n",
        "\n",
        "```\n",
        "어느 한 컴퓨터공학과 학생이 유명한 교수님을 찾아가 물었다.\n",
        "-- \"재귀함수가 뭔가요?\"\n",
        "-- \"잘 들어보게. 옛날옛날 한 산 꼭대기에 이세상 모든 지식을 통달한 선인이 있었어. \n",
        "-- 마을 사람들은 모두 그 선인에게 수많은 질문을 했고, 모두 지혜롭게 대답해 주었지. 그의 답은 대부분 옳았다고 하네.\n",
        "-- 그런데 어느 날, 그 선인에게 한 선비가 찾아와서 물었어.\n",
        "-- \"재귀함수가 뭔가요?\"\n",
        "------ \"잘 들어보게. 옛날옛날 한 산 꼭대기에 이세상 모든 지식을 통달한 선인이 있었어. \n",
        "------ 마을 사람들은 모두 그 선인에게 수많은 질문을 했고, 모두 지혜롭게 대답해 주었지. 그의 답은 대부분 옳았다고 하네.\n",
        "------ 그런데 어느 날, 그 선인에게 한 선비가 찾아와서 물었어.\n",
        "------ \"재귀함수가 뭔가요?\"\n",
        "---------- \"잘 들어보게. 옛날옛날 한 산 꼭대기에 이세상 모든 지식을 통달한 선인이 있었어. \n",
        "---------- 마을 사람들은 모두 그 선인에게 수많은 질문을 했고, 모두 지혜롭게 대답해 주었지. 그의 답은 대부분 옳았다고 하네.\n",
        "---------- 그런데 어느 날, 그 선인에게 한 선비가 찾아와서 물었어.\n",
        "---------- \"재귀함수가 뭔가요?\"\n",
        "```\n",
        "\n",
        "- GNU\n",
        "  - GNU Not Unix의 약자로 아무 의미 없는 단어\n",
        "  - 재귀를 응용한 일종의 말장난\n",
        "  - GNU(GNU(GNU(GNU(...) Not Unix) Not Unix) Not Unix)\n",
        "\n",
        "- 재귀는 잘 못 쓰면 매우 심각한 오류가 발생\n",
        "  - 과거에는 재귀호출은 이용하지 말 것을 권장\n",
        "  - 최근에는 재귀를 잘 사용하는 방향으로 권장\n",
        "    - 재귀가 아니면 풀 수 없는 문제들도 존재\n",
        "    - 완전탐색, 등에서 많이 사용\n",
        "  - 최근의 언어들은 재귀의 심각한 오류를 방지하기 위해서 \n",
        "  - 최대 `재귀호출` 개수를 정해놓고 그 이상은 호출되지 않도록 방지 \n",
        "    - 파이썬은 기본값이 1000개 입니다. "
      ]
    },
    {
      "cell_type": "code",
      "metadata": {
        "id": "mMXjDmAZOlVL"
      },
      "source": [
        "def recursive():\n",
        "    print('무한히 반복하는 형태')\n",
        "    recursive()\n",
        "    \n",
        "recursive() # 트리거"
      ],
      "execution_count": null,
      "outputs": []
    },
    {
      "cell_type": "code",
      "metadata": {
        "id": "XJpcBk76RE9N"
      },
      "source": [
        "# 재귀는 반복의 또 다른 형태\n",
        "# while, for를 사용하지 않고도 반복적인 처리가 가능\n",
        "# 잘못쓰면, 무한히 재귀 호출이 발생(시스템 자체가 다운될 가능성이 있습니다 )\n",
        "\n",
        "def recursive(n):\n",
        "  # 기저조건(Base Condition)\n",
        "  if n > 10: return\n",
        "\n",
        "  print(\"{}  재귀함수가 뭔가요?\".format('--' * n))\n",
        "  print(\"{}  잘 들어보게. 옛날옛날 한 산 꼭대기에 이세상 모든 지식을 통달한 선인이 있었어.\".format('--' * n) )\n",
        "  print(\"{}  마을 사람들은 모두 그 선인에게 수많은 질문을 했고, 모두 지혜롭게 대답해 주었지. 그의 답은 대부분 옳았다고 하네.\".format('--' * n))\n",
        "  print(\"{}  그런데 어느 날, 그 선인에게 한 선비가 찾아와서 물었어.\".format('--' * n) )\n",
        "  \n",
        "  recursive(n+2) # 재귀호출"
      ],
      "execution_count": null,
      "outputs": []
    },
    {
      "cell_type": "code",
      "metadata": {
        "colab": {
          "base_uri": "https://localhost:8080/"
        },
        "id": "N5TqhfsxRfrn",
        "outputId": "4845c6ae-d261-48e2-c7b5-73d156bc7420"
      },
      "source": [
        "recursive(1)"
      ],
      "execution_count": null,
      "outputs": [
        {
          "output_type": "stream",
          "name": "stdout",
          "text": [
            "--  재귀함수가 뭔가요?\n",
            "--  잘 들어보게. 옛날옛날 한 산 꼭대기에 이세상 모든 지식을 통달한 선인이 있었어.\n",
            "--  마을 사람들은 모두 그 선인에게 수많은 질문을 했고, 모두 지혜롭게 대답해 주었지. 그의 답은 대부분 옳았다고 하네.\n",
            "--  그런데 어느 날, 그 선인에게 한 선비가 찾아와서 물었어.\n",
            "------  재귀함수가 뭔가요?\n",
            "------  잘 들어보게. 옛날옛날 한 산 꼭대기에 이세상 모든 지식을 통달한 선인이 있었어.\n",
            "------  마을 사람들은 모두 그 선인에게 수많은 질문을 했고, 모두 지혜롭게 대답해 주었지. 그의 답은 대부분 옳았다고 하네.\n",
            "------  그런데 어느 날, 그 선인에게 한 선비가 찾아와서 물었어.\n",
            "----------  재귀함수가 뭔가요?\n",
            "----------  잘 들어보게. 옛날옛날 한 산 꼭대기에 이세상 모든 지식을 통달한 선인이 있었어.\n",
            "----------  마을 사람들은 모두 그 선인에게 수많은 질문을 했고, 모두 지혜롭게 대답해 주었지. 그의 답은 대부분 옳았다고 하네.\n",
            "----------  그런데 어느 날, 그 선인에게 한 선비가 찾아와서 물었어.\n",
            "--------------  재귀함수가 뭔가요?\n",
            "--------------  잘 들어보게. 옛날옛날 한 산 꼭대기에 이세상 모든 지식을 통달한 선인이 있었어.\n",
            "--------------  마을 사람들은 모두 그 선인에게 수많은 질문을 했고, 모두 지혜롭게 대답해 주었지. 그의 답은 대부분 옳았다고 하네.\n",
            "--------------  그런데 어느 날, 그 선인에게 한 선비가 찾아와서 물었어.\n",
            "------------------  재귀함수가 뭔가요?\n",
            "------------------  잘 들어보게. 옛날옛날 한 산 꼭대기에 이세상 모든 지식을 통달한 선인이 있었어.\n",
            "------------------  마을 사람들은 모두 그 선인에게 수많은 질문을 했고, 모두 지혜롭게 대답해 주었지. 그의 답은 대부분 옳았다고 하네.\n",
            "------------------  그런데 어느 날, 그 선인에게 한 선비가 찾아와서 물었어.\n"
          ]
        }
      ]
    },
    {
      "cell_type": "markdown",
      "metadata": {
        "id": "FqfNkGNESCTE"
      },
      "source": [
        "1부터 n까지의 합을 구하는 프로그램\n",
        "- 일반화된 공식도 있습니다\n",
        "  - 가우스 아저씨가 발견했습니다.\n",
        "  - 일반화된 공식을 이용하지 않고, 반복적으로 처리해서 답을 구해봅니다. "
      ]
    },
    {
      "cell_type": "code",
      "metadata": {
        "id": "Lrb4qw46SaZ6"
      },
      "source": [
        "# 반복문을 이용해서 1부터 n까지의 전체 합\n",
        "# 1 + 2 + 3 + ... + n\n",
        "# 1씩 증가하면서 전부 더하면 됩니다. \n",
        "# 또는 1씩 감소하면서 전부 더해도 됩니다. \n",
        "n = 10"
      ],
      "execution_count": null,
      "outputs": []
    },
    {
      "cell_type": "code",
      "metadata": {
        "colab": {
          "base_uri": "https://localhost:8080/"
        },
        "id": "9OccCJL0SmRs",
        "outputId": "a69ff716-0bf7-43a4-d8fc-cb6b62682c02"
      },
      "source": [
        "# for를 이용한다면 더해줘야 되는 수를 range로 생성하는 방법을 생각해볼 수 있습니다. \n",
        "ans = 0\n",
        "for i in range(1, n+1):\n",
        "  ans += i\n",
        "print(ans)"
      ],
      "execution_count": null,
      "outputs": [
        {
          "output_type": "stream",
          "name": "stdout",
          "text": [
            "55\n"
          ]
        }
      ]
    },
    {
      "cell_type": "code",
      "metadata": {
        "colab": {
          "base_uri": "https://localhost:8080/"
        },
        "id": "ucg0l5fET0OD",
        "outputId": "a225d0b2-5bac-4719-b92a-1df16dd90320"
      },
      "source": [
        "# while을 이용한다면 n부터 차례대로 수를 1씩 감소하면서 더해주는 방법도 생각해볼 수 있습니다. \n",
        "n = 10\n",
        "ans = 0\n",
        "while n: # 0은 거짓이 되는 트릭을 이용해서 처리\n",
        "  ans += n\n",
        "  n -= 1\n",
        "print(ans)"
      ],
      "execution_count": null,
      "outputs": [
        {
          "output_type": "stream",
          "name": "stdout",
          "text": [
            "55\n"
          ]
        }
      ]
    },
    {
      "cell_type": "code",
      "metadata": {
        "id": "TU46ZOLlUalM"
      },
      "source": [
        "def recursive(n):\n",
        "  # 기저조건\n",
        "  if n == 0: return n\n",
        "  return n + recursive(n-1)"
      ],
      "execution_count": null,
      "outputs": []
    },
    {
      "cell_type": "code",
      "metadata": {
        "colab": {
          "base_uri": "https://localhost:8080/"
        },
        "id": "WDzdrBqVUjKK",
        "outputId": "1c126c66-5515-4b56-a86b-755c9c4c90b4"
      },
      "source": [
        "n = 10\n",
        "recursive(n)"
      ],
      "execution_count": null,
      "outputs": [
        {
          "output_type": "execute_result",
          "data": {
            "text/plain": [
              "55"
            ]
          },
          "metadata": {},
          "execution_count": 17
        }
      ]
    },
    {
      "cell_type": "markdown",
      "metadata": {
        "id": "MOxsIbs8eUYg"
      },
      "source": [
        "### 익명함수\n",
        "- 파이썬에서는 람다(Lambda)를 이용해서 익명함수를 작성할 수 있습니다. \n",
        "- 함수의 이름이 없기 때문에 `익명함수`라고 부릅니다.\n",
        "  - 자주 사용되는 기능은 아니지만, 은근히 쓰여요\n",
        "  - 함수 이름이 없으면 어떻게 호출하지?\n",
        "    - 두고두고 사용하는 그런 함수의 개념과는 조금 달라요\n",
        "    - 간단하게 한 번 사용하고 마는, 이런 함수를 정의할 때 사용합니다.\n",
        "\n",
        "- 익명함수는 다음과 같이 정의될 수 있습니다. \n",
        "\n",
        "```\n",
        "lambda 파라미터: 명령어\n",
        "```\n",
        "\n",
        "- 여러줄에 걸친 복잡한 명령은 사용할 수 없습니다. \n",
        "  - 한 라인에 정의 가능한(간단한)형태를 사용할 때, 유용하게 쓰입니다. "
      ]
    },
    {
      "cell_type": "code",
      "metadata": {
        "colab": {
          "base_uri": "https://localhost:8080/"
        },
        "id": "yEeNZuikgZbZ",
        "outputId": "37b3e1e3-631d-4f22-8ed3-1612811350b4"
      },
      "source": [
        "def add(a, b):\n",
        "  return a + b\n",
        "\n",
        "add(10, 20)"
      ],
      "execution_count": null,
      "outputs": [
        {
          "output_type": "execute_result",
          "data": {
            "text/plain": [
              "30"
            ]
          },
          "metadata": {},
          "execution_count": 21
        }
      ]
    },
    {
      "cell_type": "code",
      "metadata": {
        "colab": {
          "base_uri": "https://localhost:8080/"
        },
        "id": "KHFj_FVZeWuv",
        "outputId": "4b9680d2-4b53-4026-cfd3-7d2c7c2a4f99"
      },
      "source": [
        "(lambda a, b: a + b)(10, 20)"
      ],
      "execution_count": null,
      "outputs": [
        {
          "output_type": "execute_result",
          "data": {
            "text/plain": [
              "30"
            ]
          },
          "metadata": {},
          "execution_count": 27
        }
      ]
    },
    {
      "cell_type": "markdown",
      "metadata": {
        "id": "XF3IPjTxgTrN"
      },
      "source": [
        "### 함수형 문법\n",
        "- 파이썬은 거의 대부분의 문법을 지원\n",
        "  1. 절차(Procedure)형 프로그래밍\n",
        "    - Procedure가 국내로 들어오면서 `절차`라는 단어로 해석\n",
        "    - `부프로그램`의 의미로 해석 => 함수\n",
        "    - 소스코드를 함수단위로 관리\n",
        "      - 소스코드의 재사용성이 증가 => 소스크도의 양이 줄어드는 효과\n",
        "      - 관리가 더 편해지는 등의 이점\n",
        "    - 파이썬은 함수만 이용해서 코드를 작성할 수 있습니다. \n",
        "  \n",
        "  2. 객체지향 프로그래밍\n",
        "    - 함수 단위로 소스코드를 작성해도 해결이 안됨\n",
        "      - 새로운 개발 방법론이 필요\n",
        "      - 클래스라는 개념이 도입\n",
        "        - 함수를 사용했을 때보다 재사용성이 더 증가\n",
        "        - 완벽하게 버그 없는 소프트웨어를 만들어 내는것은 불가능\n",
        "        - 기존 언어들의 한계적인 상황\n",
        "\n",
        "  3. 함수형 프로그래밍\n",
        "    - 코드를 작성하는 완벽히 새로운 방법\n",
        "    - 원래도 존재했던 이론 이지만, 현대에 들어서면서 점점 많은 사람들에게 선택되어지기 시작\n",
        "    - 함수형 언어들은 반복문이 없습니다. \n",
        "    - 반드시 필요하다면? 재귀를 이용해서 표현은 가능\n",
        "\n",
        "- 기존 문법의 한계 \n",
        "  - 어떤 집합 x에 대해서, y를 정의할 때, 관계를 나타내는 것이 함수\n",
        "  - 수하적으로는 이 자체로 완벽\n",
        "  - 프로그래밍 언어로 표현을 하면서부터 버그가 발생\n",
        "    - 튜링 구조적인 언어에서는 반드시 반복문의 사용이 필수\n",
        "    - 이 과정에서 불필요한 코드가 생기고 => 버그가 발생\n",
        "      - 통계적으로 10줄당 1개의 꼴로 버그가 발생한다는 통계도 있습니다\n",
        "      - 안전한 소프트웨어는 만들수 없다\n"
      ]
    },
    {
      "cell_type": "markdown",
      "metadata": {
        "id": "Zw1joZiSk7nj"
      },
      "source": [
        "- 파이썬은 완벽하게 함수형 언어처럼 동작 하지는 않지만. \n",
        "  - 함수형 언어의 일부 기능을 제공\n",
        "\n",
        "- 실수집합 x에 대한, 정수 집합 y를 가정\n",
        "  - 실수집합 x와 y를 표현할 수 있는 함수가 필요\n",
        "  - x와 y사이의 관계는 int()가 될 겁니다. \n",
        "\n",
        "\n"
      ]
    },
    {
      "cell_type": "code",
      "metadata": {
        "colab": {
          "base_uri": "https://localhost:8080/"
        },
        "id": "nVQ7to_ohYme",
        "outputId": "b7399b08-9858-4e2d-cac2-5fab29904728"
      },
      "source": [
        "# 기존의 프로그래밍 언어로는 반복적으로 처리를 해야만 합니다. \n",
        "x = [1.0, 2.0, 3.0, 4.0]\n",
        "y = []\n",
        "\n",
        "for i in x:\n",
        "  y.append( int(i) )\n",
        "print(y)"
      ],
      "execution_count": null,
      "outputs": [
        {
          "output_type": "stream",
          "name": "stdout",
          "text": [
            "[1, 2, 3, 4]\n"
          ]
        }
      ]
    },
    {
      "cell_type": "code",
      "metadata": {
        "colab": {
          "base_uri": "https://localhost:8080/"
        },
        "id": "62o16esbl0jd",
        "outputId": "57fd472d-846e-4d71-c28e-a692058aa89e"
      },
      "source": [
        "# 조금 더 파이썬 답게 사용한다면? \n",
        "x = [1.0, 2.0, 3.0, 4.0]\n",
        "y = [ int(i) for i in x ]\n",
        "print(y)"
      ],
      "execution_count": null,
      "outputs": [
        {
          "output_type": "stream",
          "name": "stdout",
          "text": [
            "[1, 2, 3, 4]\n"
          ]
        }
      ]
    },
    {
      "cell_type": "markdown",
      "metadata": {
        "id": "BsiPTe6F3p1i"
      },
      "source": [
        "파이썬은 map, filter, reduce와 같은 함수를 제공\n",
        "- 이 함수를 이용해서 함수형 문법"
      ]
    },
    {
      "cell_type": "code",
      "metadata": {
        "colab": {
          "base_uri": "https://localhost:8080/"
        },
        "id": "BErESx7s3w-C",
        "outputId": "c17ea57e-f69c-4b46-c6a7-be27cf9c58f8"
      },
      "source": [
        "x = [1.0, 2.0, 3.0, 4.0]\n",
        "list( map(int, x) )"
      ],
      "execution_count": null,
      "outputs": [
        {
          "output_type": "execute_result",
          "data": {
            "text/plain": [
              "[1, 2, 3, 4]"
            ]
          },
          "metadata": {},
          "execution_count": 31
        }
      ]
    },
    {
      "cell_type": "code",
      "metadata": {
        "colab": {
          "base_uri": "https://localhost:8080/"
        },
        "id": "x32KgXU84VXr",
        "outputId": "9e60e98b-d04e-4505-f5ae-a7d75779884f"
      },
      "source": [
        "# 파이썬의 익명함수를 응용해보면 \n",
        "# f(x) = 2x와 같은 함수를 가정\n",
        "x = [1, 2, 3, 4]\n",
        "list( map(lambda x: 2 * x, x) )"
      ],
      "execution_count": null,
      "outputs": [
        {
          "output_type": "execute_result",
          "data": {
            "text/plain": [
              "[2, 4, 6, 8]"
            ]
          },
          "metadata": {},
          "execution_count": 33
        }
      ]
    },
    {
      "cell_type": "markdown",
      "metadata": {
        "id": "5obcpqxj3_L7"
      },
      "source": [
        "> 파이썬은 함수형 언어는 아닙니다.\n",
        "  - map, filter, reduce를 사용하는 것이 함수형 프로그래밍의 전부가 아닙니다. \n",
        "  - 파이썬은 일부 지원이 가능\n",
        "  - 함수형 언어는 단순하지 않고, 데이터를 처리하는 방법이 전부 다르게 되어 있습니다. "
      ]
    }
  ]
}