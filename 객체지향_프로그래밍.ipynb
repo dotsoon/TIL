{
  "nbformat": 4,
  "nbformat_minor": 0,
  "metadata": {
    "colab": {
      "name": "객체지향 프로그래밍.ipynb",
      "provenance": [],
      "collapsed_sections": [],
      "toc_visible": true,
      "include_colab_link": true
    },
    "kernelspec": {
      "name": "python3",
      "display_name": "Python 3"
    },
    "language_info": {
      "name": "python"
    }
  },
  "cells": [
    {
      "cell_type": "markdown",
      "metadata": {
        "id": "view-in-github",
        "colab_type": "text"
      },
      "source": [
        "<a href=\"https://colab.research.google.com/github/dotsoon/TIL/blob/master/%EA%B0%9D%EC%B2%B4%EC%A7%80%ED%96%A5_%ED%94%84%EB%A1%9C%EA%B7%B8%EB%9E%98%EB%B0%8D.ipynb\" target=\"_parent\"><img src=\"https://colab.research.google.com/assets/colab-badge.svg\" alt=\"Open In Colab\"/></a>"
      ]
    },
    {
      "cell_type": "markdown",
      "metadata": {
        "id": "foNp6lCj49NC"
      },
      "source": [
        "# 객체지향 프로그래밍\n",
        "- OOP(Object Oriented Programming)\n",
        "- 객체지향은 개발 방법론 입니다. \n",
        "  - 소프트웨어를 관리하고 개발하는 전체 과정에 대한 얘기를 하는 거에요\n",
        "  - 객체지향은 하나의 개념(기술이자, 정의)입니다.\n",
        "  - 소프트웨어 공학\n",
        "    - 기획 => 요구사항 => 설계 => 구현(개발) => 배포 => 유지보수\n",
        "    - 수업 시간에 다루는 클래스나 객체에 대한 내용은 객체지향의 아주 일부분\n",
        "    - 개발적인 부분에서 언어들이 객제지향 프로그래밍을 위해서 제공하는 기능\n",
        "  - 수업 시간에 다루는 내용만 가지고는 객체지향에 대한 정확한 이해는 어렵습니다. \n",
        "\n",
        "- 파이썬에서 제공하는 클래스와 객체에 대해서 배우게 됩니다. \n",
        "  - 클래스와 객체라는 건, 파이썬에서만 사용할 수 있는 기술이 아닙니다.\n",
        "  - 파이썬은 완벽한 객체지향 언어가 아닙니다.\n",
        "    - 파이썬은 `느슨하게` 객체지향 문법을 제공"
      ]
    },
    {
      "cell_type": "markdown",
      "metadata": {
        "id": "ypmPyYWK7LwD"
      },
      "source": [
        "## 클래스\n",
        "- 클래스를 아주아주 축소한 개념으로 보자면 \n",
        "  - 사용자가 정의하는 새로운 타입 정도로 해석\n",
        "  - int, float, bool, str, list, tuple, range, ... => 파이썬에서 미리 정의해둔 클래스들 입니다. \n",
        "  - 이렇게, 미리 정의된 클래스들 외에도 사용자가 직접 타입을 정의할 수 있다. \n",
        "    - 새로운 클래스를 만들어서 사용할 수 있다. \n",
        "  - 파이썬 에서는 클래스가 아닌것들이 없습니다. \n",
        "    - 심지어 함수도 클래스로 정의가 되어 있습니다. \n",
        "\n",
        "- 클래스를 정의하는 기본 형태\n",
        "\n",
        "```\n",
        "class 클래스이름: \n",
        "[들여쓰기]클래스 블록 .. \n",
        "```\n",
        "\n",
        "- 클래스를 정의할 때 고려해야 되는 규칙\n",
        "  - 클래스의 이름은 대문자로 시작(권장)\n",
        "  - 소문자로 시작하는 경우는 변수이름과, 함수이름\n",
        "    - 결국, 변수나 함수와 구분하기 위해서 권장\n",
        "    - int, float, list, ... 와 같이 잘 알려져 있는 파이썬의 기본 클래스들은 구분이 가능하기 때문에 소문자로 표현"
      ]
    },
    {
      "cell_type": "markdown",
      "metadata": {
        "id": "o1wVkNre66eE"
      },
      "source": [
        "## 객체\n",
        "- object 또는 instance 라고 합니다. \n",
        "- 변수의 확장된 형태\n",
        "  - 파이썬은 전부 객체 입니다. \n",
        "  - 심지어 클래스도 하나의 객체로써 다뤄지긴 합니다.\n",
        "- 클래스는 정의\n",
        "  - 이렇게 정의된 클래스를 사용하기 위해서는 메모리에 만들어야 합니다. \n",
        "  - 정의된 클래스를 메모리에 만들면 객체(인스턴스)라고 합니다. \n",
        "  - 함수와 동일한 개념\n",
        "    - 함수를 정의하고 함수를 호출하면 실행(메모리를 생성)\n",
        "    - 클래스를 정의하고 클래스에 대한 메모리를 생성(객체)\n",
        "      - 클래스를 호출하는 것으로 객체를 생성할 수 있습니다. \n",
        "      - 함수는 실행이 끝나면 메모리를 반환하고 종료되지만,\n",
        "      - 객체는 종료되지 않습니다. 한 번 메모리에 만들어지면 임의로 삭제하기 전까지는 계속 남아 있습니다. \n",
        "        - 이것을 우리는 `객체`라고 부르기로 했습니다. \n",
        "\n",
        "- 파이썬은 사실 모든 것이 `객체` 입니다. \n",
        "  - 우리가 앞에서 배웠던 모든 것은 전부 객체 입니다. \n",
        "  - 함수도 객체이고, 변수도 객체 입니다. "
      ]
    },
    {
      "cell_type": "markdown",
      "metadata": {
        "id": "NoBW8Acv7O36"
      },
      "source": [
        "수업시간에는 아무것도 없는 빈 클래스를 정의 해봅니다. "
      ]
    },
    {
      "cell_type": "code",
      "metadata": {
        "id": "lDQtTGXJ-_Lp"
      },
      "source": [
        "# 수업 시간에는 사람이라는 클래스를 정의\n",
        "# 이렇게 말도 안되는 예를 가정하는 이유는\n",
        "# 객체를 살아있는 생물이나, 물건처럼 취급을 하는 겁니다.\n",
        "# 영화나 소설에서 의인화 하듯이, 객체도 뭔가 살아 움직이는 것 처럼, 혹은 사물(키보드, 모니터, ... )로써, 취급\n",
        "# 사람을 모델로 해서 클래스를 정의하는 방법을 설명\n",
        "\n",
        "class Person:\n",
        "  pass # 파이썬은 클래스도 빈 블록을 허용하지 않습니다. "
      ],
      "execution_count": null,
      "outputs": []
    },
    {
      "cell_type": "code",
      "metadata": {
        "colab": {
          "base_uri": "https://localhost:8080/"
        },
        "id": "cft7HJ-k_dRK",
        "outputId": "b4d4468a-53aa-4fd9-f799-833c56eebaf6"
      },
      "source": [
        "# 객체 생성(함수를 호출하듯이 클래스를 호출)\n",
        "# 파이썬 인터프리터는 생성된 객체를 돌려줍니다. \n",
        "Person()"
      ],
      "execution_count": null,
      "outputs": [
        {
          "output_type": "execute_result",
          "data": {
            "text/plain": [
              "<__main__.Person at 0x7f390ba60690>"
            ]
          },
          "metadata": {},
          "execution_count": 3
        }
      ]
    },
    {
      "cell_type": "markdown",
      "metadata": {
        "id": "9iTN1lU4AJEk"
      },
      "source": [
        "```\n",
        "   __main__.Person          at             0x7f390ba60690\n",
        "---------------------                   --------------------\n",
        "객체의 타입(어떤 클래스)                 객체가 생성된 주소\n",
        "```"
      ]
    },
    {
      "cell_type": "code",
      "metadata": {
        "colab": {
          "base_uri": "https://localhost:8080/"
        },
        "id": "VwmZxeohA613",
        "outputId": "4900b6e5-18a5-4b98-ecba-d2e75aa51fc7"
      },
      "source": [
        "# 이런 방식으로는 객체를 사용할 수 없습니다.\n",
        "# 객체가 만들어진 위치를 확인할 순 있지만, 참조는 불가능\n",
        "# 변수가 꼭 필요 합니다. \n",
        "obj = Person()\n",
        "obj"
      ],
      "execution_count": null,
      "outputs": [
        {
          "output_type": "execute_result",
          "data": {
            "text/plain": [
              "<__main__.Person at 0x7f390ba60590>"
            ]
          },
          "metadata": {},
          "execution_count": 4
        }
      ]
    },
    {
      "cell_type": "markdown",
      "metadata": {
        "id": "fSst4e9zBVOs"
      },
      "source": [
        "> 변수를 통한 객체의 참조\n",
        "  - 일반적으로 객체지향 프로그래밍 에서는 변수를 하나의 객체로 동일하게 취급\n",
        "  - 정확하게는 변수와 객체는 구분이 가능하지만\n",
        "  - 변수를 객체와 동일시 하게 됩니다. \n",
        "  - 변수 자체를 하나의 객체로 취급"
      ]
    },
    {
      "cell_type": "markdown",
      "metadata": {
        "id": "BJL7gp7ZCWcE"
      },
      "source": [
        "사실 모든것이 객체 입니다. "
      ]
    },
    {
      "cell_type": "code",
      "metadata": {
        "colab": {
          "base_uri": "https://localhost:8080/"
        },
        "id": "3MmpOBE-BmCE",
        "outputId": "cc18b26d-203e-4588-c81b-ec8b622fbba4"
      },
      "source": [
        "# 변수의 정의는 사실 알보면 객체 생성과 동일 합니다. \n",
        "a = 10\n",
        "a"
      ],
      "execution_count": null,
      "outputs": [
        {
          "output_type": "execute_result",
          "data": {
            "text/plain": [
              "10"
            ]
          },
          "metadata": {},
          "execution_count": 5
        }
      ]
    },
    {
      "cell_type": "code",
      "metadata": {
        "colab": {
          "base_uri": "https://localhost:8080/"
        },
        "id": "P91MCzYUCcQ4",
        "outputId": "e849566a-19f6-4f42-9207-ea4d2de950bf"
      },
      "source": [
        "# 표현만 다를 뿐 동일한 객체의 생성\n",
        "a = int(10)\n",
        "a"
      ],
      "execution_count": null,
      "outputs": [
        {
          "output_type": "execute_result",
          "data": {
            "text/plain": [
              "10"
            ]
          },
          "metadata": {},
          "execution_count": 7
        }
      ]
    },
    {
      "cell_type": "markdown",
      "metadata": {
        "id": "UhlQmLuxCg6E"
      },
      "source": [
        "> a는 10이라는 숫자 하나를 가지고 있는 객체 입니다. "
      ]
    },
    {
      "cell_type": "markdown",
      "metadata": {
        "id": "HyaaoJZhCqQB"
      },
      "source": [
        "함수도 객체 입니다. "
      ]
    },
    {
      "cell_type": "code",
      "metadata": {
        "colab": {
          "base_uri": "https://localhost:8080/"
        },
        "id": "sAukqFlDCuAV",
        "outputId": "3e3b6d21-e915-4d38-a852-337d40841c03"
      },
      "source": [
        "print"
      ],
      "execution_count": null,
      "outputs": [
        {
          "output_type": "execute_result",
          "data": {
            "text/plain": [
              "<function print>"
            ]
          },
          "metadata": {},
          "execution_count": 10
        }
      ]
    },
    {
      "cell_type": "markdown",
      "metadata": {
        "id": "KuT7j2MGFxmb"
      },
      "source": [
        "얕은 복사 Vs. 깊은복사\n",
        "- 리스트를 이용해서 얕은 복사와 깊은 복사를 다룬적이 있습니다. \n",
        "  - 리스트도 객체이고, 새로 정의한 Person 타입의 객체도 객체이기 때문에\n",
        "  - 동일하게 동작 합니다. "
      ]
    },
    {
      "cell_type": "code",
      "metadata": {
        "id": "tnx54vxcF_2E"
      },
      "source": [
        "장동건 = Person()\n",
        "원빈 = Person()"
      ],
      "execution_count": null,
      "outputs": []
    },
    {
      "cell_type": "code",
      "metadata": {
        "colab": {
          "base_uri": "https://localhost:8080/"
        },
        "id": "4BW4B2TgGDNo",
        "outputId": "6efd33ac-ddc6-4ea7-8824-dd21153297a2"
      },
      "source": [
        "print( 장동건 )\n",
        "print( 원빈 )"
      ],
      "execution_count": null,
      "outputs": [
        {
          "output_type": "stream",
          "name": "stdout",
          "text": [
            "<__main__.Person object at 0x7f390ba6d990>\n",
            "<__main__.Person object at 0x7f390ba6df90>\n"
          ]
        }
      ]
    },
    {
      "cell_type": "code",
      "metadata": {
        "id": "IXSV5GGGGF1a"
      },
      "source": [
        "# 다른 메모리로 복사하게 되면, 주소가 복가 됩니다. \n",
        "# 얕은 복사가 됩니다. \n",
        "# 두 객체는 같은 객체가 됩니다. \n",
        "고소영 = 장동건"
      ],
      "execution_count": null,
      "outputs": []
    },
    {
      "cell_type": "code",
      "metadata": {
        "colab": {
          "base_uri": "https://localhost:8080/"
        },
        "id": "rSLQuuUXGa3b",
        "outputId": "78a7c2ee-433a-47c4-b948-7a72e9b7f6b7"
      },
      "source": [
        "print(고소영)\n",
        "print(장동건)"
      ],
      "execution_count": null,
      "outputs": [
        {
          "output_type": "stream",
          "name": "stdout",
          "text": [
            "<__main__.Person object at 0x7f390ba6d990>\n",
            "<__main__.Person object at 0x7f390ba6d990>\n"
          ]
        }
      ]
    },
    {
      "cell_type": "markdown",
      "metadata": {
        "id": "dBjH2nupGdl2"
      },
      "source": [
        "> 모든건 주소를 기준으로 구분이 됩니다. \n",
        "  - 변수, 함수, 클래스, 객체 모든것이 메모리의 주소(위치)를 기준으로 구분\n",
        "  - 같아 보이는 객체도 주소가 다르면 다른 객체 입니다. \n",
        "  - 달라 보이는 객체도 주소가 같으면 같은 객체 입니다. "
      ]
    },
    {
      "cell_type": "markdown",
      "metadata": {
        "id": "zB4IPKvaGzoi"
      },
      "source": [
        "타입이 같은것과 주소가 다른 것"
      ]
    },
    {
      "cell_type": "code",
      "metadata": {
        "id": "Sb3ekXDTHiFX"
      },
      "source": [
        "# a, b도 모두 int 타입이지만 같은 변수라고 하지 않습니다\n",
        "a = 10\n",
        "b = 20"
      ],
      "execution_count": null,
      "outputs": []
    },
    {
      "cell_type": "code",
      "metadata": {
        "id": "af1s6KJ-Hrgb"
      },
      "source": [
        "# 동일한 타입 이지만, 같은 변수(객체)라고 하지 않습니다.\n",
        "a = [1, 2, 3, 4]\n",
        "b = [6, 7, 8, 9]"
      ],
      "execution_count": null,
      "outputs": []
    },
    {
      "cell_type": "markdown",
      "metadata": {
        "id": "_XUOSVnmKTgB"
      },
      "source": [
        "# 클래스의 구조\n",
        "- 속성과 기능으로 정의될 수 있습니다. \n",
        "  - 클래스 내부에서 정의되는 변수를 클래스의 속성이라고 표현\n",
        "  - 클래스 내부에서 정의되는 함수를 클래스의 기능이라고 표현\n",
        "  - 한 클래스는 여러개의 속성과 기능으로 정의될 수 있습니다. \n",
        "    - 이때, 속성과 기능은 클래스의 특징을 반영\n",
        "    - Person 클래스는 어떤 특징을 반영?\n",
        "      - 사람이라면 누구나 가지고 있는 특성: 이름, 나이, 사는 곳, ... \n",
        "      - 사람이라면 누구나 가지고 있는 기능: 먹고, 마시고, 자고, ... \n",
        "    - 리스트 클래스는 어떤 특징?\n",
        "      - 속성: 리스트의 원소\n",
        "      - 기능: append, extend, insert, reverse, ... \n",
        "  - 클래스 내에서 정의된 함수를 `메소드`라고 표현 합니다. \n",
        "    - 표현을 다르게 할 뿐이고, 동작은 동일합니다. \n",
        "    - 클래스 내부에서 정의된 경우와 그렇지 않은 경우를 구분해서 표현\n",
        "  \n",
        "  - 변수\n",
        "    - 전역, 지역, 클래스 변수, 객체 변수\n",
        "    - 클래스 변수는 클래스 내에서 정의되는 변수\n",
        "    - 객체 변수는 객체 내에서 정의되는 변수"
      ]
    },
    {
      "cell_type": "markdown",
      "metadata": {
        "id": "qLb78mKkL2kH"
      },
      "source": [
        "## 객체변수\n",
        "- 객체가 없으면 정의할 수 없습니다. \n",
        "  - 객체가 생성된 이후에 정의될 수 있습니다.\n",
        "- 같은 타입 이라고 해도, 객체와 객체간에는 객체변수를 서로 공유하지 않습니다. \n",
        "  - 객체 고유의 변수\n",
        "  - 함수의 고유 메모리에 생성되는 변수를 지역변수라고 불렀습니다. \n",
        "  - 객체의 고유 메모리에 생성되는 변수를 객체변수라고 부릅니다. "
      ]
    },
    {
      "cell_type": "code",
      "metadata": {
        "id": "4ceZF31LMgph"
      },
      "source": [
        "# 1. 객체가 먼저 생성되어야 합니다. \n",
        "장동건 = Person()"
      ],
      "execution_count": null,
      "outputs": []
    },
    {
      "cell_type": "code",
      "metadata": {
        "id": "OsfMi1VLMnIG"
      },
      "source": [
        "# 2. 만들어진 객체를 통해서 변수를 정의\n",
        "장동건.name = '장동건'\n",
        "장동건.age = 20"
      ],
      "execution_count": null,
      "outputs": []
    },
    {
      "cell_type": "code",
      "metadata": {
        "colab": {
          "base_uri": "https://localhost:8080/"
        },
        "id": "_TUisF81MyQs",
        "outputId": "470477c8-3ca2-4cbc-bc36-e6fd73057e24"
      },
      "source": [
        "# 객체를 통해서 정의된 객체변수를 참조\n",
        "print(장동건.name)\n",
        "print(장동건.age)"
      ],
      "execution_count": null,
      "outputs": [
        {
          "output_type": "stream",
          "name": "stdout",
          "text": [
            "장동건\n",
            "20\n"
          ]
        }
      ]
    },
    {
      "cell_type": "markdown",
      "metadata": {
        "id": "uvZ0LdeuM60W"
      },
      "source": [
        "> 파이썬에서 `.`의 의미\n",
        "- 네임스페이스의 역할\n",
        "- 참조하려는 변수, 함수 또는 클래스가 어디에 정의되어 있는지를 표현\n",
        "  - 변수를 예로 들면, 변수가 객체 내에서 정의된 변수일 수도 있고, \n",
        "  - 클래스에서 정의된 변수, 혹은 다른 파이썬 소스파일에서 정의된 변수\n",
        "    - 이름이 같으면, 충돌이 발생(구분을 할 수 없게 됩니다)\n",
        "  - `객체.변수` => 객체의 멤버\n",
        "  - `클래스.변수`\n",
        "  - `모듈.변수`"
      ]
    },
    {
      "cell_type": "markdown",
      "metadata": {
        "id": "_CO7X6KhUh-e"
      },
      "source": [
        "## 클래스 변수\n",
        "- 객체와는 무관한 변수\n",
        "  - 객체 없이도 참조 가능한 변수\n",
        "- 클래스 내부, 메소드 외부에 정의가 되면 `클래스 변수`가 됩니다. \n",
        "- 공유변수\n",
        "  - 모든 객체가 하나의 동일한 클래스 변수를 참조"
      ]
    },
    {
      "cell_type": "code",
      "metadata": {
        "id": "1FXQs7NnUxoW"
      },
      "source": [
        "class Person:\n",
        "  # 한국 국적을 가지고 있는 사람을 가정\n",
        "  nation = 'korea'"
      ],
      "execution_count": null,
      "outputs": []
    },
    {
      "cell_type": "code",
      "metadata": {
        "colab": {
          "base_uri": "https://localhost:8080/",
          "height": 35
        },
        "id": "Z_6JDjj8VNiK",
        "outputId": "16d01f43-3afc-4a7c-964d-ca09bb96abde"
      },
      "source": [
        "# 객체와 상관없이 클래스를 통해서 참조\n",
        "Person.nation"
      ],
      "execution_count": null,
      "outputs": [
        {
          "output_type": "execute_result",
          "data": {
            "application/vnd.google.colaboratory.intrinsic+json": {
              "type": "string"
            },
            "text/plain": [
              "'korea'"
            ]
          },
          "metadata": {},
          "execution_count": 23
        }
      ]
    },
    {
      "cell_type": "markdown",
      "metadata": {
        "id": "SH220f5cVggk"
      },
      "source": [
        "**주의!**\n",
        "- 파이썬은 객체를 통해서 클래스 변수에 대한 참조가 가능\n",
        "  - 사실 이런 접근은 막아야 하지만, 파이썬 허용 합니다.\n",
        "  - 대부분의 언어는 이런 접근을 사전을 차단을 하지만\n",
        "  - 때문에, 파이썬은 문제가 발생할 수 있습니다. "
      ]
    },
    {
      "cell_type": "code",
      "metadata": {
        "colab": {
          "base_uri": "https://localhost:8080/"
        },
        "id": "lTAU95MlVx4O",
        "outputId": "0495708f-42bc-4924-ba23-2c0d342bd843"
      },
      "source": [
        "장동건 = Person()\n",
        "\n",
        "# 어? 이게되네?\n",
        "# 이게 되면 안되는데 ... \n",
        "# 코드 자체가 모호해지는 문제가 발생(객체변수인지? 클래스변수인지?)\n",
        "print( 장동건.nation )"
      ],
      "execution_count": null,
      "outputs": [
        {
          "output_type": "stream",
          "name": "stdout",
          "text": [
            "korea\n"
          ]
        }
      ]
    },
    {
      "cell_type": "code",
      "metadata": {
        "colab": {
          "base_uri": "https://localhost:8080/"
        },
        "id": "FUD6vcWLV3cx",
        "outputId": "010129ab-c86f-4b25-a4e3-1569a5dd818b"
      },
      "source": [
        "# 클래스 변수일까요? 객체 변수일까요? \n",
        "장동건.nation = 'German'\n",
        "print( 장동건.nation )"
      ],
      "execution_count": null,
      "outputs": [
        {
          "output_type": "stream",
          "name": "stdout",
          "text": [
            "German\n"
          ]
        }
      ]
    },
    {
      "cell_type": "code",
      "metadata": {
        "colab": {
          "base_uri": "https://localhost:8080/"
        },
        "id": "em2MmBvqWIaM",
        "outputId": "65d823ad-eef8-4dc7-964e-f5d2ae263955"
      },
      "source": [
        "print( Person.nation )"
      ],
      "execution_count": null,
      "outputs": [
        {
          "output_type": "stream",
          "name": "stdout",
          "text": [
            "korea\n"
          ]
        }
      ]
    },
    {
      "cell_type": "markdown",
      "metadata": {
        "id": "kazoDL70WRUL"
      },
      "source": [
        "> 클래스 변수는 클래스를 통해서만 접근하도록 합니다!\n",
        "  - 굳이 객체를 통해서 클래스 변수를 참조해야만 되는 그런 상황은 없습니다\n",
        "  - 파이썬이 허용한다고 해도, 사용하지 않는 것이 좋습니다!\n",
        "  - 클래스 변수는 클래스를 통해서만 참조하고 \n",
        "  - 객체 변수는 객체를 통해서만 참조하면 아무 문제가 없습니다"
      ]
    },
    {
      "cell_type": "markdown",
      "metadata": {
        "id": "rr5p6FbYXrHR"
      },
      "source": [
        "## 메소드(Method)\n",
        "- 그냥 함수에요\n",
        "- 클래스 내에서 정의된 함수와 구분 하기 위해서 다르게 부릅니다. \n",
        "- 함수의 특징은 동일 합니다. "
      ]
    },
    {
      "cell_type": "code",
      "metadata": {
        "id": "4tqeJJSoY3p0"
      },
      "source": [
        "class Person:\n",
        "  nation = 'Korea'\n",
        "\n",
        "  # 클래스 내에서 정의되는 함수를 메소드라고 합니다. \n",
        "  # 메소드의 첫 번째 파라미터는 무조건 self가 됩니다\n",
        "  def method(self):\n",
        "    print('함수와 동일합니다')\n",
        "    print('클래스 내에서 정의가 되었을 뿐...')"
      ],
      "execution_count": null,
      "outputs": []
    },
    {
      "cell_type": "code",
      "metadata": {
        "colab": {
          "base_uri": "https://localhost:8080/"
        },
        "id": "GjnrIgtyZKf5",
        "outputId": "8d6f5df7-9432-43bd-83a9-d6d75952e7e8"
      },
      "source": [
        "# 메소드는 객체를 통해서만 호출이 가능\n",
        "장동건 = Person()\n",
        "장동건.method()"
      ],
      "execution_count": null,
      "outputs": [
        {
          "output_type": "stream",
          "name": "stdout",
          "text": [
            "함수와 동일합니다\n",
            "클래스 내에서 정의가 되었을 뿐...\n"
          ]
        }
      ]
    },
    {
      "cell_type": "markdown",
      "metadata": {
        "id": "Q1RfwkuyaVoK"
      },
      "source": [
        "### self?\n",
        "- 여러 다른 책이가 강의를 보면, `객체 자기 자신`을 의미한다고 설명을 많이 하게 되는데 .. \n",
        "  - 과연 이게 무슨 말인가?\n",
        "\n",
        "- 함수의 실행\n",
        "  - 함수는 호출이 되면 실행 => 메모리에 생성\n",
        "  - 메소드는 어떨까요?\n",
        "    - 객체가 먼저 만들어져야 메소드를 호출 => 실행 => 메모리에 생성\n",
        "    - 객체가 생성되는 시점과 메소드가 호출이 되어 메모리에 만들어지는 시점이 다르게 됩니다. \n",
        "  - 메소드를 호출할 때는, 어떤 객체가 호출했는지 알 수 있도록 \n",
        "  - 파라미터를 통해서 객체를 전달\n",
        "    - 직접 전달하지 않습니다. \n",
        "    - 파이썬 인터프리터에 의해서 자동으로 전달\n",
        "  - 메소드는 반드시 첫 번째 파라미터로 `self`를 정의해야 합니다. \n",
        "  - 메소드는 self를 통해서 호출한 객체를 구분"
      ]
    },
    {
      "cell_type": "code",
      "metadata": {
        "id": "5Paao8u8adQU"
      },
      "source": [
        "class Person:\n",
        "  nation = 'Korea'\n",
        "\n",
        "  def method(self):\n",
        "    # 도대체 self로 뭐가 넘어 오는거지?\n",
        "    print('self is: ', self)"
      ],
      "execution_count": null,
      "outputs": []
    },
    {
      "cell_type": "code",
      "metadata": {
        "colab": {
          "base_uri": "https://localhost:8080/"
        },
        "id": "GKvLER24akM_",
        "outputId": "a9f3873e-a044-44d3-8d1a-a74d67a332bc"
      },
      "source": [
        "장동건 = Person()\n",
        "\n",
        "# 어? self에 대한 입력을 넣어준적이 없는데?\n",
        "# 파이썬 인터프리터에 의해서 무조건 전달\n",
        "장동건.method() # self는 직접 전달하지 않습니다."
      ],
      "execution_count": null,
      "outputs": [
        {
          "output_type": "stream",
          "name": "stdout",
          "text": [
            "self is:  <__main__.Person object at 0x7f390b9f9750>\n"
          ]
        }
      ]
    },
    {
      "cell_type": "code",
      "metadata": {
        "colab": {
          "base_uri": "https://localhost:8080/"
        },
        "id": "vnUhvbyVaqop",
        "outputId": "613d794d-d951-4d36-d74f-7ea47e7fa1be"
      },
      "source": [
        "장동건"
      ],
      "execution_count": null,
      "outputs": [
        {
          "output_type": "execute_result",
          "data": {
            "text/plain": [
              "<__main__.Person at 0x7f390b9f9750>"
            ]
          },
          "metadata": {},
          "execution_count": 39
        }
      ]
    },
    {
      "cell_type": "markdown",
      "metadata": {
        "id": "EIHl77XMarp3"
      },
      "source": [
        "> 같은 표현\n",
        "  - 객체.attribute와 self.attribute는 같은 표현이 됩니다.\n",
        "    - 객체를 통해서 속성(변수)에 대한 참조를 하는 것과\n",
        "    - 메소드 내에서 self를 통해서 속성(변수)에 대한 참조를 하는 것은 같다"
      ]
    },
    {
      "cell_type": "markdown",
      "metadata": {
        "id": "ZM4eyCQJc5Db"
      },
      "source": [
        "self이외의 파라미터가 있다면?\n",
        "- self를 제외한 나머지 파라미터는 입력값을 전달"
      ]
    },
    {
      "cell_type": "code",
      "metadata": {
        "id": "Al2nWzLKitod"
      },
      "source": [
        "class Person:\n",
        "  nation = 'Korea'\n",
        "\n",
        "  def method(self, a, b):\n",
        "    return a + b"
      ],
      "execution_count": null,
      "outputs": []
    },
    {
      "cell_type": "code",
      "metadata": {
        "colab": {
          "base_uri": "https://localhost:8080/"
        },
        "id": "KOZlTeBwiz4V",
        "outputId": "1efee9c3-b8f9-46d0-b6d8-78eafcfc43a6"
      },
      "source": [
        "장동건 = Person()\n",
        "\n",
        "# self를 제외한 나머지 입력값만 전달\n",
        "장동건.method(10, 20)"
      ],
      "execution_count": null,
      "outputs": [
        {
          "output_type": "execute_result",
          "data": {
            "text/plain": [
              "30"
            ]
          },
          "metadata": {},
          "execution_count": 42
        }
      ]
    },
    {
      "cell_type": "markdown",
      "metadata": {
        "id": "HFvxg07ei2rr"
      },
      "source": [
        "### 특별한 메소드들\n",
        "- 매직 메소드\n",
        "  - 특별한 의미를 가지고 있는 미리 정의된 메소드들이 있습니다. \n",
        "  - 메소드 이름 앞과 뒤에 `__`(더블언더바, 더블언더스코어, 던더)가 붙어 있는 메소드\n",
        "  - 던더 메소드라고 불러요"
      ]
    },
    {
      "cell_type": "code",
      "metadata": {
        "id": "8Lrcze5SjjBi"
      },
      "source": [
        "# 클래스를 정의할 때, 내부에 아무것도 정의를 하지 않아도 \n",
        "# 기본적으로 클래스로써, 동작을 하게 됩니다. (상속)\n",
        "\n",
        "class Person:\n",
        "  pass"
      ],
      "execution_count": null,
      "outputs": []
    },
    {
      "cell_type": "code",
      "metadata": {
        "colab": {
          "base_uri": "https://localhost:8080/"
        },
        "id": "n-YkdmdcjxuD",
        "outputId": "323a771e-18a4-47b1-c99c-20734687e737"
      },
      "source": [
        "# dir 명령을 통해서 클래스에 정의된 매직 메소드를 확인할 수 있습니다\n",
        "dir(Person)"
      ],
      "execution_count": null,
      "outputs": [
        {
          "output_type": "execute_result",
          "data": {
            "text/plain": [
              "['__class__',\n",
              " '__delattr__',\n",
              " '__dict__',\n",
              " '__dir__',\n",
              " '__doc__',\n",
              " '__eq__',\n",
              " '__format__',\n",
              " '__ge__',\n",
              " '__getattribute__',\n",
              " '__gt__',\n",
              " '__hash__',\n",
              " '__init__',\n",
              " '__init_subclass__',\n",
              " '__le__',\n",
              " '__lt__',\n",
              " '__module__',\n",
              " '__ne__',\n",
              " '__new__',\n",
              " '__reduce__',\n",
              " '__reduce_ex__',\n",
              " '__repr__',\n",
              " '__setattr__',\n",
              " '__sizeof__',\n",
              " '__str__',\n",
              " '__subclasshook__',\n",
              " '__weakref__']"
            ]
          },
          "metadata": {},
          "execution_count": 44
        }
      ]
    },
    {
      "cell_type": "markdown",
      "metadata": {
        "id": "6qyZ_JQaj0a4"
      },
      "source": [
        "#### 생성자\n",
        "- 생성 메소드 정도로 이해하면 됩니다.(Constructor)\n",
        "  - `__init__`\n",
        "  - 객체가 생성될 때, 인터프리터에 의해서 자동으로 호출되는 메소드\n",
        "\n",
        "- 객체변수의 초기화\n",
        "  - 객체가 생성될 때, 모든 객체가 동일한 속성을 가지게 하고 싶다면?\n",
        "    - Person 타입의 객체들은 모두 `name`이라는 속성을 가져야 한다\n",
        "    - 객체변수는 미리 정의할 수 없어요\n",
        "    - 객체가 생성된 이후에 정의가 가능\n",
        "    - 생성자는 언제 실행?\n",
        "      - 객체가 생성될 때\n",
        "      - 즉, 생성자가 실행이 되었다는 것은 객체가 만들어 졌음을 의미\n",
        "      - 생성자를 통해서 객체변수에 대한 초기화 해볼 수 있다. "
      ]
    },
    {
      "cell_type": "code",
      "metadata": {
        "id": "ELFEhdzVkWKh"
      },
      "source": [
        "class Person:\n",
        "  nation = 'Korea'\n",
        "\n",
        "  # 이미 정해져 있으므로, 바꿀 수 없습니다. \n",
        "  def __init__(self):\n",
        "    print('call __init__')\n",
        "\n",
        "  def method(self, a, b):\n",
        "    return a + b"
      ],
      "execution_count": null,
      "outputs": []
    },
    {
      "cell_type": "code",
      "metadata": {
        "colab": {
          "base_uri": "https://localhost:8080/"
        },
        "id": "6ENXjHN4koTZ",
        "outputId": "87cf3c83-0cde-496a-ad03-c5fe2cc48556"
      },
      "source": [
        "장동건 = Person()"
      ],
      "execution_count": null,
      "outputs": [
        {
          "output_type": "stream",
          "name": "stdout",
          "text": [
            "call __init__\n"
          ]
        }
      ]
    },
    {
      "cell_type": "markdown",
      "metadata": {
        "id": "70IVK3StloY2"
      },
      "source": [
        "생성자를 통한 객체변수의 초기화"
      ]
    },
    {
      "cell_type": "code",
      "metadata": {
        "id": "8mkQEkbjlp3f"
      },
      "source": [
        "class Person:\n",
        "  nation = 'Korea'\n",
        "\n",
        "  def __init__(self):\n",
        "    self.name = ''\n",
        "    self.age = 0\n",
        "\n",
        "  def method(self, a, b):\n",
        "    return a + b"
      ],
      "execution_count": null,
      "outputs": []
    },
    {
      "cell_type": "markdown",
      "metadata": {
        "id": "FpIbf_pFmqrE"
      },
      "source": [
        "생성자 매개변수 정의 및 전달"
      ]
    },
    {
      "cell_type": "code",
      "metadata": {
        "id": "aJHMWmDAmtVS"
      },
      "source": [
        "class Person:\n",
        "  nation = 'Korea'\n",
        "\n",
        "  # 생성자를 호출할 때, 입력값을 전달 받고\n",
        "  # 전달받은 값으로, 객체변수를 초기화\n",
        "  def __init__(self, name, age):\n",
        "    # 메소드 내에서 정의된 변수는 지역변수\n",
        "    # 매개변수도 지역변수\n",
        "    # self.변수는 객체변수\n",
        "    self.name = name\n",
        "    self.age = age\n",
        "\n",
        "  def method(self, a, b):\n",
        "    return a + b"
      ],
      "execution_count": null,
      "outputs": []
    },
    {
      "cell_type": "code",
      "metadata": {
        "id": "nddlnbI8mtoz"
      },
      "source": [
        "# 객체를 생성할 때, self를 제외한 나머지 입력값을 전달\n",
        "장동건 = Person('장동건', 20)\n",
        "원빈 = Person('원빈', 22)"
      ],
      "execution_count": null,
      "outputs": []
    },
    {
      "cell_type": "markdown",
      "metadata": {
        "id": "UPe5PoCVnEiJ"
      },
      "source": [
        "#### 연산자\n",
        "- 파이썬에서는 `연산자 오버로딩` 이라고 부르는데 \n",
        "- 사실 정확한 의미의 오버로딩은 아닙니다. \n",
        "- 뒤에 나올 `상속` 부분에서 다시 다루도록 합니다. \n",
        "  - 매직 메소드를 이용해서 연산자에 대한 다양한 형태(다형성)를 제공하게 됩니다. "
      ]
    },
    {
      "cell_type": "code",
      "metadata": {
        "colab": {
          "base_uri": "https://localhost:8080/"
        },
        "id": "M29wX-dVotJl",
        "outputId": "a4a161f9-ce93-472c-9b4f-da2bf32d9355"
      },
      "source": [
        "# 시퀀스 타입에서 덧셈과 곱셈이 가능한 이유\n",
        "# 리스트 클래스 내에서 __add__, __mull__ 이 두 매직 메소드를 새로 정의\n",
        "[1, 2, 3] + [4, 5, 6]"
      ],
      "execution_count": null,
      "outputs": [
        {
          "output_type": "execute_result",
          "data": {
            "text/plain": [
              "[1, 2, 3, 4, 5, 6]"
            ]
          },
          "metadata": {},
          "execution_count": 50
        }
      ]
    },
    {
      "cell_type": "markdown",
      "metadata": {
        "id": "AylMLNs6o8aL"
      },
      "source": [
        "사람과 사람을 더하는 작업이 억지스럽긴 하지만, 더해볼게요"
      ]
    },
    {
      "cell_type": "code",
      "metadata": {
        "id": "eEOi2gy7o6k0"
      },
      "source": [
        "class Person:\n",
        "  nation = 'Korea'\n",
        "\n",
        "  def __init__(self, name, age):\n",
        "    self.name = name\n",
        "    self.age = age\n",
        "    \n",
        "  def __add__(self, obj):\n",
        "    # 억지스럽지만, 이름과 나이를 합쳐볼게요\n",
        "    print('덧셈처럼 보이지만, 메소드 호출 입니다')\n",
        "    return (self.name + obj.name, self.age + obj.age)\n",
        "\n",
        "  def method(self, a, b):\n",
        "    return a + b"
      ],
      "execution_count": null,
      "outputs": []
    },
    {
      "cell_type": "code",
      "metadata": {
        "colab": {
          "base_uri": "https://localhost:8080/"
        },
        "id": "WV2IeQlzqJFl",
        "outputId": "afd6e8ad-e74f-4a38-85f8-06bc59b373e2"
      },
      "source": [
        "장동건 = Person('장동건', 20)\n",
        "원빈 = Person('원빈', 22)\n",
        "\n",
        "print( 장동건 + 원빈 )"
      ],
      "execution_count": null,
      "outputs": [
        {
          "output_type": "stream",
          "name": "stdout",
          "text": [
            "덧셈처럼 보이지만, 메소드 호출 입니다\n",
            "('장동건원빈', 42)\n"
          ]
        }
      ]
    },
    {
      "cell_type": "markdown",
      "metadata": {
        "id": "kv9G1VzYqJnw"
      },
      "source": [
        "#### 함수\n",
        "- 파이썬에서는 함수도 객체라고 했습니다. \n",
        "  - function 클래스로 만들어진 객체라고 보면 됩니다.\n",
        "  - function 클래스의 객체는 `()`를 붙여서 호출하게 되는데\n",
        "  - 이것도 매직 메소드의 하나 입니다. "
      ]
    },
    {
      "cell_type": "code",
      "metadata": {
        "id": "LIHb0b51qe6C"
      },
      "source": [
        "class UserFunction:\n",
        "\n",
        "  # 기본적으로는 __call__ 매직 메소드가 구현된 클래스의 객체가 함수가 됩니다. \n",
        "  def __call__(self):\n",
        "    print('함수가 호출 되었습니다')"
      ],
      "execution_count": null,
      "outputs": []
    },
    {
      "cell_type": "code",
      "metadata": {
        "id": "Vkwp5ImNvxkG"
      },
      "source": [
        "function = UserFunction()"
      ],
      "execution_count": null,
      "outputs": []
    },
    {
      "cell_type": "code",
      "metadata": {
        "colab": {
          "base_uri": "https://localhost:8080/"
        },
        "id": "amVglT_4v0cG",
        "outputId": "ef48f484-ccf3-4fcd-fe9e-ed127e6ff6c3"
      },
      "source": [
        "function()"
      ],
      "execution_count": null,
      "outputs": [
        {
          "output_type": "stream",
          "name": "stdout",
          "text": [
            "함수가 호출 되었습니다\n"
          ]
        }
      ]
    },
    {
      "cell_type": "markdown",
      "metadata": {
        "id": "69-SIu9PQrL0"
      },
      "source": [
        "#### 파이썬의 매직 메소드들\n",
        "- 더 다양한 형태의 매직 메소드들이 있습니다. \n",
        "  - 수업시간에는 더 깊게 확인하지는 않지만, 관심이 있으신 분들은 읽어 보시길 바랍니다. \n",
        "  - [데이터 모델](https://docs.python.org/ko/3.7/reference/datamodel.html#special-method-names)"
      ]
    },
    {
      "cell_type": "markdown",
      "metadata": {
        "id": "J7T2yicIwuM5"
      },
      "source": [
        "### Static Method Vs. Class Method\n",
        "- 객체와 상관없이 참조 가능한 변수(클래스 변수)\n",
        "- 객체와 상관없이 호출 가능한 메소드\n",
        "  - 클래스 변수는 객체와 상관없이 참조 가능\n",
        "  - 메소드는 객체를 통해서만 호출이 가능\n",
        "    - 메소드를 통해서 클래스 변수를 참조 하려면 반드시 객체가 필요한 이상한 상황이 발생\n",
        "- 객체가 아닌, 클래스를 통해서 호출할 수 있다."
      ]
    },
    {
      "cell_type": "code",
      "metadata": {
        "id": "u3E9iKZIwzLn"
      },
      "source": [
        "class Person:\n",
        "  nation = 'Korea'\n",
        "\n",
        "  # static method\n",
        "  # 데코레이터를 통해서 메소드를 정의\n",
        "  # 스태틱 메소드로 정의하고 싶은 메소드 앞에 데코레이터를 붙여주면 됩니다. \n",
        "  # 스태틱 메소드는 self 파라미터를 정의하지 않습니다.\n",
        "\n",
        "  @staticmethod # 데코레이터\n",
        "  def staticMethod():\n",
        "    return Person.nation\n",
        "\n",
        "  def __init__(self, name, age):\n",
        "    self.name = name\n",
        "    self.age = age\n",
        "\n",
        "  def method(self, a, b):\n",
        "    return a + b"
      ],
      "execution_count": null,
      "outputs": []
    },
    {
      "cell_type": "code",
      "metadata": {
        "colab": {
          "base_uri": "https://localhost:8080/",
          "height": 35
        },
        "id": "hsarqCYvx0nS",
        "outputId": "ac49ff6d-1aad-43fd-d3ac-f42e93199992"
      },
      "source": [
        "Person.staticMethod()"
      ],
      "execution_count": null,
      "outputs": [
        {
          "output_type": "execute_result",
          "data": {
            "application/vnd.google.colaboratory.intrinsic+json": {
              "type": "string"
            },
            "text/plain": [
              "'Korea'"
            ]
          },
          "metadata": {},
          "execution_count": 59
        }
      ]
    },
    {
      "cell_type": "code",
      "metadata": {
        "id": "WfdtucAEyXhg"
      },
      "source": [
        "class Person:\n",
        "  nation = 'Korea'\n",
        "\n",
        "  # class method 역시 데코레이터를 통해서 정의\n",
        "  # 첫 번째 파라미터로 'cls'를 정의해야 합니다.\n",
        "  # 객체를 구분하는 self와 동일한 역할을 하는 cls가 존재\n",
        "  # 클래스 메소드는 cls를 파라미터를 통해서 클래스를 구분\n",
        "\n",
        "  @classmethod # 데코레이터\n",
        "  def classMethod(cls):\n",
        "    return cls.nation\n",
        "\n",
        "  def __init__(self, name, age):\n",
        "    self.name = name\n",
        "    self.age = age\n",
        "\n",
        "  def method(self, a, b):\n",
        "    return a + b"
      ],
      "execution_count": null,
      "outputs": []
    },
    {
      "cell_type": "code",
      "metadata": {
        "colab": {
          "base_uri": "https://localhost:8080/",
          "height": 35
        },
        "id": "JqtQgL7Qyt7G",
        "outputId": "020b2aed-3ad7-4e85-b21f-e895d3f116fd"
      },
      "source": [
        "Person.classMethod()"
      ],
      "execution_count": null,
      "outputs": [
        {
          "output_type": "execute_result",
          "data": {
            "application/vnd.google.colaboratory.intrinsic+json": {
              "type": "string"
            },
            "text/plain": [
              "'Korea'"
            ]
          },
          "metadata": {},
          "execution_count": 62
        }
      ]
    },
    {
      "cell_type": "code",
      "metadata": {
        "id": "NkfWTXSwyvNd"
      },
      "source": [
        "class Person:\n",
        "  nation = 'Korea'\n",
        "\n",
        "  @staticmethod \n",
        "  def staticMethod():\n",
        "    return Person.nation\n",
        "\n",
        "  @classmethod \n",
        "  def classMethod(cls):\n",
        "    return cls.nation\n",
        "\n",
        "  def __init__(self, name, age):\n",
        "    self.name = name\n",
        "    self.age = age\n",
        "\n",
        "  def method(self, a, b):\n",
        "    return a + b"
      ],
      "execution_count": null,
      "outputs": []
    },
    {
      "cell_type": "code",
      "metadata": {
        "colab": {
          "base_uri": "https://localhost:8080/"
        },
        "id": "88ll8fpVy5ZD",
        "outputId": "28305551-d94e-487c-e7fa-93c224d1d2c4"
      },
      "source": [
        "# 두 메소드 모두 클래스를 통해서 호출하면 됩니다. \n",
        "# 지금은 두 메소드의 차이점을 확인하기 어렵고, 뒤에서 상속 이라는 개념을 통해서 차이점을 확인\n",
        "print( Person.staticMethod() )\n",
        "print( Person.classMethod() )"
      ],
      "execution_count": null,
      "outputs": [
        {
          "output_type": "stream",
          "name": "stdout",
          "text": [
            "Korea\n",
            "Korea\n"
          ]
        }
      ]
    },
    {
      "cell_type": "markdown",
      "metadata": {
        "id": "9yEmfxfYzGjd"
      },
      "source": [
        "# 클래스의 특징\n",
        "- 여러개의 변수와 함수를 하나의 타입으로 묶어놓은 것이 클래스 라고 볼 수 있습니다. \n",
        "  - 비슷한 특징을 가지고 있는 여러 함수와 변수를 특징별로 묶어놓으면 관리가 더 편해지는 장점을 얻을 수 있다. \n",
        "  - 클래스 단위로 설계하고 개발하는 방법으로 `객체지향 프로그래밍` 이라고 얘기합니다. \n",
        "\n",
        "- 이렇게 묶어놓으면 여러가지 특징들이 발생을 합니다. \n",
        "  - 은닉성(캡슐화): 클래스를 보호하기 위한 장치\n",
        "  - 상속: 클래스의 재사용성을 더 확대한 개념\n",
        "  - 다형성(Polymorphism)\n",
        "    - 파이썬에서는 `다형성`이 존재 하는가?\n",
        "    - 하나의 타입으로 여러 타입을 표현\n",
        "    - 오버로딩, 오버라이딩\n",
        "\n",
        "- 파이썬은 완벽한 객체지향을 제공하지는 못합니다.\n"
      ]
    },
    {
      "cell_type": "markdown",
      "metadata": {
        "id": "fgKBIVyQSuni"
      },
      "source": [
        "## 은닉성\n",
        "- 클래스(객체) 내에서 정의된 변수(메소드)를 보호하기 위한 장치\n",
        "  - 외부에서는 참조하지 못하도록 비공개로 하는 것을 은닉성 이라고 합니다. \n",
        "  - 분명히 속성이 정의는 되어 있지만, 외부에서는 확인할 수 없기 때문에, 없는 속성(메소드)가 됩니다. \n",
        "\n",
        "- 파이썬은 은닉성을 제공하지 못합니다. \n",
        "  - 비공개로 할 수 있는 방법이 없습니다. \n",
        "  - 전부 공개되어 있고, 차단하거나, 할 수 없습니다. \n",
        "  - 은닉성을 위한 규칙 정도만 있어요\n",
        "    - 공개하고 싶지 않은 속성(기능) 이름 앞에 `_`를 붙이도록 하고 있습니다. \n",
        "    - 이름 앞에 `_`가 붙어 있으면 참조하지 않도록 하는 규칙이 존재"
      ]
    },
    {
      "cell_type": "code",
      "metadata": {
        "id": "ul3aNcvPVKUa"
      },
      "source": [
        "class Person:\n",
        "  nation = 'Korea'\n",
        "  def __init__(self, name, age):\n",
        "    self._name = name\n",
        "    self._age = age\n",
        "  \n",
        "  @staticmethod\n",
        "  def staticMethod():\n",
        "    print( Person.var )\n",
        "    \n",
        "  @classmethod\n",
        "  def classMethod(cls):\n",
        "    print( cls.nation )\n",
        "  \n",
        "  def method(self):\n",
        "    print('this is method')"
      ],
      "execution_count": null,
      "outputs": []
    },
    {
      "cell_type": "code",
      "metadata": {
        "colab": {
          "base_uri": "https://localhost:8080/"
        },
        "id": "32UD3YcgaFQ7",
        "outputId": "1c9f04e0-6893-4307-9c47-2aa59e04a532"
      },
      "source": [
        "장동건 = Person('장동건', 20)\n",
        "\n",
        "# 외부에서의 참조\n",
        "# 이렇게 사용하지 말자라고 정해놓은 규칙\n",
        "print( 장동건._name )\n",
        "print( 장동건._age )"
      ],
      "execution_count": null,
      "outputs": [
        {
          "output_type": "stream",
          "name": "stdout",
          "text": [
            "장동건\n",
            "20\n"
          ]
        }
      ]
    },
    {
      "cell_type": "markdown",
      "metadata": {
        "id": "KiH6A5PwaFmB"
      },
      "source": [
        "### 맹글링(Mangling)\n",
        "- 속성(변수)의 이름을 변경하는 기능\n",
        "- 충돌을 방지하고자 나온 기능\n",
        "  - 상속할 때, 여러 클래스에서 정의된 속성 이름들이 같은 이름을 사용하는 경우\n",
        "  - 맹글링을 이용한 충돌을 방지할 수 있는 거죠\n",
        "- 속성 이름앞에 `__`를 붙여주면 됩니다. \n",
        "  - 속성 이름이 자동으로 바뀝니다.\n",
        "  - `_클래스이름__속성이름`의 형태로 바뀝니다. "
      ]
    },
    {
      "cell_type": "code",
      "metadata": {
        "id": "1oNPv3w-a1Uv"
      },
      "source": [
        "class Person:\n",
        "  nation = 'Korea'\n",
        "  def __init__(self, name, age):\n",
        "    self.__name = name\n",
        "    self._age = age\n",
        "  \n",
        "  @staticmethod\n",
        "  def staticMethod():\n",
        "    print( Person.var )\n",
        "    \n",
        "  @classmethod\n",
        "  def classMethod(cls):\n",
        "    print( cls.nation )\n",
        "  \n",
        "  def method(self):\n",
        "    print('this is method')"
      ],
      "execution_count": null,
      "outputs": []
    },
    {
      "cell_type": "code",
      "metadata": {
        "colab": {
          "base_uri": "https://localhost:8080/",
          "height": 183
        },
        "id": "_Du6KmKlbPBh",
        "outputId": "9b684429-188b-4937-d0b3-6af2c2c73aa7"
      },
      "source": [
        "장동건 = Person('장동건', 20)\n",
        "print( 장동건.__name )"
      ],
      "execution_count": null,
      "outputs": [
        {
          "output_type": "error",
          "ename": "AttributeError",
          "evalue": "ignored",
          "traceback": [
            "\u001b[0;31m---------------------------------------------------------------------------\u001b[0m",
            "\u001b[0;31mAttributeError\u001b[0m                            Traceback (most recent call last)",
            "\u001b[0;32m<ipython-input-5-dd01db95e6b4>\u001b[0m in \u001b[0;36m<module>\u001b[0;34m()\u001b[0m\n\u001b[1;32m      1\u001b[0m \u001b[0m장동건\u001b[0m \u001b[0;34m=\u001b[0m \u001b[0mPerson\u001b[0m\u001b[0;34m(\u001b[0m\u001b[0;34m'장동건'\u001b[0m\u001b[0;34m,\u001b[0m \u001b[0;36m20\u001b[0m\u001b[0;34m)\u001b[0m\u001b[0;34m\u001b[0m\u001b[0;34m\u001b[0m\u001b[0m\n\u001b[0;32m----> 2\u001b[0;31m \u001b[0mprint\u001b[0m\u001b[0;34m(\u001b[0m \u001b[0m장동건\u001b[0m\u001b[0;34m.\u001b[0m\u001b[0m__name\u001b[0m \u001b[0;34m)\u001b[0m\u001b[0;34m\u001b[0m\u001b[0;34m\u001b[0m\u001b[0m\n\u001b[0m",
            "\u001b[0;31mAttributeError\u001b[0m: 'Person' object has no attribute '__name'"
          ]
        }
      ]
    },
    {
      "cell_type": "markdown",
      "metadata": {
        "id": "z_M8agqhbpCK"
      },
      "source": [
        "> 은닉성이 아닙니다. \n",
        "  - 파이썬 공식 문서에서도 비공개 속성은 `_`를 붙이도록 하고 있습니다. \n",
        "  - `__`는 맹글링 용도로 사용하면 됩니다.\n",
        "    - 은닉성의 용도로 사용될 수 없습니다. "
      ]
    },
    {
      "cell_type": "markdown",
      "metadata": {
        "id": "A120yUXbbv7e"
      },
      "source": [
        "### Getter And Setter\n",
        "- 일반적으로 객체지향 프로그래밍 에서 속성은 비공개가 원칙 입니다. \n",
        "  - 공개가 필요한 일부 속성에 대해서 어떤식으로 참조를 제공?\n",
        "    - 메소드를 통해서 내부 속성에 대한 참조를 제공\n",
        "    - 메소드가 없다면? 참조 불가능\n",
        "    - 이러한 메소드를 `Getter` 또는 `Setter`라고 부릅니다. \n",
        "  - 일반적으로는 메소드 이름앞에 `get` 이나 `set`을 붙여서 메소드를 구분\n",
        "    - `get_method`, `set_method`\n",
        "\n",
        "- 파이썬은 getter와 setter에 대한 전혀 다른 방법을 지원 \n",
        "  - `매직메소드`를 다시 정의 해서 getter와 setter의 동작을 다시 정의\n",
        "  - 데코레이터를 통해서 getter와 setter를 정의할 수 있습니다. \n",
        "  - 파이썬에서 제공하는 가장 은닉성 다운 기능"
      ]
    },
    {
      "cell_type": "code",
      "metadata": {
        "id": "lhGfReA5dxUo"
      },
      "source": [
        "class Person:\n",
        "  nation = 'Korea'\n",
        "  def __init__(self, name, age):\n",
        "    self._name = name\n",
        "    self._age = age\n",
        "  \n",
        "  @staticmethod\n",
        "  def staticMethod():\n",
        "    print( Person.var )\n",
        "    \n",
        "  @classmethod\n",
        "  def classMethod(cls):\n",
        "    print( cls.nation )\n",
        "  \n",
        "  def method(self):\n",
        "    print('this is method')\n",
        "    \n",
        "  # getter로 사용할 메소드의 이름은 참조할 \n",
        "  # 속성의 이름과 동일('_'는 제외)\n",
        "  \n",
        "  @property\n",
        "  def outer_name(self):\n",
        "    print('메소드가 호출되었습니다')\n",
        "    return self._name"
      ],
      "execution_count": null,
      "outputs": []
    },
    {
      "cell_type": "code",
      "metadata": {
        "colab": {
          "base_uri": "https://localhost:8080/",
          "height": 52
        },
        "id": "G6lrYzbihoPA",
        "outputId": "3d2c7735-8b39-4e69-c901-0b32a093701c"
      },
      "source": [
        "# getter와 setter를 정의하고 \n",
        "# 정의된 getter와 setter를 통해서 참조\n",
        "장동건 = Person('장동건', 20)\n",
        "\n",
        "# 마치 객체속성에 직접접근하는 듯이 보이지만\n",
        "# 실제로는 메소드 호출을 통한 우회접근을 제공\n",
        "장동건.outer_name"
      ],
      "execution_count": null,
      "outputs": [
        {
          "output_type": "stream",
          "name": "stdout",
          "text": [
            "메소드가 호출되었습니다\n"
          ]
        },
        {
          "output_type": "execute_result",
          "data": {
            "application/vnd.google.colaboratory.intrinsic+json": {
              "type": "string"
            },
            "text/plain": [
              "'장동건'"
            ]
          },
          "metadata": {},
          "execution_count": 16
        }
      ]
    },
    {
      "cell_type": "code",
      "metadata": {
        "id": "KPPK3orSh5i6"
      },
      "source": [
        "class Person:\n",
        "  nation = 'Korea'\n",
        "  def __init__(self, name, age):\n",
        "    self._name = name\n",
        "    self._age = age\n",
        "  \n",
        "  @staticmethod\n",
        "  def staticMethod():\n",
        "    print( Person.nation )\n",
        "    \n",
        "  @classmethod\n",
        "  def classMethod(cls):\n",
        "    print( cls.nation )\n",
        "  \n",
        "  def method(self):\n",
        "    print('this is method')\n",
        "    \n",
        "  # getter로 사용할 메소드의 이름은 참조할 \n",
        "  # 속성의 이름과 동일('_'는 제외)\n",
        "  \n",
        "  @property\n",
        "  def name(self):\n",
        "    print('메소드가 호출되었습니다')\n",
        "    return self._name\n",
        "    \n",
        "  # setter는 반드시 getter의 이름과 동일\n",
        "  \n",
        "  @name.setter\n",
        "  def name(self, name):\n",
        "    print('메소드가 호출 되었습니다')\n",
        "    print(name, '으로 변경 됩니다')\n",
        "    self._name = name"
      ],
      "execution_count": null,
      "outputs": []
    },
    {
      "cell_type": "code",
      "metadata": {
        "colab": {
          "base_uri": "https://localhost:8080/"
        },
        "id": "AFJ_fDytnn78",
        "outputId": "48cfff08-16f4-48c0-867d-198e3c3ee8a4"
      },
      "source": [
        "장동건 = Person('장동건', 20)\n",
        "\n",
        "# setter를 사용하는 경우도 마찬가지 => 장동건.name('원빈')\n",
        "장동건.name = '원빈'"
      ],
      "execution_count": null,
      "outputs": [
        {
          "output_type": "stream",
          "name": "stdout",
          "text": [
            "메소드가 호출 되었습니다\n",
            "원빈 으로 변경 됩니다\n"
          ]
        }
      ]
    },
    {
      "cell_type": "markdown",
      "metadata": {
        "id": "-Uy5xW1Dnx48"
      },
      "source": [
        "## 상속(inherit)\n",
        "- 클래스의 재사용성을 더 극대화한 개념\n",
        "  - 잘 정의된 클래스가 있다면, 다시 정의할 필요 없이 물려받아서 그대로 재사용\n",
        "\n",
        "- 클래스들간의 관계\n",
        "  - `is-a`(상속)\n",
        "  - `has-a`(다른 클래스의 객체를 속성으로 갖는 경우)\n",
        "\n",
        "- 상속을 이용하면 클래스가 점점 확장\n",
        "  - 모든 `학생`은 `사람`이다 라고 할 수 있습니다. \n",
        "  - 반대는 성립하지 않습니다(모든 사람은 학생이다?)\n",
        "  - 그래서, 이러한 관계를 `is-a`라고 표현 합니다. (Student is a Person)\n",
        "    - 학생도 사람이니깐, 사람이 갖는 속성이나 기능을 동일하게 사용할 수 있을 것\n",
        "    - 그렇다면, 학생을 정의할 때, 새로 정의하지 말고 사람은 물려받아서 그대로 사용하고 \n",
        "    - 나머지 추가적인 학생의 속성이나 기능만 추가"
      ]
    },
    {
      "cell_type": "code",
      "metadata": {
        "id": "yhHwFH9Msm4B"
      },
      "source": [
        "# Person을 상속 받아서 Student 클래스를 정의\n",
        "# 파이썬은 별다른 제약없이 모두 물려받을 수 있습니다. \n",
        "\n",
        "class Student(Person):\n",
        "  # 아무것도 정의하지 않아도 기본적으로 Person의 모든 속성과 기능을 사용\n",
        "  pass"
      ],
      "execution_count": null,
      "outputs": []
    },
    {
      "cell_type": "code",
      "metadata": {
        "id": "U9PLe6Uxt3JF"
      },
      "source": [
        "원빈 = Student('원빈', 22)"
      ],
      "execution_count": null,
      "outputs": []
    },
    {
      "cell_type": "code",
      "metadata": {
        "colab": {
          "base_uri": "https://localhost:8080/"
        },
        "id": "hliyPNEbt72e",
        "outputId": "611ce845-abbc-4248-b9b1-4a6ea689b6b3"
      },
      "source": [
        "원빈.method()"
      ],
      "execution_count": null,
      "outputs": [
        {
          "output_type": "stream",
          "name": "stdout",
          "text": [
            "this is method\n"
          ]
        }
      ]
    },
    {
      "cell_type": "code",
      "metadata": {
        "colab": {
          "base_uri": "https://localhost:8080/"
        },
        "id": "wjImiWqPuDaq",
        "outputId": "3e1d6cd3-f843-48fa-de12-e798e812f3a1"
      },
      "source": [
        "print( Student.nation )\n",
        "Student.staticMethod()\n",
        "Student.classMethod()"
      ],
      "execution_count": null,
      "outputs": [
        {
          "output_type": "stream",
          "name": "stdout",
          "text": [
            "Korea\n",
            "Korea\n",
            "Korea\n"
          ]
        }
      ]
    },
    {
      "cell_type": "markdown",
      "metadata": {
        "id": "SU7C9avquFMx"
      },
      "source": [
        "- 상위 클래스(부모 클래스, 기반 클래스)라고 표현\n",
        "- 하위 클래스(자식 클래스, 파생 클래스)라고 표현"
      ]
    },
    {
      "cell_type": "markdown",
      "metadata": {
        "id": "Z-nzo9fqA5jd"
      },
      "source": [
        "### 다형성(Polymorphism)\n",
        "- 오버로딩(Overloading)\n",
        "  - 클래스 내의 하나의 메소드가 여러개의 기능을 처리\n",
        "  - 파이썬은 오버로딩 기능은 지원되지 않습니다. \n",
        "  - 연산자 오버로딩 이라고 해서, 매직 메소드를 이용한 방법\n",
        "\n",
        "- 오버라이딩(Overriding)\n",
        "  - 메소드 재정의(덮어쓴다)\n",
        "    - 메소드 뿐만이 아닌, 속성도 재정의 가능\n",
        "  - 부모 클래스로부터 물려받은 메소드를 그대로 사용하지 않겠다는 의미 \n",
        "    - 자식 클래스에서 상속받은 메소드를 다시 정의\n",
        "    - 반드시, 상속이 되어야만 재정의 할 수 있다.\n",
        "    - 반드시, 상속받은 메소드의 이름과 동일한 이름으로 정의"
      ]
    },
    {
      "cell_type": "code",
      "metadata": {
        "id": "Mukdwn6WD05m"
      },
      "source": [
        "class Student(Person):\n",
        "  \n",
        "  # 메소드 오버라이딩(재정의)\n",
        "  # 재정의 하려는 메소드의 이름과 동일\n",
        "  def method(self):\n",
        "      print('this is child method')"
      ],
      "execution_count": null,
      "outputs": []
    },
    {
      "cell_type": "code",
      "metadata": {
        "colab": {
          "base_uri": "https://localhost:8080/"
        },
        "id": "cYA92uNLD2Cj",
        "outputId": "4bdf6398-2eba-4031-cd85-0303980b5f2f"
      },
      "source": [
        "원빈 = Student('원빈', 30)\n",
        "원빈.method()"
      ],
      "execution_count": null,
      "outputs": [
        {
          "output_type": "stream",
          "name": "stdout",
          "text": [
            "this is child method\n"
          ]
        }
      ]
    },
    {
      "cell_type": "markdown",
      "metadata": {
        "id": "CUJ6g16uEmoS"
      },
      "source": [
        "재정의는 했지만, 부모 클래스의 메소드를 사용하고 싶다면?\n",
        "- 자식 클래스에서 직접 호출하도록 정의"
      ]
    },
    {
      "cell_type": "code",
      "metadata": {
        "id": "22m-s6gmEwk9"
      },
      "source": [
        "class Student(Person):\n",
        "  \n",
        "  # 메소드 오버라이딩(재정의)\n",
        "  # 재정의 하려는 메소드의 이름과 동일\n",
        "  def method(self):\n",
        "    # 1. 부모 클래스의 이름으로 직접 호출(권장하는 방법은 아닙니다)\n",
        "    # 이때, 직접 self를 전달해야 합니다. \n",
        "    Person.method(self)\n",
        "    print('this is child method')"
      ],
      "execution_count": null,
      "outputs": []
    },
    {
      "cell_type": "code",
      "metadata": {
        "colab": {
          "base_uri": "https://localhost:8080/"
        },
        "id": "N6xzf6tJFEse",
        "outputId": "c06a6d74-7c65-483a-e4f3-7bb194f4c6fc"
      },
      "source": [
        "원빈 = Student('원빈', 30)\n",
        "원빈.method()"
      ],
      "execution_count": null,
      "outputs": [
        {
          "output_type": "stream",
          "name": "stdout",
          "text": [
            "this is method\n",
            "this is child method\n"
          ]
        }
      ]
    },
    {
      "cell_type": "code",
      "metadata": {
        "id": "uclD3_zJFM2K"
      },
      "source": [
        "class Student(Person):\n",
        "  \n",
        "  # 메소드 오버라이딩(재정의)\n",
        "  # 재정의 하려는 메소드의 이름과 동일\n",
        "  def method(self):\n",
        "    # 2. super()를 이용해서 부모 클래스의 메소드를 직접 호출(권장)\n",
        "    # 이때, super()가 부모 클래스가 누구인지 확인하고, 알아서 호출 합니다. \n",
        "    # self를 직접 전달하지 않아도 됩니다. \n",
        "    super().method()\n",
        "    print('this is child method')"
      ],
      "execution_count": null,
      "outputs": []
    },
    {
      "cell_type": "code",
      "metadata": {
        "colab": {
          "base_uri": "https://localhost:8080/"
        },
        "id": "lr7plBNvFkRq",
        "outputId": "3eab034d-10c5-46bb-d121-129734b880a3"
      },
      "source": [
        "원빈 = Student('원빈', 30)\n",
        "원빈.method()"
      ],
      "execution_count": null,
      "outputs": [
        {
          "output_type": "stream",
          "name": "stdout",
          "text": [
            "this is method\n",
            "this is child method\n"
          ]
        }
      ]
    },
    {
      "cell_type": "markdown",
      "metadata": {
        "id": "XuxBO6M8GJuz"
      },
      "source": [
        "#### 생성자 오버라이딩\n",
        "- 생성자도 역시 상속된다\n",
        "- 자식 클래스에서 속성이 추가되는 경우\n",
        "  - 부모 클래스의 생성자를 그대로 사용할 수 없을 것"
      ]
    },
    {
      "cell_type": "code",
      "metadata": {
        "id": "7HtK3CuZHFby"
      },
      "source": [
        "class Student(Person):\n",
        "    \n",
        "  def __init__(self, name, age, school ):\n",
        "      # self._name = name\n",
        "      # self._age = age\n",
        "      # 부모 클래스의 생성자를 직접 호출할 수도 있다. \n",
        "      super().__init__(name, age)\n",
        "      self.school = school\n",
        "\n",
        "  def method(self):\n",
        "      super().method()\n",
        "      print('this is child method')"
      ],
      "execution_count": null,
      "outputs": []
    },
    {
      "cell_type": "code",
      "metadata": {
        "colab": {
          "base_uri": "https://localhost:8080/"
        },
        "id": "GrzMqcm-HMhS",
        "outputId": "74e8a467-d0a5-44fc-bf7d-aab452cea9da"
      },
      "source": [
        "원빈 = Student('원빈', 30, '멀티캠퍼스')\n",
        "원빈.method()"
      ],
      "execution_count": null,
      "outputs": [
        {
          "output_type": "stream",
          "name": "stdout",
          "text": [
            "this is method\n",
            "this is child method\n"
          ]
        }
      ]
    },
    {
      "cell_type": "markdown",
      "metadata": {
        "id": "wI8wL9zkH08C"
      },
      "source": [
        "class method 와 static method의 차이점"
      ]
    },
    {
      "cell_type": "code",
      "metadata": {
        "id": "WIViJoNeH6HE"
      },
      "source": [
        "class Student(Person):\n",
        "\n",
        "  # 부모 클래스의 국적을 그대로 따를 필요는 없겠죠\n",
        "  nation = 'German'\n",
        "    \n",
        "  def __init__(self, name, age, school ):\n",
        "      # self._name = name\n",
        "      # self._age = age\n",
        "      # 부모 클래스의 생성자를 직접 호출할 수도 있다. \n",
        "      super().__init__(name, age)\n",
        "      self.school = school\n",
        "\n",
        "  def method(self):\n",
        "      super().method()\n",
        "      print('this is child method')"
      ],
      "execution_count": null,
      "outputs": []
    },
    {
      "cell_type": "code",
      "metadata": {
        "colab": {
          "base_uri": "https://localhost:8080/"
        },
        "id": "w6o74iIEIELJ",
        "outputId": "f0cb9be7-e31c-4d4b-eb2b-ba355fffde4a"
      },
      "source": [
        "Person.staticMethod()\n",
        "Student.staticMethod()"
      ],
      "execution_count": null,
      "outputs": [
        {
          "output_type": "stream",
          "name": "stdout",
          "text": [
            "Korea\n",
            "Korea\n"
          ]
        }
      ]
    },
    {
      "cell_type": "code",
      "metadata": {
        "colab": {
          "base_uri": "https://localhost:8080/"
        },
        "id": "VYxCGn-WIKwq",
        "outputId": "e8f5d8f5-4b90-48c5-8139-ccd2d8ea0443"
      },
      "source": [
        "Person.classMethod()\n",
        "Student.classMethod()"
      ],
      "execution_count": null,
      "outputs": [
        {
          "output_type": "stream",
          "name": "stdout",
          "text": [
            "Korea\n",
            "German\n"
          ]
        }
      ]
    },
    {
      "cell_type": "markdown",
      "metadata": {
        "id": "fnWu9ZqRu_Qr"
      },
      "source": [
        "### 다중상속\n",
        "- 하나의 클래스가 아닌, 하나 이상의 클래스를 상속하는 것이 가능\n",
        "  - 사실 문제가 아주아주 많은 기능\n",
        "  - C++, python, ... \n",
        "  - Java는 다중상속을 지원하지 않습니다.\n",
        "\n",
        "- 반드시, 다중상속을 해야만 하는 경우는 없다\n",
        "  - 피하려면, 피할 수 있다는 얘기 입니다. \n",
        "  - 만약에, 다중상속이 아니면 안되겠는데? 라는 상황이 발생한다면, 설계가 잘못된 경우\n"
      ]
    },
    {
      "cell_type": "code",
      "metadata": {
        "id": "sCE8IxdVKG-C"
      },
      "source": [
        "class A:\n",
        "  def __init__(self):\n",
        "    print('A Class')\n",
        "\n",
        "class B(A):\n",
        "  def __init__(self):\n",
        "    print('B Class')\n",
        "    self.attr = 'B'\n",
        "    super().__init__()\n",
        "\n",
        "class C(A):\n",
        "  def __init__(self):\n",
        "    print('C Class')\n",
        "    self.attr = 'C'\n",
        "    super().__init__()"
      ],
      "execution_count": null,
      "outputs": []
    },
    {
      "cell_type": "code",
      "metadata": {
        "id": "SLUs2KPqKvlP"
      },
      "source": [
        "# 다중상속\n",
        "class D(C, B):\n",
        "  def __init__(self):\n",
        "    print('D Class')\n",
        "    super().__init__()"
      ],
      "execution_count": null,
      "outputs": []
    },
    {
      "cell_type": "markdown",
      "metadata": {
        "id": "IEgTcUBqLJU8"
      },
      "source": [
        "과연 생성자는 어떻게 호출이 될 것인가?"
      ]
    },
    {
      "cell_type": "code",
      "metadata": {
        "colab": {
          "base_uri": "https://localhost:8080/"
        },
        "id": "xcKpzMvYLNUF",
        "outputId": "69d9cba9-bfe4-4f19-888b-3b4818c3c437"
      },
      "source": [
        "d = D()"
      ],
      "execution_count": null,
      "outputs": [
        {
          "output_type": "stream",
          "name": "stdout",
          "text": [
            "D Class\n",
            "C Class\n",
            "B Class\n",
            "A Class\n"
          ]
        }
      ]
    },
    {
      "cell_type": "markdown",
      "metadata": {
        "id": "gDv01q31LWgr"
      },
      "source": [
        "#### MRO\n",
        "- Method Resolution Order\n",
        "- 파이썬은 이러한 다중상속의 문제를 해결하기 위해서\n",
        "  - 우선순위를 둡니다\n",
        "  - 우선순위는 어떻게 결정?\n",
        "    - 먼저 상속받은 클래스가 우선순위가 높습니다."
      ]
    },
    {
      "cell_type": "code",
      "metadata": {
        "colab": {
          "base_uri": "https://localhost:8080/"
        },
        "id": "T3s178tpLgsj",
        "outputId": "c9c9deb1-bb81-412b-8095-45ea8dce2f3c"
      },
      "source": [
        "D.mro()"
      ],
      "execution_count": null,
      "outputs": [
        {
          "output_type": "execute_result",
          "data": {
            "text/plain": [
              "[__main__.D, __main__.C, __main__.B, __main__.A, object]"
            ]
          },
          "metadata": {},
          "execution_count": 55
        }
      ]
    },
    {
      "cell_type": "markdown",
      "metadata": {
        "id": "zRfRrG0hMBZj"
      },
      "source": [
        "속성은 어떤 클래스의 속성을 물려받았을 것인가? "
      ]
    },
    {
      "cell_type": "code",
      "metadata": {
        "colab": {
          "base_uri": "https://localhost:8080/",
          "height": 35
        },
        "id": "ZZOBrtu9MFBj",
        "outputId": "9bccc8c2-0fa6-4911-d936-13c9db8c0dde"
      },
      "source": [
        "d.attr"
      ],
      "execution_count": null,
      "outputs": [
        {
          "output_type": "execute_result",
          "data": {
            "application/vnd.google.colaboratory.intrinsic+json": {
              "type": "string"
            },
            "text/plain": [
              "'B'"
            ]
          },
          "metadata": {},
          "execution_count": 56
        }
      ]
    },
    {
      "cell_type": "markdown",
      "metadata": {
        "id": "uBF4-YbLMamt"
      },
      "source": [
        "이런 경우에 맹글링을 사용"
      ]
    },
    {
      "cell_type": "code",
      "metadata": {
        "id": "Nh62pUl0Mcg3"
      },
      "source": [
        "class A:\n",
        "  def __init__(self):\n",
        "    print('A Class')\n",
        "\n",
        "class B(A):\n",
        "  def __init__(self):\n",
        "    print('B Class')\n",
        "    self.__attr = 'B'\n",
        "    super().__init__()\n",
        "\n",
        "class C(A):\n",
        "  def __init__(self):\n",
        "    print('C Class')\n",
        "    self.__attr = 'C'\n",
        "    super().__init__()"
      ],
      "execution_count": null,
      "outputs": []
    },
    {
      "cell_type": "code",
      "metadata": {
        "id": "JukL56BcMqVN"
      },
      "source": [
        "# 다중상속\n",
        "class D(C, B):\n",
        "  def __init__(self):\n",
        "    print('D Class')\n",
        "    super().__init__()"
      ],
      "execution_count": null,
      "outputs": []
    },
    {
      "cell_type": "code",
      "metadata": {
        "colab": {
          "base_uri": "https://localhost:8080/"
        },
        "id": "crbagtNjMjak",
        "outputId": "43c9ce85-666d-4f96-a340-761fd1363bb8"
      },
      "source": [
        "d = D()"
      ],
      "execution_count": null,
      "outputs": [
        {
          "output_type": "stream",
          "name": "stdout",
          "text": [
            "D Class\n",
            "C Class\n",
            "B Class\n",
            "A Class\n"
          ]
        }
      ]
    },
    {
      "cell_type": "code",
      "metadata": {
        "colab": {
          "base_uri": "https://localhost:8080/"
        },
        "id": "3zTZhDLzMlLL",
        "outputId": "05ec68d2-5bb2-41a8-e0e2-b915ac0609fe"
      },
      "source": [
        "print( d._B__attr)\n",
        "print( d._C__attr)"
      ],
      "execution_count": null,
      "outputs": [
        {
          "output_type": "stream",
          "name": "stdout",
          "text": [
            "B\n",
            "C\n"
          ]
        }
      ]
    },
    {
      "cell_type": "markdown",
      "metadata": {
        "id": "6AQJDx0GMxi8"
      },
      "source": [
        "> 파이썬의 다중상속\n",
        "  - 파이썬은 우선순위를 둬서 해결\n",
        "  - 모든 문제가 해결되지는 않습니다.\n",
        "  - 가장 큰 문제는 복잡도에 있습니다. \n",
        "    - 클래스들간의 관계가 매우 복잡해지고\n",
        "    - 복잡해지면, 버그가 발생할 확률이 높아지고, 유지보수도 어렵게 됩니다. "
      ]
    },
    {
      "cell_type": "markdown",
      "metadata": {
        "id": "F9-W4GZHAVuX"
      },
      "source": [
        "# 여러가지 클래스\n",
        "- 추상 클래스, Inner Class, Meta Class, ... "
      ]
    },
    {
      "cell_type": "markdown",
      "metadata": {
        "id": "6EnEh7cNBle-"
      },
      "source": [
        "## 추상 클래스\n",
        "- 추상 클래스란?\n",
        "  - 추상 메서드를 포함하고 있으면 추상 클래스라고 합니다. \n",
        "  - 추상 메서드란?\n",
        "    - 구현되어 있지 않은 메소드를 추상 메소드라고 합니다.\n",
        "    - 정의는 되어 있는 내부 구현이 되어 있지 않은 메소드\n",
        "    - 파이썬 같은 경우는 \n",
        "      - 메소드의 구현 유무와는 상관없이 데코레이터를 통해서 추상 메소드를 정의\n",
        "\n",
        "- 추상 클래스는 반드시 상속을 통해서 추상 메소드를 오버라이딩(재정의) 해야만, 객체를 생성할 수 있습니다. \n",
        "  - 추상 클래스는 객체로 만들 수 없습니다."
      ]
    },
    {
      "cell_type": "code",
      "metadata": {
        "id": "nWPyfh8pRJch"
      },
      "source": [
        "# 파이썬의 추상 클래스는 모듈을 통해서 정의\n",
        "from abc import ABCMeta, abstractmethod"
      ],
      "execution_count": null,
      "outputs": []
    },
    {
      "cell_type": "code",
      "metadata": {
        "id": "dKPNHOs_SDCt"
      },
      "source": [
        "class AbstractClass(metaclass=ABCMeta):\n",
        "\n",
        "  @abstractmethod\n",
        "  def abstractMethod(self):\n",
        "    print('파이썬은 내부 구현 유무와는 상관이 없습니다.')\n",
        "    print('어짜피 반드시 재정의 될 것이기 때문에')\n",
        "    print('우리는 이 내용이 화면에 출력되는 것을 볼 수 없을 겁니다.')"
      ],
      "execution_count": null,
      "outputs": []
    },
    {
      "cell_type": "code",
      "metadata": {
        "colab": {
          "base_uri": "https://localhost:8080/",
          "height": 183
        },
        "id": "IWc6wx8_Saf3",
        "outputId": "5ce9fe38-2946-45de-fb38-b4ac30fb5981"
      },
      "source": [
        "# 추상 클래스만으로는 객체로 만들 수 없습니다. \n",
        "obj = AbstractClass()"
      ],
      "execution_count": null,
      "outputs": [
        {
          "output_type": "error",
          "ename": "TypeError",
          "evalue": "ignored",
          "traceback": [
            "\u001b[0;31m---------------------------------------------------------------------------\u001b[0m",
            "\u001b[0;31mTypeError\u001b[0m                                 Traceback (most recent call last)",
            "\u001b[0;32m<ipython-input-66-dc8f7396b5ea>\u001b[0m in \u001b[0;36m<module>\u001b[0;34m()\u001b[0m\n\u001b[1;32m      1\u001b[0m \u001b[0;31m# 추상 클래스만으로는 객체로 만들 수 없습니다.\u001b[0m\u001b[0;34m\u001b[0m\u001b[0;34m\u001b[0m\u001b[0;34m\u001b[0m\u001b[0m\n\u001b[0;32m----> 2\u001b[0;31m \u001b[0mobj\u001b[0m \u001b[0;34m=\u001b[0m \u001b[0mAbstractClass\u001b[0m\u001b[0;34m(\u001b[0m\u001b[0;34m)\u001b[0m\u001b[0;34m\u001b[0m\u001b[0;34m\u001b[0m\u001b[0m\n\u001b[0m",
            "\u001b[0;31mTypeError\u001b[0m: Can't instantiate abstract class AbstractClass with abstract methods abstractMethod"
          ]
        }
      ]
    },
    {
      "cell_type": "code",
      "metadata": {
        "id": "YMDxvvq-SmVj"
      },
      "source": [
        "# 추상 클래스를 상속 받아서 추상 메서드를 오버라이딩(재정의) 하지 않으면\n",
        "# 상속 받은 클래스도 추상 클래스가 됩니다. \n",
        "# 추상 클래스는 언젠가는 반드시 구현이 되어야 합니다. \n",
        "class ChildClass(AbstractClass):\n",
        "  pass"
      ],
      "execution_count": null,
      "outputs": []
    },
    {
      "cell_type": "code",
      "metadata": {
        "colab": {
          "base_uri": "https://localhost:8080/",
          "height": 166
        },
        "id": "wWz4DwuhSyqy",
        "outputId": "47eb66f8-edaa-403b-bc3d-66a4968501fa"
      },
      "source": [
        "obj = ChildClass()"
      ],
      "execution_count": null,
      "outputs": [
        {
          "output_type": "error",
          "ename": "TypeError",
          "evalue": "ignored",
          "traceback": [
            "\u001b[0;31m---------------------------------------------------------------------------\u001b[0m",
            "\u001b[0;31mTypeError\u001b[0m                                 Traceback (most recent call last)",
            "\u001b[0;32m<ipython-input-68-da1f6b20c6b1>\u001b[0m in \u001b[0;36m<module>\u001b[0;34m()\u001b[0m\n\u001b[0;32m----> 1\u001b[0;31m \u001b[0mobj\u001b[0m \u001b[0;34m=\u001b[0m \u001b[0mChildClass\u001b[0m\u001b[0;34m(\u001b[0m\u001b[0;34m)\u001b[0m\u001b[0;34m\u001b[0m\u001b[0;34m\u001b[0m\u001b[0m\n\u001b[0m",
            "\u001b[0;31mTypeError\u001b[0m: Can't instantiate abstract class ChildClass with abstract methods abstractMethod"
          ]
        }
      ]
    },
    {
      "cell_type": "code",
      "metadata": {
        "id": "cMUIyfvoS16k"
      },
      "source": [
        "# 언제가는 반드시 오버라이딩 해야만 합니다. \n",
        "class FinalClass(ChildClass):\n",
        "  \n",
        "  # method overriding\n",
        "  def abstractMethod(self):\n",
        "    print('재정의된 추상 메소드')"
      ],
      "execution_count": null,
      "outputs": []
    },
    {
      "cell_type": "code",
      "metadata": {
        "colab": {
          "base_uri": "https://localhost:8080/"
        },
        "id": "2TM9G3OPTFSq",
        "outputId": "67fd44fd-4bd9-4536-f391-d02c59947930"
      },
      "source": [
        "obj = FinalClass()\n",
        "obj.abstractMethod()"
      ],
      "execution_count": null,
      "outputs": [
        {
          "output_type": "stream",
          "name": "stdout",
          "text": [
            "재정의된 추상 메소드\n"
          ]
        }
      ]
    }
  ]
}