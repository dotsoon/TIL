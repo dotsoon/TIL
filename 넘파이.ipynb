{
  "nbformat": 4,
  "nbformat_minor": 0,
  "metadata": {
    "colab": {
      "name": "넘파이.ipynb",
      "provenance": [],
      "toc_visible": true,
      "include_colab_link": true
    },
    "kernelspec": {
      "name": "python3",
      "display_name": "Python 3"
    },
    "language_info": {
      "name": "python"
    }
  },
  "cells": [
    {
      "cell_type": "markdown",
      "metadata": {
        "id": "view-in-github",
        "colab_type": "text"
      },
      "source": [
        "<a href=\"https://colab.research.google.com/github/dotsoon/TIL/blob/master/%EB%84%98%ED%8C%8C%EC%9D%B4.ipynb\" target=\"_parent\"><img src=\"https://colab.research.google.com/assets/colab-badge.svg\" alt=\"Open In Colab\"/></a>"
      ]
    },
    {
      "cell_type": "markdown",
      "source": [
        "# Numpy?\n",
        "- 교제: `파이썬 철저 입문` 214p\n",
        "- 수치해석용으로 만들어진 모듈이라고 보면 됩니다. \n",
        "  - 머신러닝과 같은 데이터 분석을 위해서 만들어진건 아닙니다. \n",
        "  - 분야를 가리지 않고, 많이 사용\n",
        "  - ML/DL에서도 많이 사용\n",
        "  - 판다스도 자료의 기본 타입은 numpy를 사용 합니다.\n",
        "- 수학적 계산을 돕기 위해서 만들어진 라이브러리"
      ],
      "metadata": {
        "id": "dTuJ9FPgse9q"
      }
    },
    {
      "cell_type": "code",
      "source": [
        "# numpy는 일반적으로 np로 줄여서 사용을 하게 됩니다. \n",
        "import numpy as np"
      ],
      "metadata": {
        "id": "6B5BiuS6sxPH"
      },
      "execution_count": null,
      "outputs": []
    },
    {
      "cell_type": "markdown",
      "source": [
        "# 넘파이에서 지원하는 타입\n",
        "1. array(배열)\n",
        "  - 주로 통계분석이나, ML/DL에서 사용하는 타입\n",
        "  - 배열이라고 부릅니다. \n",
        "  - 파이썬의 리스트와는 다릅니다.\n",
        "\n",
        "2. matrix\n",
        "  - 수학적 계산이 필요한 경우에 많이 사용\n",
        "  - 수업 시간에는 사용하지 않습니다. "
      ],
      "metadata": {
        "id": "Mko0-nfTuAAy"
      }
    },
    {
      "cell_type": "markdown",
      "source": [
        "## 배열의 기본속성\n",
        "- ndim\n",
        "  - 배열의 차원\n",
        "- shape\n",
        "  - 배열의 크기를 나타내고, 배열의 크기는 원소의 개수와 동일\n",
        "  - 1차원 배열인 경우에는 행이 1이고, 열이 n인 배열을 의미\n",
        "  - 배열의 모양은 튜플로 표현이 됩니다. "
      ],
      "metadata": {
        "id": "gSVLN5WougVT"
      }
    },
    {
      "cell_type": "markdown",
      "source": [
        "### 1차원 배열\n",
        "- 파이썬의 리스트와 거의 동일"
      ],
      "metadata": {
        "id": "IWzPKtfRu9nC"
      }
    },
    {
      "cell_type": "code",
      "source": [
        "# 리스트를 원소로 하는 배열 객체 정도로 이해\n",
        "arr1D = np.array([1, 2, 3, 4])\n",
        "arr1D"
      ],
      "metadata": {
        "colab": {
          "base_uri": "https://localhost:8080/"
        },
        "id": "8zVwzNvXvAhe",
        "outputId": "cbaab1a8-9c80-4445-e738-5fe254e28d11"
      },
      "execution_count": null,
      "outputs": [
        {
          "output_type": "execute_result",
          "data": {
            "text/plain": [
              "array([1, 2, 3, 4])"
            ]
          },
          "metadata": {},
          "execution_count": 3
        }
      ]
    },
    {
      "cell_type": "markdown",
      "source": [
        "자료의 차원을 확인하는 것은 매주 중요합니다. \n",
        "- 자료의 차원이 다르면, 알고리즘이 동작하지 않게 됩니다. \n",
        "  - 알고리즘을 직접 작성하지는 않고, 잘 만들어진 라이브러리를 이용하게 됩니다. \n",
        "  - 자료의 차원을 고려해서 사용을 해야 합니다. "
      ],
      "metadata": {
        "id": "P3LJyXd4vlLP"
      }
    },
    {
      "cell_type": "code",
      "source": [
        "# 배열의 차원\n",
        "arr1D.ndim"
      ],
      "metadata": {
        "colab": {
          "base_uri": "https://localhost:8080/"
        },
        "id": "g0CjbQLovWAO",
        "outputId": "e3d423ac-3700-4d4b-9685-19452ba8d5b4"
      },
      "execution_count": null,
      "outputs": [
        {
          "output_type": "execute_result",
          "data": {
            "text/plain": [
              "1"
            ]
          },
          "metadata": {},
          "execution_count": 4
        }
      ]
    },
    {
      "cell_type": "code",
      "source": [
        "# 배열의 크기(모양)\n",
        "arr1D.shape"
      ],
      "metadata": {
        "colab": {
          "base_uri": "https://localhost:8080/"
        },
        "id": "6kL6e5_Vv-DA",
        "outputId": "857de03e-98eb-4d7a-acb2-cb34693cc768"
      },
      "execution_count": null,
      "outputs": [
        {
          "output_type": "execute_result",
          "data": {
            "text/plain": [
              "(4,)"
            ]
          },
          "metadata": {},
          "execution_count": 5
        }
      ]
    },
    {
      "cell_type": "markdown",
      "source": [
        "### 2차원 배열\n",
        "- 주로 다루게 되는 배열이 2차원이 될 겁니다. \n",
        "  - 자료가 대부분 2차원으로 되어있을 겁니다. \n",
        "  - 수업시간에도 2차원 배열까지만 확인을 합니다. \n",
        "- 리스트와 동일하게, 배열의 원소로 배열을 갖는 배열 정도로 이해 "
      ],
      "metadata": {
        "id": "AaIR87OxwSlo"
      }
    },
    {
      "cell_type": "code",
      "source": [
        "arr2D = np.array([\n",
        "  [1, 2, 3,],\n",
        "  [4, 5, 6,],\n",
        "  [7, 8, 9,]\n",
        "])\n",
        "arr2D"
      ],
      "metadata": {
        "colab": {
          "base_uri": "https://localhost:8080/"
        },
        "id": "lNRIi_lqwhzZ",
        "outputId": "b6013ec7-89d1-4a93-fbd1-183ebf8e5c4b"
      },
      "execution_count": null,
      "outputs": [
        {
          "output_type": "execute_result",
          "data": {
            "text/plain": [
              "array([[1, 2, 3],\n",
              "       [4, 5, 6],\n",
              "       [7, 8, 9]])"
            ]
          },
          "metadata": {},
          "execution_count": 6
        }
      ]
    },
    {
      "cell_type": "code",
      "source": [
        "# 배열의 차원\n",
        "arr2D.ndim"
      ],
      "metadata": {
        "colab": {
          "base_uri": "https://localhost:8080/"
        },
        "id": "hNZwoB-SwtwY",
        "outputId": "109e4965-285e-4822-9a85-1872968720d9"
      },
      "execution_count": null,
      "outputs": [
        {
          "output_type": "execute_result",
          "data": {
            "text/plain": [
              "2"
            ]
          },
          "metadata": {},
          "execution_count": 7
        }
      ]
    },
    {
      "cell_type": "code",
      "source": [
        "# 배열의 크기\n",
        "# (행, 열)\n",
        "# 행은 자료의 갯수, 열은 변수의 갯수를 의미하게 됩니다.\n",
        "arr2D.shape"
      ],
      "metadata": {
        "colab": {
          "base_uri": "https://localhost:8080/"
        },
        "id": "cR07_1U2wxXn",
        "outputId": "e5d85ad4-7b7b-4875-e54c-9c58fb8f02b4"
      },
      "execution_count": null,
      "outputs": [
        {
          "output_type": "execute_result",
          "data": {
            "text/plain": [
              "(3, 3)"
            ]
          },
          "metadata": {},
          "execution_count": 9
        }
      ]
    },
    {
      "cell_type": "markdown",
      "source": [
        "# 배열의 특징\n",
        "- 인덱싱, 슬라이싱(******)\n",
        "- 팬시 인덱싱\n",
        "- 배열의 타입\n",
        "- 넘파에서만 정의되는 특별한 타입"
      ],
      "metadata": {
        "id": "2Ig6D1cIxbCw"
      }
    },
    {
      "cell_type": "markdown",
      "source": [
        "## 배열의 인덱싱과 슬라이싱\n",
        "- 리스트와 비슷한데, 표현은 다릅니다. \n",
        "- 기본적인 개념은 리스트와 동일 \n",
        "- 교제: 230p"
      ],
      "metadata": {
        "id": "LD2bCtTZxczt"
      }
    },
    {
      "cell_type": "code",
      "source": [
        "# 1차원 배열은 리스트와 거의 동일\n",
        "display( arr1D )\n",
        "display( arr1D[0] )\n",
        "display( arr1D[1] )\n",
        "display( arr1D[-1] )\n",
        "\n",
        "# out bound bound error를 주의!\n",
        "display( arr1D[4] )"
      ],
      "metadata": {
        "colab": {
          "base_uri": "https://localhost:8080/",
          "height": 270
        },
        "id": "2LFCR-9sxwbF",
        "outputId": "087cb866-04bd-47c6-aa53-56c2ae1e1ad4"
      },
      "execution_count": null,
      "outputs": [
        {
          "output_type": "display_data",
          "data": {
            "text/plain": [
              "array([1, 2, 3, 4])"
            ]
          },
          "metadata": {}
        },
        {
          "output_type": "display_data",
          "data": {
            "text/plain": [
              "1"
            ]
          },
          "metadata": {}
        },
        {
          "output_type": "display_data",
          "data": {
            "text/plain": [
              "2"
            ]
          },
          "metadata": {}
        },
        {
          "output_type": "display_data",
          "data": {
            "text/plain": [
              "4"
            ]
          },
          "metadata": {}
        },
        {
          "output_type": "error",
          "ename": "IndexError",
          "evalue": "ignored",
          "traceback": [
            "\u001b[0;31m---------------------------------------------------------------------------\u001b[0m",
            "\u001b[0;31mIndexError\u001b[0m                                Traceback (most recent call last)",
            "\u001b[0;32m<ipython-input-15-fb52f70db3bc>\u001b[0m in \u001b[0;36m<module>\u001b[0;34m()\u001b[0m\n\u001b[1;32m      6\u001b[0m \u001b[0;34m\u001b[0m\u001b[0m\n\u001b[1;32m      7\u001b[0m \u001b[0;31m# out bound bound error를 주의!\u001b[0m\u001b[0;34m\u001b[0m\u001b[0;34m\u001b[0m\u001b[0;34m\u001b[0m\u001b[0m\n\u001b[0;32m----> 8\u001b[0;31m \u001b[0mdisplay\u001b[0m\u001b[0;34m(\u001b[0m \u001b[0marr1D\u001b[0m\u001b[0;34m[\u001b[0m\u001b[0;36m4\u001b[0m\u001b[0;34m]\u001b[0m \u001b[0;34m)\u001b[0m\u001b[0;34m\u001b[0m\u001b[0;34m\u001b[0m\u001b[0m\n\u001b[0m",
            "\u001b[0;31mIndexError\u001b[0m: index 4 is out of bounds for axis 0 with size 4"
          ]
        }
      ]
    },
    {
      "cell_type": "code",
      "source": [
        "# 배열도 이터레이블 객체 입니다. \n",
        "# 리스트가 아니기 때문에, 리스트에서 제공하는 메소드들은 사용할 수 없습니다. \n",
        "for x in arr1D:\n",
        "  print(x)"
      ],
      "metadata": {
        "colab": {
          "base_uri": "https://localhost:8080/"
        },
        "id": "vsRysZ9Cxzop",
        "outputId": "0042051f-4865-4edc-c960-54e295ecd360"
      },
      "execution_count": null,
      "outputs": [
        {
          "output_type": "stream",
          "name": "stdout",
          "text": [
            "1\n",
            "2\n",
            "3\n",
            "4\n"
          ]
        }
      ]
    },
    {
      "cell_type": "code",
      "source": [
        "# 내장 함수는 사용이 가능합니다. \n",
        "display( min( arr1D ) )\n",
        "display( max( arr1D ))"
      ],
      "metadata": {
        "colab": {
          "base_uri": "https://localhost:8080/",
          "height": 52
        },
        "id": "tVpGdcROylIQ",
        "outputId": "25539dea-672d-4f9b-f1f3-86406847c371"
      },
      "execution_count": null,
      "outputs": [
        {
          "output_type": "display_data",
          "data": {
            "text/plain": [
              "1"
            ]
          },
          "metadata": {}
        },
        {
          "output_type": "display_data",
          "data": {
            "text/plain": [
              "4"
            ]
          },
          "metadata": {}
        }
      ]
    },
    {
      "cell_type": "code",
      "source": [
        "# 슬라이스도 리스트때 처럼 동일하게 사용\n",
        "display( arr1D[:] )\n",
        "display( arr1D[::-1] )"
      ],
      "metadata": {
        "colab": {
          "base_uri": "https://localhost:8080/",
          "height": 52
        },
        "id": "AzqF8cZyyycm",
        "outputId": "73f2fa2b-608f-4d2f-a375-bb1d8d39c959"
      },
      "execution_count": null,
      "outputs": [
        {
          "output_type": "display_data",
          "data": {
            "text/plain": [
              "array([1, 2, 3, 4])"
            ]
          },
          "metadata": {}
        },
        {
          "output_type": "display_data",
          "data": {
            "text/plain": [
              "array([4, 3, 2, 1])"
            ]
          },
          "metadata": {}
        }
      ]
    },
    {
      "cell_type": "markdown",
      "source": [
        "### 2차원 배열의 인덱싱과 슬라이싱\n",
        "- 인덱싱은 다음과 같이 표현 됩니다. \n",
        "$$\n",
        "  array[행, 열]\n",
        "$$\n",
        "\n",
        "- 슬라이스는 행과 열을 각각 정의할 수 있습니다. \n",
        "\n",
        "$$\n",
        "  array[행시작:행끝, 열시작:열끝]\n",
        "$$"
      ],
      "metadata": {
        "id": "iiVFwVdDzUa_"
      }
    },
    {
      "cell_type": "code",
      "source": [
        "# 2차원 배열의 인덱스\n",
        "display( arr2D )\n",
        "display( arr2D[0, 0] )\n",
        "display( arr2D[0, 1] )\n",
        "display( arr2D[1, 1] )"
      ],
      "metadata": {
        "colab": {
          "base_uri": "https://localhost:8080/",
          "height": 121
        },
        "id": "eRRxG1shzgPu",
        "outputId": "740d3d0b-55fa-4e1f-cb58-cc89b2e36609"
      },
      "execution_count": null,
      "outputs": [
        {
          "output_type": "display_data",
          "data": {
            "text/plain": [
              "array([[1, 2, 3],\n",
              "       [4, 5, 6],\n",
              "       [7, 8, 9]])"
            ]
          },
          "metadata": {}
        },
        {
          "output_type": "display_data",
          "data": {
            "text/plain": [
              "1"
            ]
          },
          "metadata": {}
        },
        {
          "output_type": "display_data",
          "data": {
            "text/plain": [
              "2"
            ]
          },
          "metadata": {}
        },
        {
          "output_type": "display_data",
          "data": {
            "text/plain": [
              "5"
            ]
          },
          "metadata": {}
        }
      ]
    },
    {
      "cell_type": "code",
      "source": [
        "# 배열은 행우선 인덱스를 제공 합니다.\n",
        "# 판다스와 같은 경우 열 우선 인덱스를 제공\n",
        "display( arr2D[0] )\n",
        "display( arr2D[0,])\n",
        "display( arr2D[0, :])"
      ],
      "metadata": {
        "colab": {
          "base_uri": "https://localhost:8080/",
          "height": 69
        },
        "id": "ygwxIpmA2efW",
        "outputId": "552417a8-94fc-4534-8ad5-8581c9fae81f"
      },
      "execution_count": null,
      "outputs": [
        {
          "output_type": "display_data",
          "data": {
            "text/plain": [
              "array([1, 2, 3])"
            ]
          },
          "metadata": {}
        },
        {
          "output_type": "display_data",
          "data": {
            "text/plain": [
              "array([1, 2, 3])"
            ]
          },
          "metadata": {}
        },
        {
          "output_type": "display_data",
          "data": {
            "text/plain": [
              "array([1, 2, 3])"
            ]
          },
          "metadata": {}
        }
      ]
    },
    {
      "cell_type": "code",
      "source": [
        "# 열만 인덱싱 할 수는 없고, 슬라이스를 활용\n",
        "# 전체 행에 대해서 슬라이스를 한 이후에 열을 선택\n",
        "display( arr2D )\n",
        "display( arr2D[:, 1])"
      ],
      "metadata": {
        "colab": {
          "base_uri": "https://localhost:8080/",
          "height": 86
        },
        "id": "THbpI6EG2vHK",
        "outputId": "0a77a0d6-2bbe-49b4-c362-6348fe7e8dc7"
      },
      "execution_count": null,
      "outputs": [
        {
          "output_type": "display_data",
          "data": {
            "text/plain": [
              "array([[1, 2, 3],\n",
              "       [4, 5, 6],\n",
              "       [7, 8, 9]])"
            ]
          },
          "metadata": {}
        },
        {
          "output_type": "display_data",
          "data": {
            "text/plain": [
              "array([2, 5, 8])"
            ]
          },
          "metadata": {}
        }
      ]
    },
    {
      "cell_type": "code",
      "source": [
        "# 슬라이스를 잘 활용하면 행과 열을 동시에 슬라이스\n",
        "display( arr2D )\n",
        "display( arr2D[1:, 1:])"
      ],
      "metadata": {
        "colab": {
          "base_uri": "https://localhost:8080/",
          "height": 104
        },
        "id": "4Z3mrnxO3KHZ",
        "outputId": "c33a1157-e5d2-402b-f18c-1b6efe32f056"
      },
      "execution_count": null,
      "outputs": [
        {
          "output_type": "display_data",
          "data": {
            "text/plain": [
              "array([[1, 2, 3],\n",
              "       [4, 5, 6],\n",
              "       [7, 8, 9]])"
            ]
          },
          "metadata": {}
        },
        {
          "output_type": "display_data",
          "data": {
            "text/plain": [
              "array([[5, 6],\n",
              "       [8, 9]])"
            ]
          },
          "metadata": {}
        }
      ]
    },
    {
      "cell_type": "markdown",
      "source": [
        "연습"
      ],
      "metadata": {
        "id": "hBgChdLq3dEH"
      }
    },
    {
      "cell_type": "code",
      "source": [
        "# 다음의 코드는 뒤에서 자세하게 설명\n",
        "arrN = np.arange(1, 31).reshape(3, 10)\n",
        "arrN"
      ],
      "metadata": {
        "colab": {
          "base_uri": "https://localhost:8080/"
        },
        "id": "N6GpW1093d0E",
        "outputId": "f04f214a-d2bd-4c92-cd14-99acef895a5e"
      },
      "execution_count": null,
      "outputs": [
        {
          "output_type": "execute_result",
          "data": {
            "text/plain": [
              "array([[ 1,  2,  3,  4,  5,  6,  7,  8,  9, 10],\n",
              "       [11, 12, 13, 14, 15, 16, 17, 18, 19, 20],\n",
              "       [21, 22, 23, 24, 25, 26, 27, 28, 29, 30]])"
            ]
          },
          "metadata": {},
          "execution_count": 32
        }
      ]
    },
    {
      "cell_type": "code",
      "source": [
        "# 주어진 배열에서 다음의 수 들을 인덱싱 또는 슬라이스 해보시면 됩니다. \n",
        "\n",
        "# 16\n",
        "display( arrN[1, 5])\n",
        "\n",
        "# 29\n",
        "display( arrN[2, 8])\n",
        "\n",
        "# 14, 15, 16\n",
        "display( arrN[1, 3:6] )\n",
        "\n",
        "# 18, 28\n",
        "display( arrN[1:3, 7])\n",
        "\n",
        "# 9, 10, 19, 20\n",
        "display( arrN[:2, 8:])"
      ],
      "metadata": {
        "colab": {
          "base_uri": "https://localhost:8080/",
          "height": 121
        },
        "id": "9XMQwgk73oQH",
        "outputId": "60d36b65-4ed2-48c6-a149-5d1930c3c6ec"
      },
      "execution_count": null,
      "outputs": [
        {
          "output_type": "display_data",
          "data": {
            "text/plain": [
              "16"
            ]
          },
          "metadata": {}
        },
        {
          "output_type": "display_data",
          "data": {
            "text/plain": [
              "29"
            ]
          },
          "metadata": {}
        },
        {
          "output_type": "display_data",
          "data": {
            "text/plain": [
              "array([14, 15, 16])"
            ]
          },
          "metadata": {}
        },
        {
          "output_type": "display_data",
          "data": {
            "text/plain": [
              "array([18, 28])"
            ]
          },
          "metadata": {}
        },
        {
          "output_type": "display_data",
          "data": {
            "text/plain": [
              "array([[ 9, 10],\n",
              "       [19, 20]])"
            ]
          },
          "metadata": {}
        }
      ]
    },
    {
      "cell_type": "code",
      "source": [
        "arrn = np.arange(1, 51).reshape(5, 10)\n",
        "arrn"
      ],
      "metadata": {
        "colab": {
          "base_uri": "https://localhost:8080/"
        },
        "id": "ETd0nvpT50MW",
        "outputId": "63992da4-a4f4-4b93-abf0-7e2ab73638e2"
      },
      "execution_count": null,
      "outputs": [
        {
          "output_type": "execute_result",
          "data": {
            "text/plain": [
              "array([[ 1,  2,  3,  4,  5,  6,  7,  8,  9, 10],\n",
              "       [11, 12, 13, 14, 15, 16, 17, 18, 19, 20],\n",
              "       [21, 22, 23, 24, 25, 26, 27, 28, 29, 30],\n",
              "       [31, 32, 33, 34, 35, 36, 37, 38, 39, 40],\n",
              "       [41, 42, 43, 44, 45, 46, 47, 48, 49, 50]])"
            ]
          },
          "metadata": {},
          "execution_count": 38
        }
      ]
    },
    {
      "cell_type": "code",
      "source": [
        "# 14, 15, 16, 17, 24, 25, 26, 27, 34, 35, 36, 37\n",
        "\n",
        "# 12, 22, 32"
      ],
      "metadata": {
        "id": "Gz4rWAOH54f9"
      },
      "execution_count": null,
      "outputs": []
    },
    {
      "cell_type": "markdown",
      "source": [
        "## 팬시 인덱싱(배열 인덱싱)\n",
        "- 인덱스로 배열을 사용\n",
        "  - 불리언 배열: 불리언(True, False)로 이루어진 배열\n",
        "  - 정수 배열: 정수로 이루어진 배열"
      ],
      "metadata": {
        "id": "7g_Xm3Eb6tZG"
      }
    },
    {
      "cell_type": "code",
      "source": [
        "# 불리언 인덱스\n",
        "# 배열에서 True에 해당하는 값만 선택\n",
        "# 불리언 배열을 조건에 부합하는 결과만 선택할 수 있도록 생성해서 사용\n",
        "display( arr1D )\n",
        "arr1D[ np.array([True, False, True, False]) ] # 배열의 크기와 인덱스 배열의 크기는 동일"
      ],
      "metadata": {
        "colab": {
          "base_uri": "https://localhost:8080/",
          "height": 52
        },
        "id": "p3SOlj0_68iC",
        "outputId": "569bb6ce-99cc-4a1f-b847-cff223539752"
      },
      "execution_count": null,
      "outputs": [
        {
          "output_type": "display_data",
          "data": {
            "text/plain": [
              "array([1, 2, 3, 4])"
            ]
          },
          "metadata": {}
        },
        {
          "output_type": "execute_result",
          "data": {
            "text/plain": [
              "array([1, 3])"
            ]
          },
          "metadata": {},
          "execution_count": 43
        }
      ]
    },
    {
      "cell_type": "code",
      "source": [
        "# 배열에서 조건에 맞는 값만 검색\n",
        "display( arr1D > 2 )\n",
        "display( arr1D[ arr1D > 2 ] )"
      ],
      "metadata": {
        "colab": {
          "base_uri": "https://localhost:8080/",
          "height": 52
        },
        "id": "HDJJUGBI7kSu",
        "outputId": "204967dc-e046-457f-e51a-8e6f77309bb4"
      },
      "execution_count": null,
      "outputs": [
        {
          "output_type": "display_data",
          "data": {
            "text/plain": [
              "array([False, False,  True,  True])"
            ]
          },
          "metadata": {}
        },
        {
          "output_type": "display_data",
          "data": {
            "text/plain": [
              "array([3, 4])"
            ]
          },
          "metadata": {}
        }
      ]
    },
    {
      "cell_type": "code",
      "source": [
        "# 정수 배열\n",
        "# 배열에서 원하는 인덱스를 배열로 생성\n",
        "# 중복 선택이 가능, 배열의 크기와 인덱스 배열의 크기가 달라도 상관이 없습니다. \n",
        "display( arr1D )\n",
        "idx = np.array([1, 1, 1, 1, 1, 1, 1, 1, 0, 0, 0, 0, 2, 2, 2, 2, 2, 2, 3, 3, 3, 3, 3, 2, 1, 1, 1])\n",
        "arr1D[ idx ]"
      ],
      "metadata": {
        "colab": {
          "base_uri": "https://localhost:8080/",
          "height": 69
        },
        "id": "mqzZ-xYI8XOX",
        "outputId": "019a61a0-e5e0-42d8-b5f3-b58439e220bc"
      },
      "execution_count": null,
      "outputs": [
        {
          "output_type": "display_data",
          "data": {
            "text/plain": [
              "array([1, 2, 3, 4])"
            ]
          },
          "metadata": {}
        },
        {
          "output_type": "execute_result",
          "data": {
            "text/plain": [
              "array([2, 2, 2, 2, 2, 2, 2, 2, 1, 1, 1, 1, 3, 3, 3, 3, 3, 3, 4, 4, 4, 4,\n",
              "       4, 3, 2, 2, 2])"
            ]
          },
          "metadata": {},
          "execution_count": 47
        }
      ]
    },
    {
      "cell_type": "markdown",
      "source": [
        "## 배열의 타입\n",
        "- 리스트와는 다르게 배열은 타입을 가집니다. \n",
        "  - 리스트는 여러개의 타입을 원소로 가질 수 있습니다. \n",
        "  - 배열은 하나의 타입만 원소로 가질 수 있습니다. \n",
        "- 배열은, 배열이 생성될 때, 원소들의 타입을 보고 기본적인 자료의 타입을 결정하게 됩니다. "
      ],
      "metadata": {
        "id": "xoh4dt9S9uKG"
      }
    },
    {
      "cell_type": "code",
      "source": [
        ".dtyparr1De"
      ],
      "metadata": {
        "colab": {
          "base_uri": "https://localhost:8080/"
        },
        "id": "TAGu103K9-Vy",
        "outputId": "3972d233-4155-4b0e-ab65-4a88fef059b0"
      },
      "execution_count": null,
      "outputs": [
        {
          "output_type": "execute_result",
          "data": {
            "text/plain": [
              "dtype('int64')"
            ]
          },
          "metadata": {},
          "execution_count": 49
        }
      ]
    },
    {
      "cell_type": "markdown",
      "source": [
        "파이썬은 숫자를 표현하는데 한계가 없습니다. \n",
        "- 라이브러리들은 파이썬만으로만 만들어져있지 않습니다. \n",
        "  - 속도를 빠르게 하기 위해서 C, C++ 등의 다른 언어로 만들어진 내용도 파이썬에서는 사용이 가능\n",
        "  - 자료의 표현도 한계가 발생할 수 있습니다. "
      ],
      "metadata": {
        "id": "O3s41MR4-LeV"
      }
    },
    {
      "cell_type": "code",
      "source": [
        "# 원소의 타입이 여러개라면\n",
        "# 가장 큰 타입을 기본 타입으로 결정\n",
        "# 타입이 결정되면, 나머지 값들도 결정된 기본타입을 따르게됩니다. \n",
        "arr = np.array([1, 2, 3, 4, 5.0])\n",
        "display(arr)\n",
        "display(arr.dtype)"
      ],
      "metadata": {
        "colab": {
          "base_uri": "https://localhost:8080/",
          "height": 52
        },
        "id": "rKzjNUDP-e45",
        "outputId": "e781c4a4-7e6a-4d13-d983-b9bdf43f9a70"
      },
      "execution_count": null,
      "outputs": [
        {
          "output_type": "display_data",
          "data": {
            "text/plain": [
              "array([1., 2., 3., 4., 5.])"
            ]
          },
          "metadata": {}
        },
        {
          "output_type": "display_data",
          "data": {
            "text/plain": [
              "dtype('float64')"
            ]
          },
          "metadata": {}
        }
      ]
    },
    {
      "cell_type": "code",
      "source": [
        "# 배열을 생성할 때, 타입을 직접 결정\n",
        "arr = np.array([1, 2, 3, 4, 5], dtype=np.float32 )\n",
        "display( arr )\n",
        "display( arr.dtype )"
      ],
      "metadata": {
        "colab": {
          "base_uri": "https://localhost:8080/",
          "height": 52
        },
        "id": "X2IZMxt0_0_X",
        "outputId": "12827b09-7b03-4d7c-91a2-802118531d33"
      },
      "execution_count": null,
      "outputs": [
        {
          "output_type": "display_data",
          "data": {
            "text/plain": [
              "array([1., 2., 3., 4., 5.], dtype=float32)"
            ]
          },
          "metadata": {}
        },
        {
          "output_type": "display_data",
          "data": {
            "text/plain": [
              "dtype('float32')"
            ]
          },
          "metadata": {}
        }
      ]
    },
    {
      "cell_type": "markdown",
      "source": [
        "> 텐서플로우를 사용하는 경우에는 자료의 차원과 타입에 매우 민감하기때문에, 중요합니다. "
      ],
      "metadata": {
        "id": "PiRf2FnPAFfe"
      }
    },
    {
      "cell_type": "markdown",
      "source": [
        "## 넘파이에서만 정의되어 있는 특별한 타입 \n",
        "- 파이썬은 이런 타입을 갖지 않습니다. \n",
        "- inf\n",
        "  - 표현할 수 없는 값\n",
        "  - 함수가 수렴하지 않고, 발산하는 경우(inf, -inf)\n",
        "- NaN(Not a Number)\n",
        "  - 결측치를 표현(비어있는 값)\n",
        "  - 값을 표현할 수 없는 경우"
      ],
      "metadata": {
        "id": "E7U6uBbdALSg"
      }
    },
    {
      "cell_type": "code",
      "source": [
        "display( type( np.NaN ) )\n",
        "display( np.array([0]) / np.array([0]) )"
      ],
      "metadata": {
        "colab": {
          "base_uri": "https://localhost:8080/",
          "height": 86
        },
        "id": "4c_dju5IA6k1",
        "outputId": "ff5ebefd-d2ef-4ae9-8325-da21e7c46e17"
      },
      "execution_count": null,
      "outputs": [
        {
          "output_type": "display_data",
          "data": {
            "text/plain": [
              "float"
            ]
          },
          "metadata": {}
        },
        {
          "output_type": "stream",
          "name": "stderr",
          "text": [
            "/usr/local/lib/python3.7/dist-packages/ipykernel_launcher.py:2: RuntimeWarning: invalid value encountered in true_divide\n",
            "  \n"
          ]
        },
        {
          "output_type": "display_data",
          "data": {
            "text/plain": [
              "array([nan])"
            ]
          },
          "metadata": {}
        }
      ]
    },
    {
      "cell_type": "code",
      "source": [
        "display( type(np.inf) )\n",
        "display( np.log(0) )"
      ],
      "metadata": {
        "colab": {
          "base_uri": "https://localhost:8080/",
          "height": 86
        },
        "id": "MzC0y5klBQS1",
        "outputId": "3bc78b71-dd4d-460b-8746-0cff432274b5"
      },
      "execution_count": null,
      "outputs": [
        {
          "output_type": "display_data",
          "data": {
            "text/plain": [
              "float"
            ]
          },
          "metadata": {}
        },
        {
          "output_type": "stream",
          "name": "stderr",
          "text": [
            "/usr/local/lib/python3.7/dist-packages/ipykernel_launcher.py:2: RuntimeWarning: divide by zero encountered in log\n",
            "  \n"
          ]
        },
        {
          "output_type": "display_data",
          "data": {
            "text/plain": [
              "-inf"
            ]
          },
          "metadata": {}
        }
      ]
    },
    {
      "cell_type": "markdown",
      "source": [
        "# 배열을 생성하는 방법\n",
        "- 교제: 215p"
      ],
      "metadata": {
        "id": "CaZ8j-XeGFkt"
      }
    },
    {
      "cell_type": "markdown",
      "source": [
        "## 초기화된 배열\n",
        "- 0과 1만 특별히 취급\n",
        "- 원소가 전부 0이거나, 전부 1인 경우에는 선형대수에서는 특별하게 취급"
      ],
      "metadata": {
        "id": "TpoZaJMZGHFJ"
      }
    },
    {
      "cell_type": "code",
      "source": [
        "# 0으로 초기화된 배열\n",
        "np.zeros(10, dtype=np.int)"
      ],
      "metadata": {
        "colab": {
          "base_uri": "https://localhost:8080/"
        },
        "id": "AjassMIRGdqJ",
        "outputId": "6559ef50-af2e-4eab-c4a4-23cd2d91c665"
      },
      "execution_count": null,
      "outputs": [
        {
          "output_type": "execute_result",
          "data": {
            "text/plain": [
              "array([0, 0, 0, 0, 0, 0, 0, 0, 0, 0])"
            ]
          },
          "metadata": {},
          "execution_count": 60
        }
      ]
    },
    {
      "cell_type": "code",
      "source": [
        "# 1로 초기화된 배열\n",
        "np.ones(10)"
      ],
      "metadata": {
        "colab": {
          "base_uri": "https://localhost:8080/"
        },
        "id": "iffKZyRtGlOk",
        "outputId": "47fba20d-890a-46ab-d233-24008b9792ea"
      },
      "execution_count": null,
      "outputs": [
        {
          "output_type": "execute_result",
          "data": {
            "text/plain": [
              "array([1., 1., 1., 1., 1., 1., 1., 1., 1., 1.])"
            ]
          },
          "metadata": {},
          "execution_count": 59
        }
      ]
    },
    {
      "cell_type": "code",
      "source": [
        "# 0과 1이 아닌 다른값으로 초기화 하고 싶은 경우\n",
        "np.full(10, 5)"
      ],
      "metadata": {
        "colab": {
          "base_uri": "https://localhost:8080/"
        },
        "id": "OhKlH0cZGr30",
        "outputId": "90aa6c11-d233-4aef-a2db-3cde64008b65"
      },
      "execution_count": null,
      "outputs": [
        {
          "output_type": "execute_result",
          "data": {
            "text/plain": [
              "array([5, 5, 5, 5, 5, 5, 5, 5, 5, 5])"
            ]
          },
          "metadata": {},
          "execution_count": 63
        }
      ]
    },
    {
      "cell_type": "markdown",
      "source": [
        "## 수열을 생성하는 방법\n",
        "- range와 같은 역할\n",
        "- arange\n",
        "  - 실수(소수)에 대한 수열도 만들 수 있습니다."
      ],
      "metadata": {
        "id": "_ZoK0wUeHYhB"
      }
    },
    {
      "cell_type": "code",
      "source": [
        "np.arange(1, 10)"
      ],
      "metadata": {
        "colab": {
          "base_uri": "https://localhost:8080/"
        },
        "id": "a8D4p6n3HoVn",
        "outputId": "2862563a-bcf2-446c-e8da-25e3b3064de3"
      },
      "execution_count": null,
      "outputs": [
        {
          "output_type": "execute_result",
          "data": {
            "text/plain": [
              "array([1, 2, 3, 4, 5, 6, 7, 8, 9])"
            ]
          },
          "metadata": {},
          "execution_count": 64
        }
      ]
    },
    {
      "cell_type": "code",
      "source": [
        "np.arange(1, 2, 0.1)"
      ],
      "metadata": {
        "colab": {
          "base_uri": "https://localhost:8080/"
        },
        "id": "qN2B8sG0Hs0P",
        "outputId": "86a8f3f4-2f23-46f6-8eb3-a65cf6d2d8d9"
      },
      "execution_count": null,
      "outputs": [
        {
          "output_type": "execute_result",
          "data": {
            "text/plain": [
              "array([1. , 1.1, 1.2, 1.3, 1.4, 1.5, 1.6, 1.7, 1.8, 1.9])"
            ]
          },
          "metadata": {},
          "execution_count": 66
        }
      ]
    },
    {
      "cell_type": "code",
      "source": [
        "# 주어진 구간에서, 갯수만큼 균등한 간격으로 수열을 생성\n",
        "# 마지막 원소를 포함\n",
        "display( np.linspace(0, 10, 11) )\n",
        "display( np.linspace(1, 2, 100) )"
      ],
      "metadata": {
        "colab": {
          "base_uri": "https://localhost:8080/",
          "height": 382
        },
        "id": "_VqGUBdZH3Rg",
        "outputId": "b6103efe-b2a8-47de-a5fb-afe0deb12f46"
      },
      "execution_count": null,
      "outputs": [
        {
          "output_type": "display_data",
          "data": {
            "text/plain": [
              "array([ 0.,  1.,  2.,  3.,  4.,  5.,  6.,  7.,  8.,  9., 10.])"
            ]
          },
          "metadata": {}
        },
        {
          "output_type": "display_data",
          "data": {
            "text/plain": [
              "array([1.        , 1.01010101, 1.02020202, 1.03030303, 1.04040404,\n",
              "       1.05050505, 1.06060606, 1.07070707, 1.08080808, 1.09090909,\n",
              "       1.1010101 , 1.11111111, 1.12121212, 1.13131313, 1.14141414,\n",
              "       1.15151515, 1.16161616, 1.17171717, 1.18181818, 1.19191919,\n",
              "       1.2020202 , 1.21212121, 1.22222222, 1.23232323, 1.24242424,\n",
              "       1.25252525, 1.26262626, 1.27272727, 1.28282828, 1.29292929,\n",
              "       1.3030303 , 1.31313131, 1.32323232, 1.33333333, 1.34343434,\n",
              "       1.35353535, 1.36363636, 1.37373737, 1.38383838, 1.39393939,\n",
              "       1.4040404 , 1.41414141, 1.42424242, 1.43434343, 1.44444444,\n",
              "       1.45454545, 1.46464646, 1.47474747, 1.48484848, 1.49494949,\n",
              "       1.50505051, 1.51515152, 1.52525253, 1.53535354, 1.54545455,\n",
              "       1.55555556, 1.56565657, 1.57575758, 1.58585859, 1.5959596 ,\n",
              "       1.60606061, 1.61616162, 1.62626263, 1.63636364, 1.64646465,\n",
              "       1.65656566, 1.66666667, 1.67676768, 1.68686869, 1.6969697 ,\n",
              "       1.70707071, 1.71717172, 1.72727273, 1.73737374, 1.74747475,\n",
              "       1.75757576, 1.76767677, 1.77777778, 1.78787879, 1.7979798 ,\n",
              "       1.80808081, 1.81818182, 1.82828283, 1.83838384, 1.84848485,\n",
              "       1.85858586, 1.86868687, 1.87878788, 1.88888889, 1.8989899 ,\n",
              "       1.90909091, 1.91919192, 1.92929293, 1.93939394, 1.94949495,\n",
              "       1.95959596, 1.96969697, 1.97979798, 1.98989899, 2.        ])"
            ]
          },
          "metadata": {}
        }
      ]
    },
    {
      "cell_type": "markdown",
      "source": [
        "## 무작위 배열을 생성하는 방법\n",
        "- 랜덤\n",
        "  - 파이썬(넘파이)은 랜덤은 `균등분포`를 의미합니다."
      ],
      "metadata": {
        "id": "79pxDavBIoPs"
      }
    },
    {
      "cell_type": "code",
      "source": [
        "# 균등분포를 통해서 정해진 갯수만큼 수를 생성\n",
        "# 랜덤하기 때문에, 실행할 때마다 매번 다른 값이 생성\n",
        "np.random.rand(10)"
      ],
      "metadata": {
        "colab": {
          "base_uri": "https://localhost:8080/"
        },
        "id": "F8BLUzYuIrE3",
        "outputId": "50ccaf42-e11e-4745-fc8f-24be4ddc6ac3"
      },
      "execution_count": null,
      "outputs": [
        {
          "output_type": "execute_result",
          "data": {
            "text/plain": [
              "array([0.68354513, 0.63978254, 0.59885927, 0.50423771, 0.71438518,\n",
              "       0.78034154, 0.94908364, 0.40118007, 0.45439602, 0.94300519])"
            ]
          },
          "metadata": {},
          "execution_count": 83
        }
      ]
    },
    {
      "cell_type": "code",
      "source": [
        "# 정수 형태로 무작위수를 생성\n",
        "np.random.randint(0, 10, size=10)"
      ],
      "metadata": {
        "colab": {
          "base_uri": "https://localhost:8080/"
        },
        "id": "YqCACmVtJSl2",
        "outputId": "4c9c03cb-171c-4a95-a8a0-2326a10b1c4a"
      },
      "execution_count": null,
      "outputs": [
        {
          "output_type": "execute_result",
          "data": {
            "text/plain": [
              "array([7, 6, 6, 5, 1, 8, 8, 6, 7, 4])"
            ]
          },
          "metadata": {},
          "execution_count": 90
        }
      ]
    },
    {
      "cell_type": "code",
      "source": [
        "# 무작위로 생성되는 수를 고정\n",
        "np.random.seed(123)\n",
        "np.random.rand(10)"
      ],
      "metadata": {
        "colab": {
          "base_uri": "https://localhost:8080/"
        },
        "id": "Ad7L4jN2J0B0",
        "outputId": "3ac9a2b5-5956-4532-8985-55cddc9871b1"
      },
      "execution_count": null,
      "outputs": [
        {
          "output_type": "execute_result",
          "data": {
            "text/plain": [
              "array([0.69646919, 0.28613933, 0.22685145, 0.55131477, 0.71946897,\n",
              "       0.42310646, 0.9807642 , 0.68482974, 0.4809319 , 0.39211752])"
            ]
          },
          "metadata": {},
          "execution_count": 98
        }
      ]
    },
    {
      "cell_type": "code",
      "source": [
        "# 중복되지 않은 무작위 수를 생성\n",
        "arr = np.arange(1, 11)\n",
        "np.random.choice(arr, size=5, replace=False)"
      ],
      "metadata": {
        "colab": {
          "base_uri": "https://localhost:8080/"
        },
        "id": "9M0u0qDCKCF2",
        "outputId": "5da6cc14-5adc-4366-b2b5-a3d4d25262c5"
      },
      "execution_count": 43,
      "outputs": [
        {
          "output_type": "execute_result",
          "data": {
            "text/plain": [
              "array([3, 9, 7, 4, 5])"
            ]
          },
          "metadata": {},
          "execution_count": 43
        }
      ]
    },
    {
      "cell_type": "code",
      "source": [
        "arr=np.arange(1,45)\n",
        "np.random.choice(arr, size=6, replace=False)"
      ],
      "metadata": {
        "id": "_J0pLo-LLU8E",
        "outputId": "fcde6d2d-e546-4263-9387-2a0db46cd6a6",
        "colab": {
          "base_uri": "https://localhost:8080/"
        }
      },
      "execution_count": 53,
      "outputs": [
        {
          "output_type": "execute_result",
          "data": {
            "text/plain": [
              "array([ 4, 33, 38,  8, 28, 43])"
            ]
          },
          "metadata": {},
          "execution_count": 53
        }
      ]
    },
    {
      "cell_type": "markdown",
      "source": [
        "랜덤은 표본 추출하는 경우, 샘플링 하는 경우에 주로 사용"
      ],
      "metadata": {
        "id": "J3HczW1AKjPY"
      }
    },
    {
      "cell_type": "markdown",
      "source": [
        "로또 번호 생성기\n",
        "- 로또는 1부터 45까지의 수 중에서 6자리의 수가 무작위로 선택\n",
        "- 중복은 허용하지 않음"
      ],
      "metadata": {
        "id": "-Y14fVoVKzsj"
      }
    }
  ]
}