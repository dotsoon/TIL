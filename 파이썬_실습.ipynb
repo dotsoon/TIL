{
  "nbformat": 4,
  "nbformat_minor": 0,
  "metadata": {
    "colab": {
      "name": "파이썬 실습.ipynb",
      "provenance": [],
      "collapsed_sections": [],
      "toc_visible": true,
      "include_colab_link": true
    },
    "kernelspec": {
      "name": "python3",
      "display_name": "Python 3"
    },
    "language_info": {
      "name": "python"
    }
  },
  "cells": [
    {
      "cell_type": "markdown",
      "metadata": {
        "id": "view-in-github",
        "colab_type": "text"
      },
      "source": [
        "<a href=\"https://colab.research.google.com/github/dotsoon/TIL/blob/master/%ED%8C%8C%EC%9D%B4%EC%8D%AC_%EC%8B%A4%EC%8A%B5.ipynb\" target=\"_parent\"><img src=\"https://colab.research.google.com/assets/colab-badge.svg\" alt=\"Open In Colab\"/></a>"
      ]
    },
    {
      "cell_type": "markdown",
      "metadata": {
        "id": "3CJovzaJoron"
      },
      "source": [
        "# 알고리즘 문제 풀이\n",
        "- 기초적인 코딩 과정을 익히기 위해서 사용\n",
        "  - 핵심: 반복문과 리스트\n",
        "    - 가장 배우기 어렵고, 힘든 과정\n",
        "\n",
        "- 확장 => 코딩 테스트를 준비하는 용도\n",
        "\n",
        "- 실습 사이트\n",
        "  - [백준](http://www.acmicpc.net): 알고리즘 경진대회 준비\n",
        "    - 난이도 별로 다양하게 문제들이 준비\n",
        "    - 초보자부터 숙련자까지 전부 사용해볼 수 있습니다. \n",
        "\n",
        "  - [코드업](https://codeup.kr/index.php): 학생들을 위한 사이트 \n",
        "    - 초보자를 위한 문제들이 다수 준비\n",
        "    - 개인이 사비를 들여서 운영하는 곳으로 감사한 마음으로 문제를 풀도록 합시다\n",
        "\n",
        "  - [프로그래머스](https://programmers.co.kr/)\n",
        "    - 코딩 테스트를 위한 사이트\n",
        "    - 기출문제들이 잘 모여있는 사이트\n",
        "\n",
        "  - [LeetCode](https://leetcode.com/problemset/all/)\n",
        "    - 해외취업을 준비하시는 분들\n",
        "    - 무료로 풀 수 있는 문제와 유료 문제들이 따로 있습니다.\n",
        "\n",
        "  - [topcoder](https://arena.topcoder.com/index.html#/u/dashboard)\n",
        "    - 전통적으로 아주 유명한 프로그래밍 경진대회 사이트\n",
        "    - 릿코드와 마찬가지로 채용도 활발하게 이루어집니다. "
      ]
    },
    {
      "cell_type": "markdown",
      "metadata": {
        "id": "6JfS-oaCFbfs"
      },
      "source": [
        "# CodeUp\n",
        "- 다음의 문제는 수업 시간에 다루지 않은 내용이므로, 다루지 않겠습니다. \n",
        "  - 6046, 6047, 6059, 6060, 6061, 6062, 6063, 6064"
      ]
    },
    {
      "cell_type": "markdown",
      "metadata": {
        "id": "m9hEEjAPFMgN"
      },
      "source": [
        "## 6015\n",
        "- 정수 2개 입력받아서 처리하기"
      ]
    },
    {
      "cell_type": "code",
      "metadata": {
        "colab": {
          "base_uri": "https://localhost:8080/"
        },
        "id": "ftOzE1kd8ASZ",
        "outputId": "a1c81eea-4c25-4209-8254-9089777ad117"
      },
      "source": [
        "a, b = map( int, input().split() )\n",
        "print(a, b)"
      ],
      "execution_count": null,
      "outputs": [
        {
          "output_type": "stream",
          "name": "stdout",
          "text": [
            "10 20 \n",
            "10 20\n"
          ]
        }
      ]
    },
    {
      "cell_type": "markdown",
      "metadata": {
        "id": "mc-O3CEbFjbU"
      },
      "source": [
        "## 6019\n",
        "- 연,월,일 입력받아서 처리하기"
      ]
    },
    {
      "cell_type": "code",
      "metadata": {
        "id": "Xr3ZMJuMB-5D"
      },
      "source": [
        "year, month, day = '2020.3.4'.split('.')"
      ],
      "execution_count": null,
      "outputs": []
    },
    {
      "cell_type": "code",
      "metadata": {
        "colab": {
          "base_uri": "https://localhost:8080/"
        },
        "id": "80wz8MOKC7Aq",
        "outputId": "18811a6d-9152-421c-b915-d483bebb01aa"
      },
      "source": [
        "print(day, month, year, sep='-')"
      ],
      "execution_count": null,
      "outputs": [
        {
          "output_type": "stream",
          "name": "stdout",
          "text": [
            "4-3-2020\n"
          ]
        }
      ]
    },
    {
      "cell_type": "code",
      "metadata": {
        "colab": {
          "base_uri": "https://localhost:8080/"
        },
        "id": "_YD5XIQaDG8Z",
        "outputId": "edffc59e-fa42-498d-e333-b3c67bb45412"
      },
      "source": [
        "print(f'{day}-{month}-{year}')"
      ],
      "execution_count": null,
      "outputs": [
        {
          "output_type": "stream",
          "name": "stdout",
          "text": [
            "4-3-2020\n"
          ]
        }
      ]
    },
    {
      "cell_type": "code",
      "metadata": {
        "colab": {
          "base_uri": "https://localhost:8080/"
        },
        "id": "ZVVTr7r4DTv8",
        "outputId": "82bfe4c6-3a11-4cb6-b123-08c129c1856a"
      },
      "source": [
        "print('{}-{}-{}'.format(day, month, year))"
      ],
      "execution_count": null,
      "outputs": [
        {
          "output_type": "stream",
          "name": "stdout",
          "text": [
            "4-3-2020\n"
          ]
        }
      ]
    },
    {
      "cell_type": "markdown",
      "metadata": {
        "id": "8zXTNRJ-Fp4V"
      },
      "source": [
        "## 6020\n",
        "- 주민번호 입력받아서 처리하기"
      ]
    },
    {
      "cell_type": "code",
      "metadata": {
        "id": "wPpBmAnIEf7k"
      },
      "source": [
        "id1 = '000907-1121112'\n",
        "id2 = id1.split('-')"
      ],
      "execution_count": null,
      "outputs": []
    },
    {
      "cell_type": "code",
      "metadata": {
        "colab": {
          "base_uri": "https://localhost:8080/",
          "height": 35
        },
        "id": "yy8C5KbsEnez",
        "outputId": "55c94d7e-2f0b-4cf4-e2ae-1113fbcd6a19"
      },
      "source": [
        "id2[0] + id2[1]"
      ],
      "execution_count": null,
      "outputs": [
        {
          "output_type": "execute_result",
          "data": {
            "application/vnd.google.colaboratory.intrinsic+json": {
              "type": "string"
            },
            "text/plain": [
              "'0009071121112'"
            ]
          },
          "metadata": {},
          "execution_count": 30
        }
      ]
    },
    {
      "cell_type": "code",
      "metadata": {
        "colab": {
          "base_uri": "https://localhost:8080/",
          "height": 35
        },
        "id": "L4RisrGnExmj",
        "outputId": "6cd2c63d-9600-4a0c-d862-d77422d3b960"
      },
      "source": [
        "''.join(id2)"
      ],
      "execution_count": null,
      "outputs": [
        {
          "output_type": "execute_result",
          "data": {
            "application/vnd.google.colaboratory.intrinsic+json": {
              "type": "string"
            },
            "text/plain": [
              "'0009071121112'"
            ]
          },
          "metadata": {},
          "execution_count": 31
        }
      ]
    },
    {
      "cell_type": "code",
      "metadata": {
        "colab": {
          "base_uri": "https://localhost:8080/",
          "height": 35
        },
        "id": "8vBRC8ezEy2R",
        "outputId": "0d8991d4-a34e-47bb-83f0-84a170f766b8"
      },
      "source": [
        "id1.replace('-', '')"
      ],
      "execution_count": null,
      "outputs": [
        {
          "output_type": "execute_result",
          "data": {
            "application/vnd.google.colaboratory.intrinsic+json": {
              "type": "string"
            },
            "text/plain": [
              "'0009071121112'"
            ]
          },
          "metadata": {},
          "execution_count": 32
        }
      ]
    },
    {
      "cell_type": "markdown",
      "metadata": {
        "id": "Rw9qgcoPFFOs"
      },
      "source": [
        "## 6021\n",
        "- 단어 입력받아서 나눠서 출력하기 \n",
        "- 항상 5자리의 문자열이 주어지므로"
      ]
    },
    {
      "cell_type": "code",
      "metadata": {
        "colab": {
          "base_uri": "https://localhost:8080/",
          "height": 35
        },
        "id": "BUQ8sDS0HLpp",
        "outputId": "7488b482-25a9-4bb3-d127-6179a8c96562"
      },
      "source": [
        "strs = 'Hello'\n",
        "strs"
      ],
      "execution_count": null,
      "outputs": [
        {
          "output_type": "execute_result",
          "data": {
            "application/vnd.google.colaboratory.intrinsic+json": {
              "type": "string"
            },
            "text/plain": [
              "'Hello'"
            ]
          },
          "metadata": {},
          "execution_count": 33
        }
      ]
    },
    {
      "cell_type": "code",
      "metadata": {
        "colab": {
          "base_uri": "https://localhost:8080/"
        },
        "id": "eXkuga88HOLR",
        "outputId": "8ace08e7-dddf-4c13-8c11-ea3a45344b4f"
      },
      "source": [
        "print(strs[0])\n",
        "print(strs[1])\n",
        "print(strs[2])\n",
        "print(strs[3])\n",
        "print(strs[4])"
      ],
      "execution_count": null,
      "outputs": [
        {
          "output_type": "stream",
          "name": "stdout",
          "text": [
            "H\n",
            "e\n",
            "l\n",
            "l\n",
            "o\n"
          ]
        }
      ]
    },
    {
      "cell_type": "code",
      "metadata": {
        "colab": {
          "base_uri": "https://localhost:8080/"
        },
        "id": "E6mqcZngHiL0",
        "outputId": "091f3eea-3be3-4add-bacf-2474bbd44538"
      },
      "source": [
        "# 문자열도 이터레이블 객체이므로 unpacking이 가능\n",
        "print(*strs, sep='\\n')"
      ],
      "execution_count": null,
      "outputs": [
        {
          "output_type": "stream",
          "name": "stdout",
          "text": [
            "H\n",
            "e\n",
            "l\n",
            "l\n",
            "o\n"
          ]
        }
      ]
    },
    {
      "cell_type": "markdown",
      "metadata": {
        "id": "J8hXeKWrHn5U"
      },
      "source": [
        "## 6022\n",
        "- 연월일 입력받아서 나눠서 출력하기"
      ]
    },
    {
      "cell_type": "code",
      "metadata": {
        "id": "jgsGlF3cJf2J"
      },
      "source": [
        "date = '200304'"
      ],
      "execution_count": null,
      "outputs": []
    },
    {
      "cell_type": "code",
      "metadata": {
        "colab": {
          "base_uri": "https://localhost:8080/"
        },
        "id": "IVmQrOPeJj5W",
        "outputId": "4718007d-cfb3-4d22-8be7-9b1a9b7119a5"
      },
      "source": [
        "print(date[0:2], date[2:4], date[4:])"
      ],
      "execution_count": null,
      "outputs": [
        {
          "output_type": "stream",
          "name": "stdout",
          "text": [
            "20 03 04\n"
          ]
        }
      ]
    },
    {
      "cell_type": "markdown",
      "metadata": {
        "id": "VF2mF2pEJn14"
      },
      "source": [
        "## 6023\n",
        "- 시분초 입력 받아서 `분`만 출력하기"
      ]
    },
    {
      "cell_type": "code",
      "metadata": {
        "colab": {
          "base_uri": "https://localhost:8080/",
          "height": 35
        },
        "id": "7r6BzJkIKpM4",
        "outputId": "646412fa-e397-4bb1-e552-efbb02f701da"
      },
      "source": [
        "# split을 하면 항상 크기가 3인 리스트가 돌아옵니다. \n",
        "# 즉, 리스트의 2번째 원소는 항상 분이 됩니다. \n",
        "'17:23:57'.split(':')[1]"
      ],
      "execution_count": null,
      "outputs": [
        {
          "output_type": "execute_result",
          "data": {
            "application/vnd.google.colaboratory.intrinsic+json": {
              "type": "string"
            },
            "text/plain": [
              "'23'"
            ]
          },
          "metadata": {},
          "execution_count": 41
        }
      ]
    },
    {
      "cell_type": "code",
      "metadata": {
        "colab": {
          "base_uri": "https://localhost:8080/"
        },
        "id": "lJ1cZB0zKrQs",
        "outputId": "bedf10d3-1086-4fba-d684-05b1424f35d4"
      },
      "source": [
        "# 표준입력은 입력받은 라인을 무조건 문자열 타입으로 돌려줍니다.\n",
        "# 그렇기 때문에 input()을 통해 입력받은 메모리는 항상 문자열임을 가정해서 처리\n",
        "read = input()"
      ],
      "execution_count": null,
      "outputs": [
        {
          "name": "stdout",
          "output_type": "stream",
          "text": [
            "17:23:57\n"
          ]
        }
      ]
    },
    {
      "cell_type": "code",
      "metadata": {
        "colab": {
          "base_uri": "https://localhost:8080/"
        },
        "id": "xYk0cuMPLL5h",
        "outputId": "6a400ca5-70bf-461b-82e8-76d1b7f8a3a5"
      },
      "source": [
        "print( read.split(':')[1] )"
      ],
      "execution_count": null,
      "outputs": [
        {
          "output_type": "stream",
          "name": "stdout",
          "text": [
            "23\n"
          ]
        }
      ]
    },
    {
      "cell_type": "markdown",
      "metadata": {
        "id": "8gi-48AoHDwh"
      },
      "source": [
        "## 6024\n",
        "- 공백으로 구분된 단어를 입력받아서 합쳐서 출력하기"
      ]
    },
    {
      "cell_type": "code",
      "metadata": {
        "colab": {
          "base_uri": "https://localhost:8080/"
        },
        "id": "yDGl-spQHJY2",
        "outputId": "eaba8279-a4c5-412e-b5ce-cfca5b2970a4"
      },
      "source": [
        "word1, word2 = 'hello world'.split()\n",
        "print( word1, word2 )\n",
        "print( word1 + word2 )"
      ],
      "execution_count": null,
      "outputs": [
        {
          "output_type": "stream",
          "name": "stdout",
          "text": [
            "hello world\n",
            "helloworld\n"
          ]
        }
      ]
    },
    {
      "cell_type": "markdown",
      "metadata": {
        "id": "lv8_-AxOHM3e"
      },
      "source": [
        "## 6025\n",
        "- 공백으로 구분되는 두 정수를 입력받아서 합 출력하기"
      ]
    },
    {
      "cell_type": "code",
      "metadata": {
        "colab": {
          "base_uri": "https://localhost:8080/"
        },
        "id": "bjkCjEt1Hz8Y",
        "outputId": "a1bdee74-3673-4396-fac5-038731f43c37"
      },
      "source": [
        "a, b = '123 -123'.split()\n",
        "print(a, b)\n",
        "print(int(a) + int(b))"
      ],
      "execution_count": null,
      "outputs": [
        {
          "output_type": "stream",
          "name": "stdout",
          "text": [
            "123 -123\n",
            "0\n"
          ]
        }
      ]
    },
    {
      "cell_type": "code",
      "metadata": {
        "colab": {
          "base_uri": "https://localhost:8080/"
        },
        "id": "H13f6YcDJOzI",
        "outputId": "6a0d35c4-1aaf-41e7-d3a5-eee6b9549089"
      },
      "source": [
        "a, b = map(int, '123 -123'.split())\n",
        "print( a + b )"
      ],
      "execution_count": null,
      "outputs": [
        {
          "output_type": "stream",
          "name": "stdout",
          "text": [
            "0\n"
          ]
        }
      ]
    },
    {
      "cell_type": "markdown",
      "metadata": {
        "id": "TUHfRzUVJ9ZY"
      },
      "source": [
        "## 6026\n",
        "- 6025번 문제와 동일한 문제입니다. \n",
        "- 이번엔 정수가 아닌 실수를 처리하는 문제가 됩니다. "
      ]
    },
    {
      "cell_type": "code",
      "metadata": {
        "colab": {
          "base_uri": "https://localhost:8080/"
        },
        "id": "EcF-QqR4KGSC",
        "outputId": "6376b2a5-398d-4340-c0cd-3934a6537bd1"
      },
      "source": [
        "a = float(input())\n",
        "b = float(input())\n",
        "print( a + b )"
      ],
      "execution_count": null,
      "outputs": [
        {
          "output_type": "stream",
          "name": "stdout",
          "text": [
            "0.1\n",
            "0.9\n",
            "1.0\n"
          ]
        }
      ]
    },
    {
      "cell_type": "markdown",
      "metadata": {
        "id": "csaQAVKWK6sw"
      },
      "source": [
        "> 테스트한 코드와 제출한 코드가 다르다면\n",
        "  - 테스트는 잘 되는데, 제출하면 틀린답이라고 뜬다면\n",
        "  - 예시로 주어진 입력에 대해서는 처리가 되는데, 예시로 주어지지 않은 입력에 대해서 처리하지 못하는 경우가 발생\n",
        "    - 오답이 되는 테스트 케이스를 찾아야 합니다. \n",
        "    - 대부분의 대회 문제들은 테스트 케이스를 공개하지 않습니다. \n",
        "    - 그래서, 오답이 되는 테스트 케이스를 찾아내는 것도 하나의 연습"
      ]
    },
    {
      "cell_type": "markdown",
      "metadata": {
        "id": "sE5eYwmxLW28"
      },
      "source": [
        "## 6027\n",
        "- 파이썬에서는 hex()함수를 이용하면 됩니다. \n",
        "- 문자열 포맷팅을 이용해서도 출력할 수 있습니다. \n",
        "  - f-string, format\n",
        "  - [포맷 문자열 문법](https://docs.python.org/ko/3/library/string.html#formatstrings)"
      ]
    },
    {
      "cell_type": "code",
      "metadata": {
        "colab": {
          "base_uri": "https://localhost:8080/",
          "height": 35
        },
        "id": "rw4A45P8L9UI",
        "outputId": "fb7da75e-5124-429a-af8c-7561743a47d5"
      },
      "source": [
        "hex(10)"
      ],
      "execution_count": null,
      "outputs": [
        {
          "output_type": "execute_result",
          "data": {
            "application/vnd.google.colaboratory.intrinsic+json": {
              "type": "string"
            },
            "text/plain": [
              "'0xa'"
            ]
          },
          "metadata": {},
          "execution_count": 10
        }
      ]
    },
    {
      "cell_type": "code",
      "metadata": {
        "colab": {
          "base_uri": "https://localhost:8080/",
          "height": 35
        },
        "id": "HFkMQNdMMRoh",
        "outputId": "d65348c8-7b60-40ab-815c-a49e40c92cd1"
      },
      "source": [
        "'{:x}'.format(10)"
      ],
      "execution_count": null,
      "outputs": [
        {
          "output_type": "execute_result",
          "data": {
            "application/vnd.google.colaboratory.intrinsic+json": {
              "type": "string"
            },
            "text/plain": [
              "'a'"
            ]
          },
          "metadata": {},
          "execution_count": 11
        }
      ]
    },
    {
      "cell_type": "code",
      "metadata": {
        "colab": {
          "base_uri": "https://localhost:8080/",
          "height": 35
        },
        "id": "ioBYT1fAMYSw",
        "outputId": "33780b9b-18c6-4723-8616-b58bede7b97c"
      },
      "source": [
        "f'{10:x}'"
      ],
      "execution_count": null,
      "outputs": [
        {
          "output_type": "execute_result",
          "data": {
            "application/vnd.google.colaboratory.intrinsic+json": {
              "type": "string"
            },
            "text/plain": [
              "'a'"
            ]
          },
          "metadata": {},
          "execution_count": 13
        }
      ]
    },
    {
      "cell_type": "code",
      "metadata": {
        "colab": {
          "base_uri": "https://localhost:8080/"
        },
        "id": "Zt2XWNGLNg06",
        "outputId": "7fa0dffb-80ef-4229-e52b-982d8056ff0b"
      },
      "source": [
        "a = int( input() )\n",
        "print( hex(a)[2:] )"
      ],
      "execution_count": null,
      "outputs": [
        {
          "output_type": "stream",
          "name": "stdout",
          "text": [
            "255\n",
            "ff\n"
          ]
        }
      ]
    },
    {
      "cell_type": "code",
      "metadata": {
        "colab": {
          "base_uri": "https://localhost:8080/"
        },
        "id": "PgofOTRcNu3p",
        "outputId": "a12b7bb5-ac55-436a-f28b-8ca0569b2f9e"
      },
      "source": [
        "a = int( input() )\n",
        "print( f'{a:x}' )"
      ],
      "execution_count": null,
      "outputs": [
        {
          "output_type": "stream",
          "name": "stdout",
          "text": [
            "255\n",
            "ff\n"
          ]
        }
      ]
    },
    {
      "cell_type": "markdown",
      "metadata": {
        "id": "P6NXcS8yOZOQ"
      },
      "source": [
        "## 6028\n",
        "- 6027번 문제와 동일한 문제 입니다. \n",
        "- 입력받은 10진수 정수를 16진수 대문자 형태로 출력"
      ]
    },
    {
      "cell_type": "code",
      "metadata": {
        "colab": {
          "base_uri": "https://localhost:8080/"
        },
        "id": "8bAMM95JRqNB",
        "outputId": "9dddd42a-c37d-4f0a-d9be-8847056799db"
      },
      "source": [
        "print( type( f'hello') )\n",
        "print( type( b'hello' ) )"
      ],
      "execution_count": null,
      "outputs": [
        {
          "output_type": "stream",
          "name": "stdout",
          "text": [
            "<class 'str'>\n",
            "<class 'bytes'>\n"
          ]
        }
      ]
    },
    {
      "cell_type": "code",
      "metadata": {
        "colab": {
          "base_uri": "https://localhost:8080/"
        },
        "id": "px4Zqf_CR8In",
        "outputId": "d4c75fd2-3461-48f0-9dac-3a2c8f9362d2"
      },
      "source": [
        "a = int( input() )\n",
        "print( hex(a)[2:].upper() )"
      ],
      "execution_count": null,
      "outputs": [
        {
          "output_type": "stream",
          "name": "stdout",
          "text": [
            "255\n",
            "FF\n"
          ]
        }
      ]
    },
    {
      "cell_type": "code",
      "metadata": {
        "colab": {
          "base_uri": "https://localhost:8080/"
        },
        "id": "IxvVgleiSftb",
        "outputId": "b9aff5ca-c7d9-4428-aa60-1d8a70cc73af"
      },
      "source": [
        "a = int( input() )\n",
        "print( f'{a:X}' )"
      ],
      "execution_count": null,
      "outputs": [
        {
          "output_type": "stream",
          "name": "stdout",
          "text": [
            "255\n",
            "FF\n"
          ]
        }
      ]
    },
    {
      "cell_type": "markdown",
      "metadata": {
        "id": "22iT3B3bS1aT"
      },
      "source": [
        "## 6029\n",
        "- 입력받은 10진수 정수를 8진수 형태로 출력하기\n",
        "- 8진수로 변환할 때는, oct()함수를 사용할 수 있습니다. \n",
        "- f-string, format을 사용할 때는 'o'를 사용해서 출력 포맷을 지정할 수 있습니다. "
      ]
    },
    {
      "cell_type": "code",
      "metadata": {
        "colab": {
          "base_uri": "https://localhost:8080/"
        },
        "id": "Sb1Y1IW_S5d2",
        "outputId": "63809f67-74ee-473f-8a07-a45796e8b3c8"
      },
      "source": [
        "int('a', base=16)"
      ],
      "execution_count": null,
      "outputs": [
        {
          "output_type": "execute_result",
          "data": {
            "text/plain": [
              "10"
            ]
          },
          "metadata": {},
          "execution_count": 39
        }
      ]
    },
    {
      "cell_type": "code",
      "metadata": {
        "colab": {
          "base_uri": "https://localhost:8080/"
        },
        "id": "ACcoSUyYUXtv",
        "outputId": "8750e0e0-6f0e-4ebf-851c-f180ca25306e"
      },
      "source": [
        "a = int( input(), base=16 )\n",
        "print(f'{a:o}')"
      ],
      "execution_count": null,
      "outputs": [
        {
          "output_type": "stream",
          "name": "stdout",
          "text": [
            "f\n",
            "17\n"
          ]
        }
      ]
    },
    {
      "cell_type": "markdown",
      "metadata": {
        "id": "e5-4P6pRV7KL"
      },
      "source": [
        "## 6030\n",
        "- 영문자 1개를 입력받아서 아스키 코드값 출력하기\n",
        "- 파이썬에서는 ord() 함수를 사용할 수 있습니다. "
      ]
    },
    {
      "cell_type": "code",
      "metadata": {
        "colab": {
          "base_uri": "https://localhost:8080/"
        },
        "id": "j3HWqU1AWBb2",
        "outputId": "f0de0e60-a988-4ce0-9b9d-accc10502b8f"
      },
      "source": [
        "a = input()\n",
        "print( ord(a) )"
      ],
      "execution_count": null,
      "outputs": [
        {
          "output_type": "stream",
          "name": "stdout",
          "text": [
            "A\n",
            "65\n"
          ]
        }
      ]
    },
    {
      "cell_type": "markdown",
      "metadata": {
        "id": "FR6vfVMTWCLb"
      },
      "source": [
        "## 6031\n",
        "- 정수 입력받아서 문자로 변환해서 출력하기"
      ]
    },
    {
      "cell_type": "code",
      "metadata": {
        "colab": {
          "base_uri": "https://localhost:8080/",
          "height": 35
        },
        "id": "93SOwDqMW5uj",
        "outputId": "2fabad6e-915f-4b01-cb81-877bebbf0d33"
      },
      "source": [
        "chr(65)"
      ],
      "execution_count": null,
      "outputs": [
        {
          "output_type": "execute_result",
          "data": {
            "application/vnd.google.colaboratory.intrinsic+json": {
              "type": "string"
            },
            "text/plain": [
              "'A'"
            ]
          },
          "metadata": {},
          "execution_count": 44
        }
      ]
    },
    {
      "cell_type": "code",
      "metadata": {
        "colab": {
          "base_uri": "https://localhost:8080/"
        },
        "id": "UNX6q5T_XuY9",
        "outputId": "eeb5ccdb-ddf5-4528-b217-a3c45c4b9631"
      },
      "source": [
        "a = int( input() )\n",
        "print( chr(a) )"
      ],
      "execution_count": null,
      "outputs": [
        {
          "output_type": "stream",
          "name": "stdout",
          "text": [
            "65\n",
            "A\n"
          ]
        }
      ]
    },
    {
      "cell_type": "markdown",
      "metadata": {
        "id": "kVAs_BoCXxvz"
      },
      "source": [
        "## 6032\n",
        "- 입력된 정수의 부호를 바꿔서 출력하기"
      ]
    },
    {
      "cell_type": "code",
      "metadata": {
        "colab": {
          "base_uri": "https://localhost:8080/"
        },
        "id": "CTKoJsblX80g",
        "outputId": "fed7b4ea-9b2b-40c7-9c02-8dc9f4d5b362"
      },
      "source": [
        "a = -3\n",
        "-a"
      ],
      "execution_count": null,
      "outputs": [
        {
          "output_type": "execute_result",
          "data": {
            "text/plain": [
              "3"
            ]
          },
          "metadata": {},
          "execution_count": 46
        }
      ]
    },
    {
      "cell_type": "markdown",
      "metadata": {
        "id": "nL-c7M05YBn6"
      },
      "source": [
        "## 6033\n",
        "- 입력된 문자의 다음 문자 출력하기\n",
        "  - 알파벳 순으로 했을 때, 다음에 오는 문자"
      ]
    },
    {
      "cell_type": "code",
      "metadata": {
        "colab": {
          "base_uri": "https://localhost:8080/"
        },
        "id": "96Hz4xFVYrqo",
        "outputId": "16a793c6-a619-4e86-eb34-a9ffd232f288"
      },
      "source": [
        "a = 'a'\n",
        "next = ord(a) + 1\n",
        "print( chr(next) )"
      ],
      "execution_count": null,
      "outputs": [
        {
          "output_type": "stream",
          "name": "stdout",
          "text": [
            "b\n"
          ]
        }
      ]
    },
    {
      "cell_type": "code",
      "metadata": {
        "colab": {
          "base_uri": "https://localhost:8080/"
        },
        "id": "P-2DCRyQaFLF",
        "outputId": "8fc0d1ff-1ae8-46c9-f1f9-efd7fef25913"
      },
      "source": [
        "a = input()\n",
        "next = ord(a) + 1\n",
        "print( chr(next) )"
      ],
      "execution_count": null,
      "outputs": [
        {
          "output_type": "stream",
          "name": "stdout",
          "text": [
            "a\n",
            "b\n"
          ]
        }
      ]
    },
    {
      "cell_type": "markdown",
      "metadata": {
        "id": "wXhNBZNiiW9h"
      },
      "source": [
        "## 소수점 처리\n",
        "- 소수에 대한 버림/반올림/올림"
      ]
    },
    {
      "cell_type": "code",
      "metadata": {
        "colab": {
          "base_uri": "https://localhost:8080/"
        },
        "id": "PYWeUut2kzE7",
        "outputId": "7db7c1ca-dbca-4002-f167-2f347c131419"
      },
      "source": [
        "import math\n",
        "\n",
        "n = 12.12121212\n",
        "print(f'소수: {n}')\n",
        "\n",
        "print( f'버림: {int(n)}' )\n",
        "print( f'버림: {math.trunc(n)}' )\n",
        "print( f'버림: {math.floor(n)}' )\n",
        "\n",
        "print( f'올림: {math.ceil(n)}' )\n",
        "\n",
        "digit = 2 # 소수점 이하 2자리\n",
        "print( f'자리수 올림: {math.ceil(n * 10 ** digit) / 10 ** digit}' )\n",
        "print( f'자리수 버림: {math.floor(n * 10 ** digit) / 10 ** digit}' )\n",
        "\n",
        "print( f'자리수 반올림: {round(n, digit)}' )"
      ],
      "execution_count": null,
      "outputs": [
        {
          "output_type": "stream",
          "name": "stdout",
          "text": [
            "소수: 12.12121212\n",
            "버림: 12\n",
            "버림: 12\n",
            "버림: 12\n",
            "올림: 13\n",
            "자리수 올림: 12.13\n",
            "자리수 버림: 12.12\n",
            "자리수 반올림: 12.12\n"
          ]
        }
      ]
    },
    {
      "cell_type": "markdown",
      "metadata": {
        "id": "3yqFHwosn69h"
      },
      "source": [
        "문자열 포맷팅을 이용한 반올림 처리"
      ]
    },
    {
      "cell_type": "code",
      "metadata": {
        "colab": {
          "base_uri": "https://localhost:8080/",
          "height": 35
        },
        "id": "mGGK8q15ob7Q",
        "outputId": "ae7f7d46-495f-4fbe-d458-d50c7ca2ddf2"
      },
      "source": [
        "# 소수점 이하 자리를 0까지 포함해서 표현을 하고 싶은 경우\n",
        "# 포맷팅을 이용하면 해결할 수 있습니다.\n",
        "f'{12:.2f}'"
      ],
      "execution_count": null,
      "outputs": [
        {
          "output_type": "execute_result",
          "data": {
            "application/vnd.google.colaboratory.intrinsic+json": {
              "type": "string"
            },
            "text/plain": [
              "'12.00'"
            ]
          },
          "metadata": {},
          "execution_count": 66
        }
      ]
    },
    {
      "cell_type": "markdown",
      "metadata": {
        "id": "jSug04xH8B5g"
      },
      "source": [
        "## 6043\n",
        "- 실수 2개를 입력받아서 나눈값을 소수점 3째자리 까지 반올림해서 출력\n",
        "- 소수점 이하 자릿수까지 채점을 하는 경우에는 문자열 포맷팅을 이용해서 해결"
      ]
    },
    {
      "cell_type": "code",
      "metadata": {
        "colab": {
          "base_uri": "https://localhost:8080/"
        },
        "id": "RjtZVQAk8KQt",
        "outputId": "8b370005-3aba-4db0-f7a8-804330f84773"
      },
      "source": [
        "a, b = map(float, input().split())\n",
        "print( f'{a/b:.3f}' )"
      ],
      "execution_count": null,
      "outputs": [
        {
          "output_type": "stream",
          "name": "stdout",
          "text": [
            "10.0 3.0\n",
            "3.333\n"
          ]
        }
      ]
    },
    {
      "cell_type": "markdown",
      "metadata": {
        "id": "POk3UhIe8TFA"
      },
      "source": [
        "## 6056\n",
        "- XOR\n",
        "  - 베타적 논리 합: 논리연산의 한 종류\n",
        "    - 두 명제의 결과가 다른 경우에만 참이 되는 연산\n",
        "  - 파이썬에서 제공하지 않는 논리연산 입니다. \n",
        "    - and, or, not의 3가지 연산자만 제공\n",
        "    - 다른 모든 논리연산은 이 3가지의 조합으로 표현\n",
        "- 두 명제가 서로 다를경우에만 참이 되는 연산\n",
        "- 정수에 대한 불리언 연산\n",
        "  - 파이썬의 모든 객체는 참, 거짓으로 구분 가능\n",
        "  - 거짓이 되는 경우: 0 또는 빈 객체"
      ]
    },
    {
      "cell_type": "code",
      "metadata": {
        "colab": {
          "base_uri": "https://localhost:8080/"
        },
        "id": "kqv8mYriBzJI",
        "outputId": "1695455a-ddd7-4401-b235-61cd58ea82e7"
      },
      "source": [
        "a, b = map(int, input().split() )\n",
        "a = bool(a)\n",
        "b = bool(b)\n",
        "\n",
        "# 결국 이 문제는 and, or, not의 조합으로 xor를 구현하는 문제\n",
        "# xor 뿐만이 아니라 다른 모든 논리연산들은 전부 and, or, not의 조합으로 표현 가능\n",
        "print( (a and not b) or (not a and b) )"
      ],
      "execution_count": null,
      "outputs": [
        {
          "output_type": "stream",
          "name": "stdout",
          "text": [
            "1 0\n",
            "True\n"
          ]
        }
      ]
    },
    {
      "cell_type": "markdown",
      "metadata": {
        "id": "ELggddJFKI1L"
      },
      "source": [
        "## 6065\n",
        "- 입력받은 3개의 수 중에서 짝수만 출력"
      ]
    },
    {
      "cell_type": "code",
      "metadata": {
        "colab": {
          "base_uri": "https://localhost:8080/"
        },
        "id": "Jc0wcKj5KOl8",
        "outputId": "78f038eb-6fae-46de-888d-eaf86cc230f5"
      },
      "source": [
        "a, b, c = map(int, input().split())\n",
        "\n",
        "# 아래의 코드가 이해되시나요? \n",
        "# if not a % 2: print(a)\n",
        "# if not b % 2: print(b)\n",
        "# if not c % 2: print(c)\n",
        "\n",
        "# 결과는 동일하게 나오게 됩니다.\n",
        "if a % 2 == 0: print(a)\n",
        "if b % 2 == 0: print(b)\n",
        "if c % 2 == 0 : print(c)"
      ],
      "execution_count": null,
      "outputs": [
        {
          "output_type": "stream",
          "name": "stdout",
          "text": [
            "1 2 4\n",
            "2\n",
            "4\n"
          ]
        }
      ]
    },
    {
      "cell_type": "markdown",
      "metadata": {
        "id": "uiRYPot7lGil"
      },
      "source": [
        "## 6068\n",
        "- 정수를 입력받아서 범위에 해당하는 평가 결과를 출력"
      ]
    },
    {
      "cell_type": "code",
      "metadata": {
        "colab": {
          "base_uri": "https://localhost:8080/"
        },
        "id": "PC2fOGrqlKZV",
        "outputId": "1aaa6e69-87cc-4487-c11d-dcce9a3a8edb"
      },
      "source": [
        "n = int( input() )\n",
        "\n",
        "if 90 <= n <= 100:\n",
        "  print('A')\n",
        "elif 70 <= n <= 89:\n",
        "  print('B')\n",
        "elif 40 <= n <= 69:\n",
        "  print('C')\n",
        "else:\n",
        "  print('D')"
      ],
      "execution_count": null,
      "outputs": [
        {
          "output_type": "stream",
          "name": "stdout",
          "text": [
            "73\n",
            "B\n"
          ]
        }
      ]
    },
    {
      "cell_type": "markdown",
      "metadata": {
        "id": "3pjYWNEllxWo"
      },
      "source": [
        "## 6069\n",
        "- 6068번 동일한 문제 입니다. \n",
        "- 문자를 입력받아서 문자에 해당하는 출력"
      ]
    },
    {
      "cell_type": "code",
      "metadata": {
        "colab": {
          "base_uri": "https://localhost:8080/"
        },
        "id": "Zi84DkNfl8LD",
        "outputId": "83a4fe6e-aa18-4373-8dee-7bf01ab334c1"
      },
      "source": [
        "ch = input()\n",
        "\n",
        "if ch == 'A':\n",
        "  print('best!!!')\n",
        "elif ch == 'B':\n",
        "  print('good!!')\n",
        "elif ch == 'C':\n",
        "  print('run!')\n",
        "elif ch == 'D':\n",
        "  print('slowly~')\n",
        "else:\n",
        "  print('what?')"
      ],
      "execution_count": null,
      "outputs": [
        {
          "output_type": "stream",
          "name": "stdout",
          "text": [
            "A\n",
            "best!!!\n"
          ]
        }
      ]
    },
    {
      "cell_type": "markdown",
      "metadata": {
        "id": "sdjt5DRRpnyS"
      },
      "source": [
        "## 6070\n",
        "- 입력받은 월에 대한 계절을 출력하는 문제\n",
        "- 입력은 1에서 12 사이의 자연수만 입력으로 주어진다. "
      ]
    },
    {
      "cell_type": "code",
      "metadata": {
        "colab": {
          "base_uri": "https://localhost:8080/"
        },
        "id": "VDoN-KtfprXK",
        "outputId": "cca513f5-bc4d-4da5-e681-07c1c2b69e0a"
      },
      "source": [
        "n = int( input() )\n",
        "\n",
        "# if n == 12 or n == 1 or n == 2:\n",
        "#   print('winter')\n",
        "\n",
        "if n // 3 == 1: print('spring')\n",
        "elif n // 3 == 2: print('summer')\n",
        "elif n // 3 == 3: print('fall')\n",
        "else: print('winter')"
      ],
      "execution_count": null,
      "outputs": [
        {
          "output_type": "stream",
          "name": "stdout",
          "text": [
            "12\n",
            "winter\n"
          ]
        }
      ]
    },
    {
      "cell_type": "markdown",
      "metadata": {
        "id": "zwepgEVaV8K-"
      },
      "source": [
        "## 6071\n",
        "- 모든 입력을 한 번에 받아서 일괄적으로 처리할 필요가 없습니다. \n",
        "  - 각각의 주어진 입력을 서로 다른 테스트 케이스로 보고 각각 처리를 해주면 됩니다. "
      ]
    },
    {
      "cell_type": "code",
      "metadata": {
        "colab": {
          "base_uri": "https://localhost:8080/"
        },
        "id": "Xyx28k1sWGKO",
        "outputId": "c494ebc7-8855-4364-ebf0-0537c2e3b73f"
      },
      "source": [
        "# 입력이 얼마나 주어질지 알 수 없다. \n",
        "# 0이 입력되면 더 이상 입력을 받지 않아도 된다. \n",
        "\n",
        "while True:\n",
        "  n = int( input() )\n",
        "  if n != 0:\n",
        "    print(n)\n",
        "  else:\n",
        "    break # 0이 입력되면 더 이상 처리할 필요가 없습니다."
      ],
      "execution_count": null,
      "outputs": [
        {
          "name": "stdout",
          "output_type": "stream",
          "text": [
            "1\n",
            "1\n",
            "10\n",
            "10\n",
            "0\n"
          ]
        }
      ]
    },
    {
      "cell_type": "markdown",
      "metadata": {
        "id": "5zarwRTJw1aN"
      },
      "source": [
        "## for Vs. while\n",
        "- for\n",
        "  - 이터레이블 객체에 대해서 반복적인 연산이 가능\n",
        "  - 반드시 이터레이블 객체가 있어야 합니다.\n",
        "  - 파이썬을 제외한 언어들은 for와 while의 구분이 없는 경우가 더 많습니다. \n",
        "  - 대신에 다른 언어들은 파이썬 for와 유사한 `for-each`라는 문법이 따로 존재하는 경우도 있습니다. \n",
        "\n",
        "- while\n",
        "  - 이터레이블이 아닌 경우에 반복이 필요하다면 사용"
      ]
    },
    {
      "cell_type": "markdown",
      "metadata": {
        "id": "F7gOADaayC-m"
      },
      "source": [
        "# 중첩루프"
      ]
    },
    {
      "cell_type": "code",
      "metadata": {
        "colab": {
          "base_uri": "https://localhost:8080/"
        },
        "id": "pOcKcjO5yFMu",
        "outputId": "c837b7a3-102f-416e-df86-9bf0133732c9"
      },
      "source": [
        "# 중첩 루프가 아닙니다. \n",
        "for n in range(2, 10):\n",
        "  print(n, end=' ')\n",
        "\n",
        "print()\n",
        "\n",
        "for i in range(1, 10):\n",
        "  print(i, end=' ')"
      ],
      "execution_count": null,
      "outputs": [
        {
          "output_type": "stream",
          "name": "stdout",
          "text": [
            "2 3 4 5 6 7 8 9 \n",
            "1 2 3 4 5 6 7 8 9 "
          ]
        }
      ]
    },
    {
      "cell_type": "code",
      "metadata": {
        "colab": {
          "base_uri": "https://localhost:8080/"
        },
        "id": "WIiv5Xm0yNEM",
        "outputId": "cbbc9648-09d7-4015-ec96-d70c52430318"
      },
      "source": [
        "for n in range(2, 10):\n",
        "  print(n, end=' ')\n",
        "  print()\n",
        "\n",
        "  for i in range(1, 10):\n",
        "    print(i, end=' ')\n",
        "  print()"
      ],
      "execution_count": null,
      "outputs": [
        {
          "output_type": "stream",
          "name": "stdout",
          "text": [
            "2 \n",
            "1 2 3 4 5 6 7 8 9 \n",
            "3 \n",
            "1 2 3 4 5 6 7 8 9 \n",
            "4 \n",
            "1 2 3 4 5 6 7 8 9 \n",
            "5 \n",
            "1 2 3 4 5 6 7 8 9 \n",
            "6 \n",
            "1 2 3 4 5 6 7 8 9 \n",
            "7 \n",
            "1 2 3 4 5 6 7 8 9 \n",
            "8 \n",
            "1 2 3 4 5 6 7 8 9 \n",
            "9 \n",
            "1 2 3 4 5 6 7 8 9 \n"
          ]
        }
      ]
    },
    {
      "cell_type": "markdown",
      "metadata": {
        "id": "pQceoIJjw_9V"
      },
      "source": [
        "# 백준"
      ]
    },
    {
      "cell_type": "markdown",
      "metadata": {
        "id": "p4WNWN-Yz-Tn"
      },
      "source": [
        "## A + B - (1 ~ 8)\n",
        "- 알고리즘 문제 또는 코딩 테스트에서 나올 수 있는 거의 모든 표준 입력 형태를 다룹니다. \n",
        "- 이 문제들의 입력을 처리할 수 있으면, 대부분의 표준 입력은 처리가 가능할 겁니다. \n",
        "\n",
        "- 문제 4번은 `EOF`에 대한 예외처리 문제 입니다"
      ]
    },
    {
      "cell_type": "markdown",
      "metadata": {
        "id": "1h4X2A_D0CM8"
      },
      "source": [
        "## 별찍기 - (1 ~ 8)\n",
        "- 도전해볼만한 문제들 입니다. \n",
        "- 수업시간에는 5번까지만 해볼건데 반복문 연습을 위해서라도 나머지 문제들도 꼭 풀어보시길 바랍니다. "
      ]
    },
    {
      "cell_type": "markdown",
      "metadata": {
        "id": "Ktkql2YaIU4m"
      },
      "source": [
        "### 중첩루프"
      ]
    },
    {
      "cell_type": "markdown",
      "metadata": {
        "id": "7nGpTioNIkqU"
      },
      "source": [
        "#### 별찍기 - 1\n",
        "\n",
        "```\n",
        "*\n",
        "**\n",
        "***\n",
        "****\n",
        "*****\n",
        "\n",
        "```"
      ]
    },
    {
      "cell_type": "code",
      "metadata": {
        "id": "6YMcfF1nIm3q"
      },
      "source": [
        "# 제출 할 때에는 n을 표준입력으로 받아서 처리\n",
        "# 수업시간에는 n = 5라고 가정하고 진행\n",
        "n = 5\n",
        "\n",
        "for i in range(n):\n",
        "  for j in range(i+1):\n",
        "    print('*', end='')\n",
        "  print()"
      ],
      "execution_count": null,
      "outputs": []
    },
    {
      "cell_type": "markdown",
      "metadata": {
        "id": "jp8b4hXpOWAD"
      },
      "source": [
        "#### 별찍기 - 2\n",
        "- 공백도 같이 고려해서 출력\n",
        "\n",
        "```\n",
        "    *\n",
        "   **\n",
        "  ***\n",
        " ****\n",
        "*****\n",
        "```"
      ]
    },
    {
      "cell_type": "code",
      "metadata": {
        "id": "9qLSvl9vUHjm"
      },
      "source": [
        "n = 5\n",
        "\n",
        "for i in range(n):\n",
        "    \n",
        "  # 공백 출력\n",
        "  for k in range(n-i-1):\n",
        "    print(' ', end='')\n",
        "    \n",
        "  # 별을 출력\n",
        "  for j in range(i+1):\n",
        "    print('*', end='')\n",
        "  print()"
      ],
      "execution_count": null,
      "outputs": []
    },
    {
      "cell_type": "markdown",
      "metadata": {
        "id": "yDgZewhUU64p"
      },
      "source": [
        "#### 별찍기 - 3\n",
        "- 별찍기 - 1번 문제와 동일한 문제\n",
        "- 이번엔 반대로 찍어야합니다. \n",
        "  - 별찍기 - 2번의 공백 출력을 응용해볼게요!\n",
        "  - 별찍기 - 2번의 공백 패턴과 이번 문제의 별 패턴이 유사 합니다. \n",
        "\n",
        "```\n",
        "*****\n",
        "****\n",
        "***\n",
        "**\n",
        "*\n",
        "```"
      ]
    },
    {
      "cell_type": "code",
      "metadata": {
        "colab": {
          "base_uri": "https://localhost:8080/"
        },
        "id": "KLzCL-a8VPoK",
        "outputId": "653d7203-86f5-4ebf-dcf2-e789efcfddcc"
      },
      "source": [
        "n = 5\n",
        "\n",
        "for i in range(n):\n",
        "  for j in range(n-i):\n",
        "    print('*', end='')\n",
        "  print()\n",
        "\n",
        "print() \n",
        "\n",
        "for i in range(n, 0, -1):\n",
        "  for j in range(i):\n",
        "    print('*', end='')\n",
        "  print()"
      ],
      "execution_count": null,
      "outputs": [
        {
          "output_type": "stream",
          "name": "stdout",
          "text": [
            "*****\n",
            "****\n",
            "***\n",
            "**\n",
            "*\n",
            "\n",
            "*****\n",
            "****\n",
            "***\n",
            "**\n",
            "*\n"
          ]
        }
      ]
    },
    {
      "cell_type": "markdown",
      "metadata": {
        "id": "KjisplO5XUjf"
      },
      "source": [
        "#### 별찍기 - 4\n",
        "- 공백을 출력하는 패턴을 고려하면 됩니다.\n",
        "\n",
        "```\n",
        "*****\n",
        " ****\n",
        "  ***\n",
        "   **\n",
        "    *\n",
        "```"
      ]
    },
    {
      "cell_type": "code",
      "metadata": {
        "colab": {
          "base_uri": "https://localhost:8080/"
        },
        "id": "yC8hLrSXXcQD",
        "outputId": "b697cfd0-64f0-4781-ca0b-5702039d235f"
      },
      "source": [
        "n = 5\n",
        "for i in range(n, 0, -1):\n",
        "  for k in range(n-i):\n",
        "    print(' ', end='')\n",
        "\n",
        "  for j in range(i):\n",
        "    print('*', end='')\n",
        "  print()\n",
        "\n",
        "print()\n",
        "\n",
        "for i in range(n):\n",
        "  for k in range(i):\n",
        "    print(' ', end='')\n",
        "\n",
        "  for j in range(n-i):\n",
        "    print('*', end='')\n",
        "  print()"
      ],
      "execution_count": null,
      "outputs": [
        {
          "output_type": "stream",
          "name": "stdout",
          "text": [
            "*****\n",
            " ****\n",
            "  ***\n",
            "   **\n",
            "    *\n",
            "\n",
            "*****\n",
            " ****\n",
            "  ***\n",
            "   **\n",
            "    *\n"
          ]
        }
      ]
    },
    {
      "cell_type": "markdown",
      "metadata": {
        "id": "dg3InShxgAjg"
      },
      "source": [
        "#### 별찍기 - 5\n",
        "- 정삼각형처럼 보이는 별찍기\n",
        "\n",
        "```\n",
        "    *\n",
        "   ***\n",
        "  *****\n",
        " *******\n",
        "*********\n",
        "```"
      ]
    },
    {
      "cell_type": "code",
      "metadata": {
        "id": "5hmiLcW3ivt_"
      },
      "source": [
        "n = 5\n",
        "\n",
        "for i in range(1, n+1):\n",
        "  # 공백\n",
        "  for k in range(n-i): \n",
        "    print(' ', end='')\n",
        "\n",
        "  # 별\n",
        "  for j in range( 2 * i - 1 ):\n",
        "    print('*', end='')\n",
        "  print()"
      ],
      "execution_count": null,
      "outputs": []
    },
    {
      "cell_type": "markdown",
      "metadata": {
        "id": "XQssi4eLIWv8"
      },
      "source": [
        "### 리스트"
      ]
    },
    {
      "cell_type": "code",
      "metadata": {
        "colab": {
          "base_uri": "https://localhost:8080/"
        },
        "id": "9nzVXBPfIcU4",
        "outputId": "bd6eb06d-3543-42f9-a343-7bd2ac7745aa"
      },
      "source": [
        "type(None)"
      ],
      "execution_count": null,
      "outputs": [
        {
          "output_type": "execute_result",
          "data": {
            "text/plain": [
              "NoneType"
            ]
          },
          "metadata": {},
          "execution_count": 9
        }
      ]
    }
  ]
}